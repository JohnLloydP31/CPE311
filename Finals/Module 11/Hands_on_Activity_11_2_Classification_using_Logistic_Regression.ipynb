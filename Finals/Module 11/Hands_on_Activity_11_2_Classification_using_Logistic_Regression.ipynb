{
  "nbformat": 4,
  "nbformat_minor": 0,
  "metadata": {
    "colab": {
      "provenance": []
    },
    "kernelspec": {
      "name": "python3",
      "display_name": "Python 3"
    },
    "language_info": {
      "name": "python"
    }
  },
  "cells": [
    {
      "cell_type": "markdown",
      "source": [
        "#Hands-on Activity 11.2 Classification using Logistic Regression"
      ],
      "metadata": {
        "id": "N4gG5EJCISyb"
      }
    },
    {
      "cell_type": "markdown",
      "source": [
        "##Objective(s):\n",
        "This activity aims to demonstrate how to apply simple linear regression analysis to solve regression problem\n",
        "\n"
      ],
      "metadata": {
        "id": "EsJK0GugICUw"
      }
    },
    {
      "cell_type": "markdown",
      "source": [
        "##Intended Learning Outcomes (ILOs):\n",
        "- Demonstrate how to solve classification problems using Logistic Regression\n",
        "- Use the logistic regression model to perform classification"
      ],
      "metadata": {
        "id": "X1vhfrmNIJKN"
      }
    },
    {
      "cell_type": "code",
      "execution_count": null,
      "metadata": {
        "colab": {
          "base_uri": "https://localhost:8080/"
        },
        "id": "uh3Qi3L_d1zQ",
        "outputId": "b4fe1100-c490-4892-a531-254f8a9f5c46"
      },
      "outputs": [
        {
          "output_type": "stream",
          "name": "stdout",
          "text": [
            "Collecting ucimlrepo\n",
            "  Downloading ucimlrepo-0.0.6-py3-none-any.whl (8.0 kB)\n",
            "Installing collected packages: ucimlrepo\n",
            "Successfully installed ucimlrepo-0.0.6\n"
          ]
        }
      ],
      "source": [
        "pip install ucimlrepo"
      ]
    },
    {
      "cell_type": "code",
      "source": [
        "from ucimlrepo import fetch_ucirepo\n",
        "\n",
        "# fetch dataset\n",
        "cervical_cancer_risk_factors = fetch_ucirepo(id=383)\n",
        "\n",
        "# data (as pandas dataframes)\n",
        "X = cervical_cancer_risk_factors.data.features\n",
        "y = cervical_cancer_risk_factors.data.targets\n",
        "\n",
        "# metadata\n",
        "print(cervical_cancer_risk_factors.metadata)\n",
        "\n",
        "# variable information\n",
        "print(cervical_cancer_risk_factors.variables)"
      ],
      "metadata": {
        "colab": {
          "base_uri": "https://localhost:8080/"
        },
        "id": "ofN7bMG1d-TW",
        "outputId": "194b85ab-8da6-4d43-c8bf-90e7bc1b54ff"
      },
      "execution_count": null,
      "outputs": [
        {
          "output_type": "stream",
          "name": "stdout",
          "text": [
            "{'uci_id': 383, 'name': 'Cervical Cancer (Risk Factors)', 'repository_url': 'https://archive.ics.uci.edu/dataset/383/cervical+cancer+risk+factors', 'data_url': 'https://archive.ics.uci.edu/static/public/383/data.csv', 'abstract': 'This dataset focuses on the prediction of indicators/diagnosis of cervical cancer. The features cover demographic information, habits, and historic medical records.', 'area': 'Health and Medicine', 'tasks': ['Classification'], 'characteristics': ['Multivariate'], 'num_instances': 858, 'num_features': 36, 'feature_types': ['Integer', 'Real'], 'demographics': ['Age', 'Other'], 'target_col': None, 'index_col': None, 'has_missing_values': 'yes', 'missing_values_symbol': 'NaN', 'year_of_dataset_creation': 2017, 'last_updated': 'Sun Mar 10 2024', 'dataset_doi': '10.24432/C5Z310', 'creators': ['Kelwin Fernandes', 'Jaime Cardoso', 'Jessica Fernandes'], 'intro_paper': {'title': 'Transfer Learning with Partial Observability Applied to Cervical Cancer Screening', 'authors': 'Kelwin Fernandes, Jaime S. Cardoso, Jessica C. Fernandes', 'published_in': 'Iberian Conference on Pattern Recognition and Image Analysis', 'year': 2017, 'url': 'https://www.semanticscholar.org/paper/Transfer-Learning-with-Partial-Observability-to-Fernandes-Cardoso/1c02438ba4dfa775399ba414508e9cd335b69012', 'doi': None}, 'additional_info': {'summary': \"The dataset was collected at 'Hospital Universitario de Caracas' in Caracas, Venezuela. The dataset comprises demographic information, habits, and historic medical records of 858 patients. Several patients decided not to answer some of the questions because of privacy concerns (missing values).\", 'purpose': None, 'funded_by': None, 'instances_represent': None, 'recommended_data_splits': None, 'sensitive_data': None, 'preprocessing_description': None, 'variable_info': '(int) Age\\r\\n(int) Number of sexual partners\\r\\n(int) First sexual intercourse (age)\\r\\n(int) Num of pregnancies\\r\\n(bool) Smokes\\r\\n(bool) Smokes (years)\\r\\n(bool) Smokes (packs/year)\\r\\n(bool) Hormonal Contraceptives\\r\\n(int) Hormonal Contraceptives (years)\\r\\n(bool) IUD\\r\\n(int) IUD (years)\\r\\n(bool) STDs\\r\\n(int) STDs (number)\\r\\n(bool) STDs:condylomatosis\\r\\n(bool) STDs:cervical condylomatosis\\r\\n(bool) STDs:vaginal condylomatosis\\r\\n(bool) STDs:vulvo-perineal condylomatosis\\r\\n(bool) STDs:syphilis\\r\\n(bool) STDs:pelvic inflammatory disease\\r\\n(bool) STDs:genital herpes\\r\\n(bool) STDs:molluscum contagiosum\\r\\n(bool) STDs:AIDS\\r\\n(bool) STDs:HIV\\r\\n(bool) STDs:Hepatitis B\\r\\n(bool) STDs:HPV\\r\\n(int) STDs: Number of diagnosis\\r\\n(int) STDs: Time since first diagnosis\\r\\n(int) STDs: Time since last diagnosis\\r\\n(bool) Dx:Cancer\\r\\n(bool) Dx:CIN\\r\\n(bool) Dx:HPV\\r\\n(bool) Dx\\r\\n(bool) Hinselmann: target variable\\r\\n(bool) Schiller: target variable\\r\\n(bool) Cytology: target variable\\r\\n(bool) Biopsy: target variable', 'citation': None}}\n",
            "                                  name     role        type demographic  \\\n",
            "0                                  Age  Feature     Integer         Age   \n",
            "1            Number of sexual partners  Feature  Continuous       Other   \n",
            "2             First sexual intercourse  Feature  Continuous        None   \n",
            "3                   Num of pregnancies  Feature  Continuous        None   \n",
            "4                               Smokes  Feature  Continuous        None   \n",
            "5                       Smokes (years)  Feature  Continuous        None   \n",
            "6                  Smokes (packs/year)  Feature  Continuous        None   \n",
            "7              Hormonal Contraceptives  Feature  Continuous        None   \n",
            "8      Hormonal Contraceptives (years)  Feature  Continuous        None   \n",
            "9                                  IUD  Feature  Continuous        None   \n",
            "10                         IUD (years)  Feature  Continuous        None   \n",
            "11                                STDs  Feature  Continuous        None   \n",
            "12                       STDs (number)  Feature  Continuous        None   \n",
            "13                 STDs:condylomatosis  Feature  Continuous        None   \n",
            "14        STDs:cervical condylomatosis  Feature  Continuous        None   \n",
            "15         STDs:vaginal condylomatosis  Feature  Continuous        None   \n",
            "16  STDs:vulvo-perineal condylomatosis  Feature  Continuous        None   \n",
            "17                       STDs:syphilis  Feature  Continuous        None   \n",
            "18    STDs:pelvic inflammatory disease  Feature  Continuous        None   \n",
            "19                 STDs:genital herpes  Feature  Continuous        None   \n",
            "20          STDs:molluscum contagiosum  Feature  Continuous        None   \n",
            "21                           STDs:AIDS  Feature  Continuous        None   \n",
            "22                            STDs:HIV  Feature  Continuous        None   \n",
            "23                    STDs:Hepatitis B  Feature  Continuous        None   \n",
            "24                            STDs:HPV  Feature  Continuous        None   \n",
            "25           STDs: Number of diagnosis  Feature     Integer        None   \n",
            "26    STDs: Time since first diagnosis  Feature  Continuous        None   \n",
            "27     STDs: Time since last diagnosis  Feature  Continuous        None   \n",
            "28                           Dx:Cancer  Feature     Integer        None   \n",
            "29                              Dx:CIN  Feature     Integer        None   \n",
            "30                              Dx:HPV  Feature     Integer        None   \n",
            "31                                  Dx  Feature     Integer        None   \n",
            "32                          Hinselmann  Feature     Integer        None   \n",
            "33                            Schiller  Feature     Integer        None   \n",
            "34                            Citology  Feature     Integer        None   \n",
            "35                              Biopsy  Feature     Integer        None   \n",
            "\n",
            "   description units missing_values  \n",
            "0         None  None             no  \n",
            "1         None  None            yes  \n",
            "2         None  None            yes  \n",
            "3         None  None            yes  \n",
            "4         None  None            yes  \n",
            "5         None  None            yes  \n",
            "6         None  None            yes  \n",
            "7         None  None            yes  \n",
            "8         None  None            yes  \n",
            "9         None  None            yes  \n",
            "10        None  None            yes  \n",
            "11        None  None            yes  \n",
            "12        None  None            yes  \n",
            "13        None  None            yes  \n",
            "14        None  None            yes  \n",
            "15        None  None            yes  \n",
            "16        None  None            yes  \n",
            "17        None  None            yes  \n",
            "18        None  None            yes  \n",
            "19        None  None            yes  \n",
            "20        None  None            yes  \n",
            "21        None  None            yes  \n",
            "22        None  None            yes  \n",
            "23        None  None            yes  \n",
            "24        None  None            yes  \n",
            "25        None  None             no  \n",
            "26        None  None            yes  \n",
            "27        None  None            yes  \n",
            "28        None  None             no  \n",
            "29        None  None             no  \n",
            "30        None  None             no  \n",
            "31        None  None             no  \n",
            "32        None  None             no  \n",
            "33        None  None             no  \n",
            "34        None  None             no  \n",
            "35        None  None             no  \n"
          ]
        }
      ]
    },
    {
      "cell_type": "code",
      "source": [
        "# This Python 3 environment comes with many helpful analytics libraries installed\n",
        "# It is defined by the kaggle/python docker image: https://github.com/kaggle/docker-python\n",
        "\n",
        "# For example, here's several helpful packages to Load in\n",
        "\n",
        "import numpy as np # Linear algebra\n",
        "import pandas as pd # data processing, CSV file I/0 (e.g. pd.read_csv)\n",
        "import matplotlib.pyplot as plt # data visualization\n",
        "import seaborn as sns # statistical data visualization\n",
        "%matplotlib inline\n",
        "\n",
        "# Input data files are available in the \" .. /input/\" directory.\n",
        "# For example, running this (by clicking run or pressing Shift+Enter) will list all files under the input directory\n",
        "\n",
        "import os\n",
        "for dirname, _, filenames in os.walk('/kaggle/input'):\n",
        " for filename in filenames:\n",
        "  print(os.path.join(dirname, filename))\n",
        "\n",
        "# Any results you write to the current directory are saved as output."
      ],
      "metadata": {
        "id": "3hKe6_yCeBJ6"
      },
      "execution_count": null,
      "outputs": []
    },
    {
      "cell_type": "code",
      "source": [
        "import warnings\n",
        "\n",
        "warnings.filterwarnings('ignore')"
      ],
      "metadata": {
        "id": "uzhGWszhk8GK"
      },
      "execution_count": null,
      "outputs": []
    },
    {
      "cell_type": "code",
      "source": [
        "x1 = pd.DataFrame(X)\n",
        "y1 = pd.DataFrame(y)\n",
        "df = pd.concat([x1, y1], axis= 1)\n",
        "df"
      ],
      "metadata": {
        "colab": {
          "base_uri": "https://localhost:8080/",
          "height": 441
        },
        "id": "5gAYNe4Kk90y",
        "outputId": "d5f29208-7efe-49e1-c54d-2952bdbbd5b3"
      },
      "execution_count": null,
      "outputs": [
        {
          "output_type": "execute_result",
          "data": {
            "text/plain": [
              "     Age  Number of sexual partners  First sexual intercourse  \\\n",
              "0     18                        4.0                      15.0   \n",
              "1     15                        1.0                      14.0   \n",
              "2     34                        1.0                       NaN   \n",
              "3     52                        5.0                      16.0   \n",
              "4     46                        3.0                      21.0   \n",
              "..   ...                        ...                       ...   \n",
              "853   34                        3.0                      18.0   \n",
              "854   32                        2.0                      19.0   \n",
              "855   25                        2.0                      17.0   \n",
              "856   33                        2.0                      24.0   \n",
              "857   29                        2.0                      20.0   \n",
              "\n",
              "     Num of pregnancies  Smokes  Smokes (years)  Smokes (packs/year)  \\\n",
              "0                   1.0     0.0             0.0                  0.0   \n",
              "1                   1.0     0.0             0.0                  0.0   \n",
              "2                   1.0     0.0             0.0                  0.0   \n",
              "3                   4.0     1.0            37.0                 37.0   \n",
              "4                   4.0     0.0             0.0                  0.0   \n",
              "..                  ...     ...             ...                  ...   \n",
              "853                 0.0     0.0             0.0                  0.0   \n",
              "854                 1.0     0.0             0.0                  0.0   \n",
              "855                 0.0     0.0             0.0                  0.0   \n",
              "856                 2.0     0.0             0.0                  0.0   \n",
              "857                 1.0     0.0             0.0                  0.0   \n",
              "\n",
              "     Hormonal Contraceptives  Hormonal Contraceptives (years)  IUD  ...  \\\n",
              "0                        0.0                             0.00  0.0  ...   \n",
              "1                        0.0                             0.00  0.0  ...   \n",
              "2                        0.0                             0.00  0.0  ...   \n",
              "3                        1.0                             3.00  0.0  ...   \n",
              "4                        1.0                            15.00  0.0  ...   \n",
              "..                       ...                              ...  ...  ...   \n",
              "853                      0.0                             0.00  0.0  ...   \n",
              "854                      1.0                             8.00  0.0  ...   \n",
              "855                      1.0                             0.08  0.0  ...   \n",
              "856                      1.0                             0.08  0.0  ...   \n",
              "857                      1.0                             0.50  0.0  ...   \n",
              "\n",
              "     STDs: Time since first diagnosis  STDs: Time since last diagnosis  \\\n",
              "0                                 NaN                              NaN   \n",
              "1                                 NaN                              NaN   \n",
              "2                                 NaN                              NaN   \n",
              "3                                 NaN                              NaN   \n",
              "4                                 NaN                              NaN   \n",
              "..                                ...                              ...   \n",
              "853                               NaN                              NaN   \n",
              "854                               NaN                              NaN   \n",
              "855                               NaN                              NaN   \n",
              "856                               NaN                              NaN   \n",
              "857                               NaN                              NaN   \n",
              "\n",
              "     Dx:Cancer  Dx:CIN  Dx:HPV  Dx  Hinselmann  Schiller  Citology  Biopsy  \n",
              "0            0       0       0   0           0         0         0       0  \n",
              "1            0       0       0   0           0         0         0       0  \n",
              "2            0       0       0   0           0         0         0       0  \n",
              "3            1       0       1   0           0         0         0       0  \n",
              "4            0       0       0   0           0         0         0       0  \n",
              "..         ...     ...     ...  ..         ...       ...       ...     ...  \n",
              "853          0       0       0   0           0         0         0       0  \n",
              "854          0       0       0   0           0         0         0       0  \n",
              "855          0       0       0   0           0         0         1       0  \n",
              "856          0       0       0   0           0         0         0       0  \n",
              "857          0       0       0   0           0         0         0       0  \n",
              "\n",
              "[858 rows x 36 columns]"
            ],
            "text/html": [
              "\n",
              "  <div id=\"df-87bf7b4b-680c-40d7-9e1a-c61f408c5914\" class=\"colab-df-container\">\n",
              "    <div>\n",
              "<style scoped>\n",
              "    .dataframe tbody tr th:only-of-type {\n",
              "        vertical-align: middle;\n",
              "    }\n",
              "\n",
              "    .dataframe tbody tr th {\n",
              "        vertical-align: top;\n",
              "    }\n",
              "\n",
              "    .dataframe thead th {\n",
              "        text-align: right;\n",
              "    }\n",
              "</style>\n",
              "<table border=\"1\" class=\"dataframe\">\n",
              "  <thead>\n",
              "    <tr style=\"text-align: right;\">\n",
              "      <th></th>\n",
              "      <th>Age</th>\n",
              "      <th>Number of sexual partners</th>\n",
              "      <th>First sexual intercourse</th>\n",
              "      <th>Num of pregnancies</th>\n",
              "      <th>Smokes</th>\n",
              "      <th>Smokes (years)</th>\n",
              "      <th>Smokes (packs/year)</th>\n",
              "      <th>Hormonal Contraceptives</th>\n",
              "      <th>Hormonal Contraceptives (years)</th>\n",
              "      <th>IUD</th>\n",
              "      <th>...</th>\n",
              "      <th>STDs: Time since first diagnosis</th>\n",
              "      <th>STDs: Time since last diagnosis</th>\n",
              "      <th>Dx:Cancer</th>\n",
              "      <th>Dx:CIN</th>\n",
              "      <th>Dx:HPV</th>\n",
              "      <th>Dx</th>\n",
              "      <th>Hinselmann</th>\n",
              "      <th>Schiller</th>\n",
              "      <th>Citology</th>\n",
              "      <th>Biopsy</th>\n",
              "    </tr>\n",
              "  </thead>\n",
              "  <tbody>\n",
              "    <tr>\n",
              "      <th>0</th>\n",
              "      <td>18</td>\n",
              "      <td>4.0</td>\n",
              "      <td>15.0</td>\n",
              "      <td>1.0</td>\n",
              "      <td>0.0</td>\n",
              "      <td>0.0</td>\n",
              "      <td>0.0</td>\n",
              "      <td>0.0</td>\n",
              "      <td>0.00</td>\n",
              "      <td>0.0</td>\n",
              "      <td>...</td>\n",
              "      <td>NaN</td>\n",
              "      <td>NaN</td>\n",
              "      <td>0</td>\n",
              "      <td>0</td>\n",
              "      <td>0</td>\n",
              "      <td>0</td>\n",
              "      <td>0</td>\n",
              "      <td>0</td>\n",
              "      <td>0</td>\n",
              "      <td>0</td>\n",
              "    </tr>\n",
              "    <tr>\n",
              "      <th>1</th>\n",
              "      <td>15</td>\n",
              "      <td>1.0</td>\n",
              "      <td>14.0</td>\n",
              "      <td>1.0</td>\n",
              "      <td>0.0</td>\n",
              "      <td>0.0</td>\n",
              "      <td>0.0</td>\n",
              "      <td>0.0</td>\n",
              "      <td>0.00</td>\n",
              "      <td>0.0</td>\n",
              "      <td>...</td>\n",
              "      <td>NaN</td>\n",
              "      <td>NaN</td>\n",
              "      <td>0</td>\n",
              "      <td>0</td>\n",
              "      <td>0</td>\n",
              "      <td>0</td>\n",
              "      <td>0</td>\n",
              "      <td>0</td>\n",
              "      <td>0</td>\n",
              "      <td>0</td>\n",
              "    </tr>\n",
              "    <tr>\n",
              "      <th>2</th>\n",
              "      <td>34</td>\n",
              "      <td>1.0</td>\n",
              "      <td>NaN</td>\n",
              "      <td>1.0</td>\n",
              "      <td>0.0</td>\n",
              "      <td>0.0</td>\n",
              "      <td>0.0</td>\n",
              "      <td>0.0</td>\n",
              "      <td>0.00</td>\n",
              "      <td>0.0</td>\n",
              "      <td>...</td>\n",
              "      <td>NaN</td>\n",
              "      <td>NaN</td>\n",
              "      <td>0</td>\n",
              "      <td>0</td>\n",
              "      <td>0</td>\n",
              "      <td>0</td>\n",
              "      <td>0</td>\n",
              "      <td>0</td>\n",
              "      <td>0</td>\n",
              "      <td>0</td>\n",
              "    </tr>\n",
              "    <tr>\n",
              "      <th>3</th>\n",
              "      <td>52</td>\n",
              "      <td>5.0</td>\n",
              "      <td>16.0</td>\n",
              "      <td>4.0</td>\n",
              "      <td>1.0</td>\n",
              "      <td>37.0</td>\n",
              "      <td>37.0</td>\n",
              "      <td>1.0</td>\n",
              "      <td>3.00</td>\n",
              "      <td>0.0</td>\n",
              "      <td>...</td>\n",
              "      <td>NaN</td>\n",
              "      <td>NaN</td>\n",
              "      <td>1</td>\n",
              "      <td>0</td>\n",
              "      <td>1</td>\n",
              "      <td>0</td>\n",
              "      <td>0</td>\n",
              "      <td>0</td>\n",
              "      <td>0</td>\n",
              "      <td>0</td>\n",
              "    </tr>\n",
              "    <tr>\n",
              "      <th>4</th>\n",
              "      <td>46</td>\n",
              "      <td>3.0</td>\n",
              "      <td>21.0</td>\n",
              "      <td>4.0</td>\n",
              "      <td>0.0</td>\n",
              "      <td>0.0</td>\n",
              "      <td>0.0</td>\n",
              "      <td>1.0</td>\n",
              "      <td>15.00</td>\n",
              "      <td>0.0</td>\n",
              "      <td>...</td>\n",
              "      <td>NaN</td>\n",
              "      <td>NaN</td>\n",
              "      <td>0</td>\n",
              "      <td>0</td>\n",
              "      <td>0</td>\n",
              "      <td>0</td>\n",
              "      <td>0</td>\n",
              "      <td>0</td>\n",
              "      <td>0</td>\n",
              "      <td>0</td>\n",
              "    </tr>\n",
              "    <tr>\n",
              "      <th>...</th>\n",
              "      <td>...</td>\n",
              "      <td>...</td>\n",
              "      <td>...</td>\n",
              "      <td>...</td>\n",
              "      <td>...</td>\n",
              "      <td>...</td>\n",
              "      <td>...</td>\n",
              "      <td>...</td>\n",
              "      <td>...</td>\n",
              "      <td>...</td>\n",
              "      <td>...</td>\n",
              "      <td>...</td>\n",
              "      <td>...</td>\n",
              "      <td>...</td>\n",
              "      <td>...</td>\n",
              "      <td>...</td>\n",
              "      <td>...</td>\n",
              "      <td>...</td>\n",
              "      <td>...</td>\n",
              "      <td>...</td>\n",
              "      <td>...</td>\n",
              "    </tr>\n",
              "    <tr>\n",
              "      <th>853</th>\n",
              "      <td>34</td>\n",
              "      <td>3.0</td>\n",
              "      <td>18.0</td>\n",
              "      <td>0.0</td>\n",
              "      <td>0.0</td>\n",
              "      <td>0.0</td>\n",
              "      <td>0.0</td>\n",
              "      <td>0.0</td>\n",
              "      <td>0.00</td>\n",
              "      <td>0.0</td>\n",
              "      <td>...</td>\n",
              "      <td>NaN</td>\n",
              "      <td>NaN</td>\n",
              "      <td>0</td>\n",
              "      <td>0</td>\n",
              "      <td>0</td>\n",
              "      <td>0</td>\n",
              "      <td>0</td>\n",
              "      <td>0</td>\n",
              "      <td>0</td>\n",
              "      <td>0</td>\n",
              "    </tr>\n",
              "    <tr>\n",
              "      <th>854</th>\n",
              "      <td>32</td>\n",
              "      <td>2.0</td>\n",
              "      <td>19.0</td>\n",
              "      <td>1.0</td>\n",
              "      <td>0.0</td>\n",
              "      <td>0.0</td>\n",
              "      <td>0.0</td>\n",
              "      <td>1.0</td>\n",
              "      <td>8.00</td>\n",
              "      <td>0.0</td>\n",
              "      <td>...</td>\n",
              "      <td>NaN</td>\n",
              "      <td>NaN</td>\n",
              "      <td>0</td>\n",
              "      <td>0</td>\n",
              "      <td>0</td>\n",
              "      <td>0</td>\n",
              "      <td>0</td>\n",
              "      <td>0</td>\n",
              "      <td>0</td>\n",
              "      <td>0</td>\n",
              "    </tr>\n",
              "    <tr>\n",
              "      <th>855</th>\n",
              "      <td>25</td>\n",
              "      <td>2.0</td>\n",
              "      <td>17.0</td>\n",
              "      <td>0.0</td>\n",
              "      <td>0.0</td>\n",
              "      <td>0.0</td>\n",
              "      <td>0.0</td>\n",
              "      <td>1.0</td>\n",
              "      <td>0.08</td>\n",
              "      <td>0.0</td>\n",
              "      <td>...</td>\n",
              "      <td>NaN</td>\n",
              "      <td>NaN</td>\n",
              "      <td>0</td>\n",
              "      <td>0</td>\n",
              "      <td>0</td>\n",
              "      <td>0</td>\n",
              "      <td>0</td>\n",
              "      <td>0</td>\n",
              "      <td>1</td>\n",
              "      <td>0</td>\n",
              "    </tr>\n",
              "    <tr>\n",
              "      <th>856</th>\n",
              "      <td>33</td>\n",
              "      <td>2.0</td>\n",
              "      <td>24.0</td>\n",
              "      <td>2.0</td>\n",
              "      <td>0.0</td>\n",
              "      <td>0.0</td>\n",
              "      <td>0.0</td>\n",
              "      <td>1.0</td>\n",
              "      <td>0.08</td>\n",
              "      <td>0.0</td>\n",
              "      <td>...</td>\n",
              "      <td>NaN</td>\n",
              "      <td>NaN</td>\n",
              "      <td>0</td>\n",
              "      <td>0</td>\n",
              "      <td>0</td>\n",
              "      <td>0</td>\n",
              "      <td>0</td>\n",
              "      <td>0</td>\n",
              "      <td>0</td>\n",
              "      <td>0</td>\n",
              "    </tr>\n",
              "    <tr>\n",
              "      <th>857</th>\n",
              "      <td>29</td>\n",
              "      <td>2.0</td>\n",
              "      <td>20.0</td>\n",
              "      <td>1.0</td>\n",
              "      <td>0.0</td>\n",
              "      <td>0.0</td>\n",
              "      <td>0.0</td>\n",
              "      <td>1.0</td>\n",
              "      <td>0.50</td>\n",
              "      <td>0.0</td>\n",
              "      <td>...</td>\n",
              "      <td>NaN</td>\n",
              "      <td>NaN</td>\n",
              "      <td>0</td>\n",
              "      <td>0</td>\n",
              "      <td>0</td>\n",
              "      <td>0</td>\n",
              "      <td>0</td>\n",
              "      <td>0</td>\n",
              "      <td>0</td>\n",
              "      <td>0</td>\n",
              "    </tr>\n",
              "  </tbody>\n",
              "</table>\n",
              "<p>858 rows × 36 columns</p>\n",
              "</div>\n",
              "    <div class=\"colab-df-buttons\">\n",
              "\n",
              "  <div class=\"colab-df-container\">\n",
              "    <button class=\"colab-df-convert\" onclick=\"convertToInteractive('df-87bf7b4b-680c-40d7-9e1a-c61f408c5914')\"\n",
              "            title=\"Convert this dataframe to an interactive table.\"\n",
              "            style=\"display:none;\">\n",
              "\n",
              "  <svg xmlns=\"http://www.w3.org/2000/svg\" height=\"24px\" viewBox=\"0 -960 960 960\">\n",
              "    <path d=\"M120-120v-720h720v720H120Zm60-500h600v-160H180v160Zm220 220h160v-160H400v160Zm0 220h160v-160H400v160ZM180-400h160v-160H180v160Zm440 0h160v-160H620v160ZM180-180h160v-160H180v160Zm440 0h160v-160H620v160Z\"/>\n",
              "  </svg>\n",
              "    </button>\n",
              "\n",
              "  <style>\n",
              "    .colab-df-container {\n",
              "      display:flex;\n",
              "      gap: 12px;\n",
              "    }\n",
              "\n",
              "    .colab-df-convert {\n",
              "      background-color: #E8F0FE;\n",
              "      border: none;\n",
              "      border-radius: 50%;\n",
              "      cursor: pointer;\n",
              "      display: none;\n",
              "      fill: #1967D2;\n",
              "      height: 32px;\n",
              "      padding: 0 0 0 0;\n",
              "      width: 32px;\n",
              "    }\n",
              "\n",
              "    .colab-df-convert:hover {\n",
              "      background-color: #E2EBFA;\n",
              "      box-shadow: 0px 1px 2px rgba(60, 64, 67, 0.3), 0px 1px 3px 1px rgba(60, 64, 67, 0.15);\n",
              "      fill: #174EA6;\n",
              "    }\n",
              "\n",
              "    .colab-df-buttons div {\n",
              "      margin-bottom: 4px;\n",
              "    }\n",
              "\n",
              "    [theme=dark] .colab-df-convert {\n",
              "      background-color: #3B4455;\n",
              "      fill: #D2E3FC;\n",
              "    }\n",
              "\n",
              "    [theme=dark] .colab-df-convert:hover {\n",
              "      background-color: #434B5C;\n",
              "      box-shadow: 0px 1px 3px 1px rgba(0, 0, 0, 0.15);\n",
              "      filter: drop-shadow(0px 1px 2px rgba(0, 0, 0, 0.3));\n",
              "      fill: #FFFFFF;\n",
              "    }\n",
              "  </style>\n",
              "\n",
              "    <script>\n",
              "      const buttonEl =\n",
              "        document.querySelector('#df-87bf7b4b-680c-40d7-9e1a-c61f408c5914 button.colab-df-convert');\n",
              "      buttonEl.style.display =\n",
              "        google.colab.kernel.accessAllowed ? 'block' : 'none';\n",
              "\n",
              "      async function convertToInteractive(key) {\n",
              "        const element = document.querySelector('#df-87bf7b4b-680c-40d7-9e1a-c61f408c5914');\n",
              "        const dataTable =\n",
              "          await google.colab.kernel.invokeFunction('convertToInteractive',\n",
              "                                                    [key], {});\n",
              "        if (!dataTable) return;\n",
              "\n",
              "        const docLinkHtml = 'Like what you see? Visit the ' +\n",
              "          '<a target=\"_blank\" href=https://colab.research.google.com/notebooks/data_table.ipynb>data table notebook</a>'\n",
              "          + ' to learn more about interactive tables.';\n",
              "        element.innerHTML = '';\n",
              "        dataTable['output_type'] = 'display_data';\n",
              "        await google.colab.output.renderOutput(dataTable, element);\n",
              "        const docLink = document.createElement('div');\n",
              "        docLink.innerHTML = docLinkHtml;\n",
              "        element.appendChild(docLink);\n",
              "      }\n",
              "    </script>\n",
              "  </div>\n",
              "\n",
              "\n",
              "<div id=\"df-de83ef9e-4f44-49c2-8d7d-4de0f5426ce5\">\n",
              "  <button class=\"colab-df-quickchart\" onclick=\"quickchart('df-de83ef9e-4f44-49c2-8d7d-4de0f5426ce5')\"\n",
              "            title=\"Suggest charts\"\n",
              "            style=\"display:none;\">\n",
              "\n",
              "<svg xmlns=\"http://www.w3.org/2000/svg\" height=\"24px\"viewBox=\"0 0 24 24\"\n",
              "     width=\"24px\">\n",
              "    <g>\n",
              "        <path d=\"M19 3H5c-1.1 0-2 .9-2 2v14c0 1.1.9 2 2 2h14c1.1 0 2-.9 2-2V5c0-1.1-.9-2-2-2zM9 17H7v-7h2v7zm4 0h-2V7h2v10zm4 0h-2v-4h2v4z\"/>\n",
              "    </g>\n",
              "</svg>\n",
              "  </button>\n",
              "\n",
              "<style>\n",
              "  .colab-df-quickchart {\n",
              "      --bg-color: #E8F0FE;\n",
              "      --fill-color: #1967D2;\n",
              "      --hover-bg-color: #E2EBFA;\n",
              "      --hover-fill-color: #174EA6;\n",
              "      --disabled-fill-color: #AAA;\n",
              "      --disabled-bg-color: #DDD;\n",
              "  }\n",
              "\n",
              "  [theme=dark] .colab-df-quickchart {\n",
              "      --bg-color: #3B4455;\n",
              "      --fill-color: #D2E3FC;\n",
              "      --hover-bg-color: #434B5C;\n",
              "      --hover-fill-color: #FFFFFF;\n",
              "      --disabled-bg-color: #3B4455;\n",
              "      --disabled-fill-color: #666;\n",
              "  }\n",
              "\n",
              "  .colab-df-quickchart {\n",
              "    background-color: var(--bg-color);\n",
              "    border: none;\n",
              "    border-radius: 50%;\n",
              "    cursor: pointer;\n",
              "    display: none;\n",
              "    fill: var(--fill-color);\n",
              "    height: 32px;\n",
              "    padding: 0;\n",
              "    width: 32px;\n",
              "  }\n",
              "\n",
              "  .colab-df-quickchart:hover {\n",
              "    background-color: var(--hover-bg-color);\n",
              "    box-shadow: 0 1px 2px rgba(60, 64, 67, 0.3), 0 1px 3px 1px rgba(60, 64, 67, 0.15);\n",
              "    fill: var(--button-hover-fill-color);\n",
              "  }\n",
              "\n",
              "  .colab-df-quickchart-complete:disabled,\n",
              "  .colab-df-quickchart-complete:disabled:hover {\n",
              "    background-color: var(--disabled-bg-color);\n",
              "    fill: var(--disabled-fill-color);\n",
              "    box-shadow: none;\n",
              "  }\n",
              "\n",
              "  .colab-df-spinner {\n",
              "    border: 2px solid var(--fill-color);\n",
              "    border-color: transparent;\n",
              "    border-bottom-color: var(--fill-color);\n",
              "    animation:\n",
              "      spin 1s steps(1) infinite;\n",
              "  }\n",
              "\n",
              "  @keyframes spin {\n",
              "    0% {\n",
              "      border-color: transparent;\n",
              "      border-bottom-color: var(--fill-color);\n",
              "      border-left-color: var(--fill-color);\n",
              "    }\n",
              "    20% {\n",
              "      border-color: transparent;\n",
              "      border-left-color: var(--fill-color);\n",
              "      border-top-color: var(--fill-color);\n",
              "    }\n",
              "    30% {\n",
              "      border-color: transparent;\n",
              "      border-left-color: var(--fill-color);\n",
              "      border-top-color: var(--fill-color);\n",
              "      border-right-color: var(--fill-color);\n",
              "    }\n",
              "    40% {\n",
              "      border-color: transparent;\n",
              "      border-right-color: var(--fill-color);\n",
              "      border-top-color: var(--fill-color);\n",
              "    }\n",
              "    60% {\n",
              "      border-color: transparent;\n",
              "      border-right-color: var(--fill-color);\n",
              "    }\n",
              "    80% {\n",
              "      border-color: transparent;\n",
              "      border-right-color: var(--fill-color);\n",
              "      border-bottom-color: var(--fill-color);\n",
              "    }\n",
              "    90% {\n",
              "      border-color: transparent;\n",
              "      border-bottom-color: var(--fill-color);\n",
              "    }\n",
              "  }\n",
              "</style>\n",
              "\n",
              "  <script>\n",
              "    async function quickchart(key) {\n",
              "      const quickchartButtonEl =\n",
              "        document.querySelector('#' + key + ' button');\n",
              "      quickchartButtonEl.disabled = true;  // To prevent multiple clicks.\n",
              "      quickchartButtonEl.classList.add('colab-df-spinner');\n",
              "      try {\n",
              "        const charts = await google.colab.kernel.invokeFunction(\n",
              "            'suggestCharts', [key], {});\n",
              "      } catch (error) {\n",
              "        console.error('Error during call to suggestCharts:', error);\n",
              "      }\n",
              "      quickchartButtonEl.classList.remove('colab-df-spinner');\n",
              "      quickchartButtonEl.classList.add('colab-df-quickchart-complete');\n",
              "    }\n",
              "    (() => {\n",
              "      let quickchartButtonEl =\n",
              "        document.querySelector('#df-de83ef9e-4f44-49c2-8d7d-4de0f5426ce5 button');\n",
              "      quickchartButtonEl.style.display =\n",
              "        google.colab.kernel.accessAllowed ? 'block' : 'none';\n",
              "    })();\n",
              "  </script>\n",
              "</div>\n",
              "    </div>\n",
              "  </div>\n"
            ],
            "application/vnd.google.colaboratory.intrinsic+json": {
              "type": "dataframe",
              "variable_name": "df"
            }
          },
          "metadata": {},
          "execution_count": 10
        }
      ]
    },
    {
      "cell_type": "code",
      "source": [
        "df.shape"
      ],
      "metadata": {
        "colab": {
          "base_uri": "https://localhost:8080/"
        },
        "id": "0UB5fEYElNn1",
        "outputId": "3ec49cdb-1b99-4a50-bb92-75b6d9556139"
      },
      "execution_count": null,
      "outputs": [
        {
          "output_type": "execute_result",
          "data": {
            "text/plain": [
              "(858, 36)"
            ]
          },
          "metadata": {},
          "execution_count": 14
        }
      ]
    },
    {
      "cell_type": "code",
      "source": [
        "df.info()"
      ],
      "metadata": {
        "colab": {
          "base_uri": "https://localhost:8080/"
        },
        "id": "laS2eNKEme9t",
        "outputId": "b9f0efa0-1716-4461-c24d-9523d0baac65"
      },
      "execution_count": null,
      "outputs": [
        {
          "output_type": "stream",
          "name": "stdout",
          "text": [
            "<class 'pandas.core.frame.DataFrame'>\n",
            "RangeIndex: 858 entries, 0 to 857\n",
            "Data columns (total 36 columns):\n",
            " #   Column                              Non-Null Count  Dtype  \n",
            "---  ------                              --------------  -----  \n",
            " 0   Age                                 858 non-null    int64  \n",
            " 1   Number of sexual partners           832 non-null    float64\n",
            " 2   First sexual intercourse            851 non-null    float64\n",
            " 3   Num of pregnancies                  802 non-null    float64\n",
            " 4   Smokes                              845 non-null    float64\n",
            " 5   Smokes (years)                      845 non-null    float64\n",
            " 6   Smokes (packs/year)                 845 non-null    float64\n",
            " 7   Hormonal Contraceptives             750 non-null    float64\n",
            " 8   Hormonal Contraceptives (years)     750 non-null    float64\n",
            " 9   IUD                                 741 non-null    float64\n",
            " 10  IUD (years)                         741 non-null    float64\n",
            " 11  STDs                                753 non-null    float64\n",
            " 12  STDs (number)                       753 non-null    float64\n",
            " 13  STDs:condylomatosis                 753 non-null    float64\n",
            " 14  STDs:cervical condylomatosis        753 non-null    float64\n",
            " 15  STDs:vaginal condylomatosis         753 non-null    float64\n",
            " 16  STDs:vulvo-perineal condylomatosis  753 non-null    float64\n",
            " 17  STDs:syphilis                       753 non-null    float64\n",
            " 18  STDs:pelvic inflammatory disease    753 non-null    float64\n",
            " 19  STDs:genital herpes                 753 non-null    float64\n",
            " 20  STDs:molluscum contagiosum          753 non-null    float64\n",
            " 21  STDs:AIDS                           753 non-null    float64\n",
            " 22  STDs:HIV                            753 non-null    float64\n",
            " 23  STDs:Hepatitis B                    753 non-null    float64\n",
            " 24  STDs:HPV                            753 non-null    float64\n",
            " 25  STDs: Number of diagnosis           858 non-null    int64  \n",
            " 26  STDs: Time since first diagnosis    71 non-null     float64\n",
            " 27  STDs: Time since last diagnosis     71 non-null     float64\n",
            " 28  Dx:Cancer                           858 non-null    int64  \n",
            " 29  Dx:CIN                              858 non-null    int64  \n",
            " 30  Dx:HPV                              858 non-null    int64  \n",
            " 31  Dx                                  858 non-null    int64  \n",
            " 32  Hinselmann                          858 non-null    int64  \n",
            " 33  Schiller                            858 non-null    int64  \n",
            " 34  Citology                            858 non-null    int64  \n",
            " 35  Biopsy                              858 non-null    int64  \n",
            "dtypes: float64(26), int64(10)\n",
            "memory usage: 241.4 KB\n"
          ]
        }
      ]
    },
    {
      "cell_type": "code",
      "source": [
        "# find categorical variables\n",
        "\n",
        "categorical = [var for var in df.columns if df[var].dtype == 'O']\n",
        "\n",
        "print('There are {} categorical variables\\n'.format(len(categorical)))\n",
        "\n",
        "print('The categorical variables are :', categorical)"
      ],
      "metadata": {
        "colab": {
          "base_uri": "https://localhost:8080/"
        },
        "id": "R-3QK_x4oId0",
        "outputId": "fda19439-9b44-428d-c27b-ee77815f1a54"
      },
      "execution_count": null,
      "outputs": [
        {
          "output_type": "stream",
          "name": "stdout",
          "text": [
            "There are 0 categorical variables\n",
            "\n",
            "The categorical variables are : []\n"
          ]
        }
      ]
    },
    {
      "cell_type": "markdown",
      "source": [
        "There is no categorical variables"
      ],
      "metadata": {
        "id": "Z2ol1q9KoKmd"
      }
    },
    {
      "cell_type": "code",
      "source": [
        "# find numerical variables\n",
        "\n",
        "numerical = [var for var in df.columns if df[var].dtype !='O']\n",
        "\n",
        "print('There are {} numerical variables\\n'.format(len(numerical)))\n",
        "\n",
        "print('The numerical variables are :', numerical)"
      ],
      "metadata": {
        "colab": {
          "base_uri": "https://localhost:8080/"
        },
        "id": "FQwgOHVooPS6",
        "outputId": "b0c1f1af-0a07-49cb-8cb9-0285d166be9f"
      },
      "execution_count": null,
      "outputs": [
        {
          "output_type": "stream",
          "name": "stdout",
          "text": [
            "There are 36 numerical variables\n",
            "\n",
            "The numerical variables are : ['Age', 'Number of sexual partners', 'First sexual intercourse', 'Num of pregnancies', 'Smokes', 'Smokes (years)', 'Smokes (packs/year)', 'Hormonal Contraceptives', 'Hormonal Contraceptives (years)', 'IUD', 'IUD (years)', 'STDs', 'STDs (number)', 'STDs:condylomatosis', 'STDs:cervical condylomatosis', 'STDs:vaginal condylomatosis', 'STDs:vulvo-perineal condylomatosis', 'STDs:syphilis', 'STDs:pelvic inflammatory disease', 'STDs:genital herpes', 'STDs:molluscum contagiosum', 'STDs:AIDS', 'STDs:HIV', 'STDs:Hepatitis B', 'STDs:HPV', 'STDs: Number of diagnosis', 'STDs: Time since first diagnosis', 'STDs: Time since last diagnosis', 'Dx:Cancer', 'Dx:CIN', 'Dx:HPV', 'Dx', 'Hinselmann', 'Schiller', 'Citology', 'Biopsy']\n"
          ]
        }
      ]
    },
    {
      "cell_type": "code",
      "source": [
        "df[numerical].head()"
      ],
      "metadata": {
        "colab": {
          "base_uri": "https://localhost:8080/",
          "height": 253
        },
        "id": "y_51Y-pno-2m",
        "outputId": "d067dea8-3807-4598-ffb6-5f083664ba29"
      },
      "execution_count": null,
      "outputs": [
        {
          "output_type": "execute_result",
          "data": {
            "text/plain": [
              "   Age  Number of sexual partners  First sexual intercourse  \\\n",
              "0   18                        4.0                      15.0   \n",
              "1   15                        1.0                      14.0   \n",
              "2   34                        1.0                       NaN   \n",
              "3   52                        5.0                      16.0   \n",
              "4   46                        3.0                      21.0   \n",
              "\n",
              "   Num of pregnancies  Smokes  Smokes (years)  Smokes (packs/year)  \\\n",
              "0                 1.0     0.0             0.0                  0.0   \n",
              "1                 1.0     0.0             0.0                  0.0   \n",
              "2                 1.0     0.0             0.0                  0.0   \n",
              "3                 4.0     1.0            37.0                 37.0   \n",
              "4                 4.0     0.0             0.0                  0.0   \n",
              "\n",
              "   Hormonal Contraceptives  Hormonal Contraceptives (years)  IUD  ...  \\\n",
              "0                      0.0                              0.0  0.0  ...   \n",
              "1                      0.0                              0.0  0.0  ...   \n",
              "2                      0.0                              0.0  0.0  ...   \n",
              "3                      1.0                              3.0  0.0  ...   \n",
              "4                      1.0                             15.0  0.0  ...   \n",
              "\n",
              "   STDs: Time since first diagnosis  STDs: Time since last diagnosis  \\\n",
              "0                               NaN                              NaN   \n",
              "1                               NaN                              NaN   \n",
              "2                               NaN                              NaN   \n",
              "3                               NaN                              NaN   \n",
              "4                               NaN                              NaN   \n",
              "\n",
              "   Dx:Cancer  Dx:CIN  Dx:HPV  Dx  Hinselmann  Schiller  Citology  Biopsy  \n",
              "0          0       0       0   0           0         0         0       0  \n",
              "1          0       0       0   0           0         0         0       0  \n",
              "2          0       0       0   0           0         0         0       0  \n",
              "3          1       0       1   0           0         0         0       0  \n",
              "4          0       0       0   0           0         0         0       0  \n",
              "\n",
              "[5 rows x 36 columns]"
            ],
            "text/html": [
              "\n",
              "  <div id=\"df-6173d57a-821e-4ffa-ad44-493af56f2b46\" class=\"colab-df-container\">\n",
              "    <div>\n",
              "<style scoped>\n",
              "    .dataframe tbody tr th:only-of-type {\n",
              "        vertical-align: middle;\n",
              "    }\n",
              "\n",
              "    .dataframe tbody tr th {\n",
              "        vertical-align: top;\n",
              "    }\n",
              "\n",
              "    .dataframe thead th {\n",
              "        text-align: right;\n",
              "    }\n",
              "</style>\n",
              "<table border=\"1\" class=\"dataframe\">\n",
              "  <thead>\n",
              "    <tr style=\"text-align: right;\">\n",
              "      <th></th>\n",
              "      <th>Age</th>\n",
              "      <th>Number of sexual partners</th>\n",
              "      <th>First sexual intercourse</th>\n",
              "      <th>Num of pregnancies</th>\n",
              "      <th>Smokes</th>\n",
              "      <th>Smokes (years)</th>\n",
              "      <th>Smokes (packs/year)</th>\n",
              "      <th>Hormonal Contraceptives</th>\n",
              "      <th>Hormonal Contraceptives (years)</th>\n",
              "      <th>IUD</th>\n",
              "      <th>...</th>\n",
              "      <th>STDs: Time since first diagnosis</th>\n",
              "      <th>STDs: Time since last diagnosis</th>\n",
              "      <th>Dx:Cancer</th>\n",
              "      <th>Dx:CIN</th>\n",
              "      <th>Dx:HPV</th>\n",
              "      <th>Dx</th>\n",
              "      <th>Hinselmann</th>\n",
              "      <th>Schiller</th>\n",
              "      <th>Citology</th>\n",
              "      <th>Biopsy</th>\n",
              "    </tr>\n",
              "  </thead>\n",
              "  <tbody>\n",
              "    <tr>\n",
              "      <th>0</th>\n",
              "      <td>18</td>\n",
              "      <td>4.0</td>\n",
              "      <td>15.0</td>\n",
              "      <td>1.0</td>\n",
              "      <td>0.0</td>\n",
              "      <td>0.0</td>\n",
              "      <td>0.0</td>\n",
              "      <td>0.0</td>\n",
              "      <td>0.0</td>\n",
              "      <td>0.0</td>\n",
              "      <td>...</td>\n",
              "      <td>NaN</td>\n",
              "      <td>NaN</td>\n",
              "      <td>0</td>\n",
              "      <td>0</td>\n",
              "      <td>0</td>\n",
              "      <td>0</td>\n",
              "      <td>0</td>\n",
              "      <td>0</td>\n",
              "      <td>0</td>\n",
              "      <td>0</td>\n",
              "    </tr>\n",
              "    <tr>\n",
              "      <th>1</th>\n",
              "      <td>15</td>\n",
              "      <td>1.0</td>\n",
              "      <td>14.0</td>\n",
              "      <td>1.0</td>\n",
              "      <td>0.0</td>\n",
              "      <td>0.0</td>\n",
              "      <td>0.0</td>\n",
              "      <td>0.0</td>\n",
              "      <td>0.0</td>\n",
              "      <td>0.0</td>\n",
              "      <td>...</td>\n",
              "      <td>NaN</td>\n",
              "      <td>NaN</td>\n",
              "      <td>0</td>\n",
              "      <td>0</td>\n",
              "      <td>0</td>\n",
              "      <td>0</td>\n",
              "      <td>0</td>\n",
              "      <td>0</td>\n",
              "      <td>0</td>\n",
              "      <td>0</td>\n",
              "    </tr>\n",
              "    <tr>\n",
              "      <th>2</th>\n",
              "      <td>34</td>\n",
              "      <td>1.0</td>\n",
              "      <td>NaN</td>\n",
              "      <td>1.0</td>\n",
              "      <td>0.0</td>\n",
              "      <td>0.0</td>\n",
              "      <td>0.0</td>\n",
              "      <td>0.0</td>\n",
              "      <td>0.0</td>\n",
              "      <td>0.0</td>\n",
              "      <td>...</td>\n",
              "      <td>NaN</td>\n",
              "      <td>NaN</td>\n",
              "      <td>0</td>\n",
              "      <td>0</td>\n",
              "      <td>0</td>\n",
              "      <td>0</td>\n",
              "      <td>0</td>\n",
              "      <td>0</td>\n",
              "      <td>0</td>\n",
              "      <td>0</td>\n",
              "    </tr>\n",
              "    <tr>\n",
              "      <th>3</th>\n",
              "      <td>52</td>\n",
              "      <td>5.0</td>\n",
              "      <td>16.0</td>\n",
              "      <td>4.0</td>\n",
              "      <td>1.0</td>\n",
              "      <td>37.0</td>\n",
              "      <td>37.0</td>\n",
              "      <td>1.0</td>\n",
              "      <td>3.0</td>\n",
              "      <td>0.0</td>\n",
              "      <td>...</td>\n",
              "      <td>NaN</td>\n",
              "      <td>NaN</td>\n",
              "      <td>1</td>\n",
              "      <td>0</td>\n",
              "      <td>1</td>\n",
              "      <td>0</td>\n",
              "      <td>0</td>\n",
              "      <td>0</td>\n",
              "      <td>0</td>\n",
              "      <td>0</td>\n",
              "    </tr>\n",
              "    <tr>\n",
              "      <th>4</th>\n",
              "      <td>46</td>\n",
              "      <td>3.0</td>\n",
              "      <td>21.0</td>\n",
              "      <td>4.0</td>\n",
              "      <td>0.0</td>\n",
              "      <td>0.0</td>\n",
              "      <td>0.0</td>\n",
              "      <td>1.0</td>\n",
              "      <td>15.0</td>\n",
              "      <td>0.0</td>\n",
              "      <td>...</td>\n",
              "      <td>NaN</td>\n",
              "      <td>NaN</td>\n",
              "      <td>0</td>\n",
              "      <td>0</td>\n",
              "      <td>0</td>\n",
              "      <td>0</td>\n",
              "      <td>0</td>\n",
              "      <td>0</td>\n",
              "      <td>0</td>\n",
              "      <td>0</td>\n",
              "    </tr>\n",
              "  </tbody>\n",
              "</table>\n",
              "<p>5 rows × 36 columns</p>\n",
              "</div>\n",
              "    <div class=\"colab-df-buttons\">\n",
              "\n",
              "  <div class=\"colab-df-container\">\n",
              "    <button class=\"colab-df-convert\" onclick=\"convertToInteractive('df-6173d57a-821e-4ffa-ad44-493af56f2b46')\"\n",
              "            title=\"Convert this dataframe to an interactive table.\"\n",
              "            style=\"display:none;\">\n",
              "\n",
              "  <svg xmlns=\"http://www.w3.org/2000/svg\" height=\"24px\" viewBox=\"0 -960 960 960\">\n",
              "    <path d=\"M120-120v-720h720v720H120Zm60-500h600v-160H180v160Zm220 220h160v-160H400v160Zm0 220h160v-160H400v160ZM180-400h160v-160H180v160Zm440 0h160v-160H620v160ZM180-180h160v-160H180v160Zm440 0h160v-160H620v160Z\"/>\n",
              "  </svg>\n",
              "    </button>\n",
              "\n",
              "  <style>\n",
              "    .colab-df-container {\n",
              "      display:flex;\n",
              "      gap: 12px;\n",
              "    }\n",
              "\n",
              "    .colab-df-convert {\n",
              "      background-color: #E8F0FE;\n",
              "      border: none;\n",
              "      border-radius: 50%;\n",
              "      cursor: pointer;\n",
              "      display: none;\n",
              "      fill: #1967D2;\n",
              "      height: 32px;\n",
              "      padding: 0 0 0 0;\n",
              "      width: 32px;\n",
              "    }\n",
              "\n",
              "    .colab-df-convert:hover {\n",
              "      background-color: #E2EBFA;\n",
              "      box-shadow: 0px 1px 2px rgba(60, 64, 67, 0.3), 0px 1px 3px 1px rgba(60, 64, 67, 0.15);\n",
              "      fill: #174EA6;\n",
              "    }\n",
              "\n",
              "    .colab-df-buttons div {\n",
              "      margin-bottom: 4px;\n",
              "    }\n",
              "\n",
              "    [theme=dark] .colab-df-convert {\n",
              "      background-color: #3B4455;\n",
              "      fill: #D2E3FC;\n",
              "    }\n",
              "\n",
              "    [theme=dark] .colab-df-convert:hover {\n",
              "      background-color: #434B5C;\n",
              "      box-shadow: 0px 1px 3px 1px rgba(0, 0, 0, 0.15);\n",
              "      filter: drop-shadow(0px 1px 2px rgba(0, 0, 0, 0.3));\n",
              "      fill: #FFFFFF;\n",
              "    }\n",
              "  </style>\n",
              "\n",
              "    <script>\n",
              "      const buttonEl =\n",
              "        document.querySelector('#df-6173d57a-821e-4ffa-ad44-493af56f2b46 button.colab-df-convert');\n",
              "      buttonEl.style.display =\n",
              "        google.colab.kernel.accessAllowed ? 'block' : 'none';\n",
              "\n",
              "      async function convertToInteractive(key) {\n",
              "        const element = document.querySelector('#df-6173d57a-821e-4ffa-ad44-493af56f2b46');\n",
              "        const dataTable =\n",
              "          await google.colab.kernel.invokeFunction('convertToInteractive',\n",
              "                                                    [key], {});\n",
              "        if (!dataTable) return;\n",
              "\n",
              "        const docLinkHtml = 'Like what you see? Visit the ' +\n",
              "          '<a target=\"_blank\" href=https://colab.research.google.com/notebooks/data_table.ipynb>data table notebook</a>'\n",
              "          + ' to learn more about interactive tables.';\n",
              "        element.innerHTML = '';\n",
              "        dataTable['output_type'] = 'display_data';\n",
              "        await google.colab.output.renderOutput(dataTable, element);\n",
              "        const docLink = document.createElement('div');\n",
              "        docLink.innerHTML = docLinkHtml;\n",
              "        element.appendChild(docLink);\n",
              "      }\n",
              "    </script>\n",
              "  </div>\n",
              "\n",
              "\n",
              "<div id=\"df-4e198e3b-6a92-4062-bfe4-d2d773763c5d\">\n",
              "  <button class=\"colab-df-quickchart\" onclick=\"quickchart('df-4e198e3b-6a92-4062-bfe4-d2d773763c5d')\"\n",
              "            title=\"Suggest charts\"\n",
              "            style=\"display:none;\">\n",
              "\n",
              "<svg xmlns=\"http://www.w3.org/2000/svg\" height=\"24px\"viewBox=\"0 0 24 24\"\n",
              "     width=\"24px\">\n",
              "    <g>\n",
              "        <path d=\"M19 3H5c-1.1 0-2 .9-2 2v14c0 1.1.9 2 2 2h14c1.1 0 2-.9 2-2V5c0-1.1-.9-2-2-2zM9 17H7v-7h2v7zm4 0h-2V7h2v10zm4 0h-2v-4h2v4z\"/>\n",
              "    </g>\n",
              "</svg>\n",
              "  </button>\n",
              "\n",
              "<style>\n",
              "  .colab-df-quickchart {\n",
              "      --bg-color: #E8F0FE;\n",
              "      --fill-color: #1967D2;\n",
              "      --hover-bg-color: #E2EBFA;\n",
              "      --hover-fill-color: #174EA6;\n",
              "      --disabled-fill-color: #AAA;\n",
              "      --disabled-bg-color: #DDD;\n",
              "  }\n",
              "\n",
              "  [theme=dark] .colab-df-quickchart {\n",
              "      --bg-color: #3B4455;\n",
              "      --fill-color: #D2E3FC;\n",
              "      --hover-bg-color: #434B5C;\n",
              "      --hover-fill-color: #FFFFFF;\n",
              "      --disabled-bg-color: #3B4455;\n",
              "      --disabled-fill-color: #666;\n",
              "  }\n",
              "\n",
              "  .colab-df-quickchart {\n",
              "    background-color: var(--bg-color);\n",
              "    border: none;\n",
              "    border-radius: 50%;\n",
              "    cursor: pointer;\n",
              "    display: none;\n",
              "    fill: var(--fill-color);\n",
              "    height: 32px;\n",
              "    padding: 0;\n",
              "    width: 32px;\n",
              "  }\n",
              "\n",
              "  .colab-df-quickchart:hover {\n",
              "    background-color: var(--hover-bg-color);\n",
              "    box-shadow: 0 1px 2px rgba(60, 64, 67, 0.3), 0 1px 3px 1px rgba(60, 64, 67, 0.15);\n",
              "    fill: var(--button-hover-fill-color);\n",
              "  }\n",
              "\n",
              "  .colab-df-quickchart-complete:disabled,\n",
              "  .colab-df-quickchart-complete:disabled:hover {\n",
              "    background-color: var(--disabled-bg-color);\n",
              "    fill: var(--disabled-fill-color);\n",
              "    box-shadow: none;\n",
              "  }\n",
              "\n",
              "  .colab-df-spinner {\n",
              "    border: 2px solid var(--fill-color);\n",
              "    border-color: transparent;\n",
              "    border-bottom-color: var(--fill-color);\n",
              "    animation:\n",
              "      spin 1s steps(1) infinite;\n",
              "  }\n",
              "\n",
              "  @keyframes spin {\n",
              "    0% {\n",
              "      border-color: transparent;\n",
              "      border-bottom-color: var(--fill-color);\n",
              "      border-left-color: var(--fill-color);\n",
              "    }\n",
              "    20% {\n",
              "      border-color: transparent;\n",
              "      border-left-color: var(--fill-color);\n",
              "      border-top-color: var(--fill-color);\n",
              "    }\n",
              "    30% {\n",
              "      border-color: transparent;\n",
              "      border-left-color: var(--fill-color);\n",
              "      border-top-color: var(--fill-color);\n",
              "      border-right-color: var(--fill-color);\n",
              "    }\n",
              "    40% {\n",
              "      border-color: transparent;\n",
              "      border-right-color: var(--fill-color);\n",
              "      border-top-color: var(--fill-color);\n",
              "    }\n",
              "    60% {\n",
              "      border-color: transparent;\n",
              "      border-right-color: var(--fill-color);\n",
              "    }\n",
              "    80% {\n",
              "      border-color: transparent;\n",
              "      border-right-color: var(--fill-color);\n",
              "      border-bottom-color: var(--fill-color);\n",
              "    }\n",
              "    90% {\n",
              "      border-color: transparent;\n",
              "      border-bottom-color: var(--fill-color);\n",
              "    }\n",
              "  }\n",
              "</style>\n",
              "\n",
              "  <script>\n",
              "    async function quickchart(key) {\n",
              "      const quickchartButtonEl =\n",
              "        document.querySelector('#' + key + ' button');\n",
              "      quickchartButtonEl.disabled = true;  // To prevent multiple clicks.\n",
              "      quickchartButtonEl.classList.add('colab-df-spinner');\n",
              "      try {\n",
              "        const charts = await google.colab.kernel.invokeFunction(\n",
              "            'suggestCharts', [key], {});\n",
              "      } catch (error) {\n",
              "        console.error('Error during call to suggestCharts:', error);\n",
              "      }\n",
              "      quickchartButtonEl.classList.remove('colab-df-spinner');\n",
              "      quickchartButtonEl.classList.add('colab-df-quickchart-complete');\n",
              "    }\n",
              "    (() => {\n",
              "      let quickchartButtonEl =\n",
              "        document.querySelector('#df-4e198e3b-6a92-4062-bfe4-d2d773763c5d button');\n",
              "      quickchartButtonEl.style.display =\n",
              "        google.colab.kernel.accessAllowed ? 'block' : 'none';\n",
              "    })();\n",
              "  </script>\n",
              "</div>\n",
              "    </div>\n",
              "  </div>\n"
            ],
            "application/vnd.google.colaboratory.intrinsic+json": {
              "type": "dataframe"
            }
          },
          "metadata": {},
          "execution_count": 22
        }
      ]
    },
    {
      "cell_type": "code",
      "source": [
        "# check missing values in numerical\n",
        "df[numerical].isnull().sum()"
      ],
      "metadata": {
        "colab": {
          "base_uri": "https://localhost:8080/"
        },
        "id": "Pqb9Tx5qpHDk",
        "outputId": "c6145155-29e6-4519-88b3-e77ee9dfa86d"
      },
      "execution_count": null,
      "outputs": [
        {
          "output_type": "execute_result",
          "data": {
            "text/plain": [
              "Age                                     0\n",
              "Number of sexual partners              26\n",
              "First sexual intercourse                7\n",
              "Num of pregnancies                     56\n",
              "Smokes                                 13\n",
              "Smokes (years)                         13\n",
              "Smokes (packs/year)                    13\n",
              "Hormonal Contraceptives               108\n",
              "Hormonal Contraceptives (years)       108\n",
              "IUD                                   117\n",
              "IUD (years)                           117\n",
              "STDs                                  105\n",
              "STDs (number)                         105\n",
              "STDs:condylomatosis                   105\n",
              "STDs:cervical condylomatosis          105\n",
              "STDs:vaginal condylomatosis           105\n",
              "STDs:vulvo-perineal condylomatosis    105\n",
              "STDs:syphilis                         105\n",
              "STDs:pelvic inflammatory disease      105\n",
              "STDs:genital herpes                   105\n",
              "STDs:molluscum contagiosum            105\n",
              "STDs:AIDS                             105\n",
              "STDs:HIV                              105\n",
              "STDs:Hepatitis B                      105\n",
              "STDs:HPV                              105\n",
              "STDs: Number of diagnosis               0\n",
              "STDs: Time since first diagnosis      787\n",
              "STDs: Time since last diagnosis       787\n",
              "Dx:Cancer                               0\n",
              "Dx:CIN                                  0\n",
              "Dx:HPV                                  0\n",
              "Dx                                      0\n",
              "Hinselmann                              0\n",
              "Schiller                                0\n",
              "Citology                                0\n",
              "Biopsy                                  0\n",
              "dtype: int64"
            ]
          },
          "metadata": {},
          "execution_count": 23
        }
      ]
    },
    {
      "cell_type": "code",
      "source": [
        "print(round(df[numerical].describe()),2)"
      ],
      "metadata": {
        "colab": {
          "base_uri": "https://localhost:8080/"
        },
        "id": "vxdAGhQbpgci",
        "outputId": "619bd1b7-541e-4afc-fa61-f9b099b80391"
      },
      "execution_count": null,
      "outputs": [
        {
          "output_type": "stream",
          "name": "stdout",
          "text": [
            "         Age  Number of sexual partners  First sexual intercourse  \\\n",
            "count  858.0                      832.0                     851.0   \n",
            "mean    27.0                        3.0                      17.0   \n",
            "std      8.0                        2.0                       3.0   \n",
            "min     13.0                        1.0                      10.0   \n",
            "25%     20.0                        2.0                      15.0   \n",
            "50%     25.0                        2.0                      17.0   \n",
            "75%     32.0                        3.0                      18.0   \n",
            "max     84.0                       28.0                      32.0   \n",
            "\n",
            "       Num of pregnancies  Smokes  Smokes (years)  Smokes (packs/year)  \\\n",
            "count               802.0   845.0           845.0                845.0   \n",
            "mean                  2.0     0.0             1.0                  0.0   \n",
            "std                   1.0     0.0             4.0                  2.0   \n",
            "min                   0.0     0.0             0.0                  0.0   \n",
            "25%                   1.0     0.0             0.0                  0.0   \n",
            "50%                   2.0     0.0             0.0                  0.0   \n",
            "75%                   3.0     0.0             0.0                  0.0   \n",
            "max                  11.0     1.0            37.0                 37.0   \n",
            "\n",
            "       Hormonal Contraceptives  Hormonal Contraceptives (years)    IUD  ...  \\\n",
            "count                    750.0                            750.0  741.0  ...   \n",
            "mean                       1.0                              2.0    0.0  ...   \n",
            "std                        0.0                              4.0    0.0  ...   \n",
            "min                        0.0                              0.0    0.0  ...   \n",
            "25%                        0.0                              0.0    0.0  ...   \n",
            "50%                        1.0                              0.0    0.0  ...   \n",
            "75%                        1.0                              3.0    0.0  ...   \n",
            "max                        1.0                             30.0    1.0  ...   \n",
            "\n",
            "       STDs: Time since first diagnosis  STDs: Time since last diagnosis  \\\n",
            "count                              71.0                             71.0   \n",
            "mean                                6.0                              6.0   \n",
            "std                                 6.0                              6.0   \n",
            "min                                 1.0                              1.0   \n",
            "25%                                 2.0                              2.0   \n",
            "50%                                 4.0                              3.0   \n",
            "75%                                 8.0                              8.0   \n",
            "max                                22.0                             22.0   \n",
            "\n",
            "       Dx:Cancer  Dx:CIN  Dx:HPV     Dx  Hinselmann  Schiller  Citology  \\\n",
            "count      858.0   858.0   858.0  858.0       858.0     858.0     858.0   \n",
            "mean         0.0     0.0     0.0    0.0         0.0       0.0       0.0   \n",
            "std          0.0     0.0     0.0    0.0         0.0       0.0       0.0   \n",
            "min          0.0     0.0     0.0    0.0         0.0       0.0       0.0   \n",
            "25%          0.0     0.0     0.0    0.0         0.0       0.0       0.0   \n",
            "50%          0.0     0.0     0.0    0.0         0.0       0.0       0.0   \n",
            "75%          0.0     0.0     0.0    0.0         0.0       0.0       0.0   \n",
            "max          1.0     1.0     1.0    1.0         1.0       1.0       1.0   \n",
            "\n",
            "       Biopsy  \n",
            "count   858.0  \n",
            "mean      0.0  \n",
            "std       0.0  \n",
            "min       0.0  \n",
            "25%       0.0  \n",
            "50%       0.0  \n",
            "75%       0.0  \n",
            "max       1.0  \n",
            "\n",
            "[8 rows x 36 columns] 2\n"
          ]
        }
      ]
    },
    {
      "cell_type": "code",
      "source": [
        "# funtion for finding the columns that contains ouliers\n",
        "def col_outliers(df):\n",
        "    col_outliers=[]\n",
        "    for i in df.columns:\n",
        "        if df[i].isnull().any():\n",
        "            low_bound = df[i].quantile(0.25) - (1.5 * (df[i].quantile(0.75) - df[i].quantile(0.25)))\n",
        "            upper_bound = df[i].quantile(0.75) + (1.5 * (df[i].quantile(0.75) - df[i].quantile(0.25)))\n",
        "            if ((df[i] < low_bound) |  (df[i] > upper_bound)).any():\n",
        "                col_outliers.append(i)\n",
        "    return col_outliers"
      ],
      "metadata": {
        "id": "OIWlQOanqb9A"
      },
      "execution_count": null,
      "outputs": []
    },
    {
      "cell_type": "code",
      "source": [
        "ouliers_col = col_outliers(df)"
      ],
      "metadata": {
        "id": "PpfzhZGxqjiO"
      },
      "execution_count": null,
      "outputs": []
    },
    {
      "cell_type": "code",
      "source": [
        "ouliers_col"
      ],
      "metadata": {
        "colab": {
          "base_uri": "https://localhost:8080/"
        },
        "id": "X5K4uKdawQyH",
        "outputId": "dcba7af6-3648-4d5b-87af-da2dc7ca2a7a"
      },
      "execution_count": null,
      "outputs": [
        {
          "output_type": "execute_result",
          "data": {
            "text/plain": [
              "['Number of sexual partners',\n",
              " 'First sexual intercourse',\n",
              " 'Num of pregnancies',\n",
              " 'Smokes',\n",
              " 'Smokes (years)',\n",
              " 'Smokes (packs/year)',\n",
              " 'Hormonal Contraceptives (years)',\n",
              " 'IUD',\n",
              " 'IUD (years)',\n",
              " 'STDs',\n",
              " 'STDs (number)',\n",
              " 'STDs:condylomatosis',\n",
              " 'STDs:vaginal condylomatosis',\n",
              " 'STDs:vulvo-perineal condylomatosis',\n",
              " 'STDs:syphilis',\n",
              " 'STDs:pelvic inflammatory disease',\n",
              " 'STDs:genital herpes',\n",
              " 'STDs:molluscum contagiosum',\n",
              " 'STDs:HIV',\n",
              " 'STDs:Hepatitis B',\n",
              " 'STDs:HPV',\n",
              " 'STDs: Time since first diagnosis',\n",
              " 'STDs: Time since last diagnosis']"
            ]
          },
          "metadata": {},
          "execution_count": 49
        }
      ]
    },
    {
      "cell_type": "code",
      "source": [
        "num_rows = 12\n",
        "num_cols = 4\n",
        "total_plots =num_rows *num_cols\n",
        "\n",
        "plt.figure(figsize=(20, 40))\n",
        "\n",
        "for i, column in enumerate(df[ouliers_col].columns[:total_plots], 1):\n",
        "  plt.subplot(num_rows, num_cols, i)\n",
        "  fig =df.boxplot(column=column)\n",
        "  fig.set_title(\"\")\n",
        "  fig.set_ylabel(column)\n",
        "\n",
        "plt.tight_layout()"
      ],
      "metadata": {
        "colab": {
          "base_uri": "https://localhost:8080/",
          "height": 1900
        },
        "id": "e2S1gAq1yKiL",
        "outputId": "24f4a650-0efa-4c4e-d100-b341597acb8e"
      },
      "execution_count": null,
      "outputs": [
        {
          "output_type": "display_data",
          "data": {
            "text/plain": [
              "<Figure size 2000x4000 with 23 Axes>"
            ],
            "image/png": "[encoded data removed]"
          },
          "metadata": {}
        }
      ]
    },
    {
      "cell_type": "code",
      "source": [
        "num_rows = 12\n",
        "num_cols = 4\n",
        "total_plots = num_rows * num_cols\n",
        "\n",
        "plt.figure(figsize=(20, 40))\n",
        "\n",
        "for i, column in enumerate(df[ouliers_col].columns[:total_plots], 1):\n",
        "    plt.subplot(num_rows, num_cols, i)\n",
        "    plt.hist(df[column])\n",
        "    plt.title(column)\n",
        "\n",
        "plt.tight_layout()\n",
        "plt.show()"
      ],
      "metadata": {
        "colab": {
          "base_uri": "https://localhost:8080/",
          "height": 1908
        },
        "id": "WlZJ3bth0kH2",
        "outputId": "12353125-50e7-4276-ae36-1f7da6583d53"
      },
      "execution_count": null,
      "outputs": [
        {
          "output_type": "display_data",
          "data": {
            "text/plain": [
              "<Figure size 2000x4000 with 23 Axes>"
            ],
            "image/png": "[encoded data removed]"
          },
          "metadata": {}
        }
      ]
    },
    {
      "cell_type": "code",
      "source": [
        "X= df.drop(['Hinselmann'], axis=1)\n",
        "\n",
        "y = df['Hinselmann']"
      ],
      "metadata": {
        "id": "l52sV2zv4aTu"
      },
      "execution_count": null,
      "outputs": []
    },
    {
      "cell_type": "code",
      "source": [
        "# split X and y into training and testing sets\n",
        "\n",
        "from sklearn.model_selection import train_test_split\n",
        "\n",
        "X_train, X_test, y_train, y_test = train_test_split(X, y, test_size = 0.2, random_state = 0)"
      ],
      "metadata": {
        "id": "_ha9hy1f5Dzy"
      },
      "execution_count": null,
      "outputs": []
    },
    {
      "cell_type": "code",
      "source": [
        "# check the shape of Xtrain and X_test\n",
        "\n",
        "X_train.shape, X_test.shape"
      ],
      "metadata": {
        "colab": {
          "base_uri": "https://localhost:8080/"
        },
        "id": "fdH2f6M15L3-",
        "outputId": "5f854ee8-7162-474c-fb60-8d689f3226cf"
      },
      "execution_count": null,
      "outputs": [
        {
          "output_type": "execute_result",
          "data": {
            "text/plain": [
              "((686, 35), (172, 35))"
            ]
          },
          "metadata": {},
          "execution_count": 69
        }
      ]
    },
    {
      "cell_type": "code",
      "source": [
        "# check data types in X_train\n",
        "\n",
        "X_train.dtypes"
      ],
      "metadata": {
        "colab": {
          "base_uri": "https://localhost:8080/"
        },
        "id": "uGDbc0jT5N0H",
        "outputId": "38537dd5-aa24-4398-8289-ff9a010309e8"
      },
      "execution_count": null,
      "outputs": [
        {
          "output_type": "execute_result",
          "data": {
            "text/plain": [
              "Age                                     int64\n",
              "Number of sexual partners             float64\n",
              "First sexual intercourse              float64\n",
              "Num of pregnancies                    float64\n",
              "Smokes                                float64\n",
              "Smokes (years)                        float64\n",
              "Smokes (packs/year)                   float64\n",
              "Hormonal Contraceptives               float64\n",
              "Hormonal Contraceptives (years)       float64\n",
              "IUD                                   float64\n",
              "IUD (years)                           float64\n",
              "STDs                                  float64\n",
              "STDs (number)                         float64\n",
              "STDs:condylomatosis                   float64\n",
              "STDs:cervical condylomatosis          float64\n",
              "STDs:vaginal condylomatosis           float64\n",
              "STDs:vulvo-perineal condylomatosis    float64\n",
              "STDs:syphilis                         float64\n",
              "STDs:pelvic inflammatory disease      float64\n",
              "STDs:genital herpes                   float64\n",
              "STDs:molluscum contagiosum            float64\n",
              "STDs:AIDS                             float64\n",
              "STDs:HIV                              float64\n",
              "STDs:Hepatitis B                      float64\n",
              "STDs:HPV                              float64\n",
              "STDs: Number of diagnosis               int64\n",
              "STDs: Time since first diagnosis      float64\n",
              "STDs: Time since last diagnosis       float64\n",
              "Dx:Cancer                               int64\n",
              "Dx:CIN                                  int64\n",
              "Dx:HPV                                  int64\n",
              "Dx                                      int64\n",
              "Schiller                                int64\n",
              "Citology                                int64\n",
              "Biopsy                                  int64\n",
              "dtype: object"
            ]
          },
          "metadata": {},
          "execution_count": 70
        }
      ]
    },
    {
      "cell_type": "code",
      "source": [
        "# display categorical variables\n",
        "\n",
        "categorical = [col for col in X_train.columns if X_train[col].dtypes == 'O']\n",
        "\n",
        "categorical"
      ],
      "metadata": {
        "colab": {
          "base_uri": "https://localhost:8080/"
        },
        "id": "5IXpbwtp5ZFY",
        "outputId": "82e356c5-6ad8-4a46-b0ec-20b2dc77f381"
      },
      "execution_count": null,
      "outputs": [
        {
          "output_type": "execute_result",
          "data": {
            "text/plain": [
              "[]"
            ]
          },
          "metadata": {},
          "execution_count": 72
        }
      ]
    },
    {
      "cell_type": "code",
      "source": [
        "# display numerical variables\n",
        "\n",
        "numerical = [col for col in X_train.columns if X_train[col].dtypes != 'O']\n",
        "\n",
        "numerical"
      ],
      "metadata": {
        "colab": {
          "base_uri": "https://localhost:8080/"
        },
        "id": "FnizgjuV5eTB",
        "outputId": "ca8b44e5-2fa4-47e8-dcb5-4c1546e49ad3"
      },
      "execution_count": null,
      "outputs": [
        {
          "output_type": "execute_result",
          "data": {
            "text/plain": [
              "['Age',\n",
              " 'Number of sexual partners',\n",
              " 'First sexual intercourse',\n",
              " 'Num of pregnancies',\n",
              " 'Smokes',\n",
              " 'Smokes (years)',\n",
              " 'Smokes (packs/year)',\n",
              " 'Hormonal Contraceptives',\n",
              " 'Hormonal Contraceptives (years)',\n",
              " 'IUD',\n",
              " 'IUD (years)',\n",
              " 'STDs',\n",
              " 'STDs (number)',\n",
              " 'STDs:condylomatosis',\n",
              " 'STDs:cervical condylomatosis',\n",
              " 'STDs:vaginal condylomatosis',\n",
              " 'STDs:vulvo-perineal condylomatosis',\n",
              " 'STDs:syphilis',\n",
              " 'STDs:pelvic inflammatory disease',\n",
              " 'STDs:genital herpes',\n",
              " 'STDs:molluscum contagiosum',\n",
              " 'STDs:AIDS',\n",
              " 'STDs:HIV',\n",
              " 'STDs:Hepatitis B',\n",
              " 'STDs:HPV',\n",
              " 'STDs: Number of diagnosis',\n",
              " 'STDs: Time since first diagnosis',\n",
              " 'STDs: Time since last diagnosis',\n",
              " 'Dx:Cancer',\n",
              " 'Dx:CIN',\n",
              " 'Dx:HPV',\n",
              " 'Dx',\n",
              " 'Schiller',\n",
              " 'Citology',\n",
              " 'Biopsy']"
            ]
          },
          "metadata": {},
          "execution_count": 73
        }
      ]
    },
    {
      "cell_type": "code",
      "source": [
        "X_train[numerical].isnull().sum()"
      ],
      "metadata": {
        "colab": {
          "base_uri": "https://localhost:8080/"
        },
        "id": "DnQ5WjIh5hZX",
        "outputId": "7d95c798-a6b5-4fc5-ac11-41791cc0e08e"
      },
      "execution_count": null,
      "outputs": [
        {
          "output_type": "execute_result",
          "data": {
            "text/plain": [
              "Age                                     0\n",
              "Number of sexual partners              22\n",
              "First sexual intercourse                6\n",
              "Num of pregnancies                     44\n",
              "Smokes                                 11\n",
              "Smokes (years)                         11\n",
              "Smokes (packs/year)                    11\n",
              "Hormonal Contraceptives                85\n",
              "Hormonal Contraceptives (years)        85\n",
              "IUD                                    92\n",
              "IUD (years)                            92\n",
              "STDs                                   81\n",
              "STDs (number)                          81\n",
              "STDs:condylomatosis                    81\n",
              "STDs:cervical condylomatosis           81\n",
              "STDs:vaginal condylomatosis            81\n",
              "STDs:vulvo-perineal condylomatosis     81\n",
              "STDs:syphilis                          81\n",
              "STDs:pelvic inflammatory disease       81\n",
              "STDs:genital herpes                    81\n",
              "STDs:molluscum contagiosum             81\n",
              "STDs:AIDS                              81\n",
              "STDs:HIV                               81\n",
              "STDs:Hepatitis B                       81\n",
              "STDs:HPV                               81\n",
              "STDs: Number of diagnosis               0\n",
              "STDs: Time since first diagnosis      626\n",
              "STDs: Time since last diagnosis       626\n",
              "Dx:Cancer                               0\n",
              "Dx:CIN                                  0\n",
              "Dx:HPV                                  0\n",
              "Dx                                      0\n",
              "Schiller                                0\n",
              "Citology                                0\n",
              "Biopsy                                  0\n",
              "dtype: int64"
            ]
          },
          "metadata": {},
          "execution_count": 74
        }
      ]
    },
    {
      "cell_type": "code",
      "source": [
        "X_test[numerical].isnull().sum()"
      ],
      "metadata": {
        "colab": {
          "base_uri": "https://localhost:8080/"
        },
        "id": "B3jyE6yw5uMw",
        "outputId": "6dc93403-3fb5-43f4-f904-7846c8114a58"
      },
      "execution_count": null,
      "outputs": [
        {
          "output_type": "execute_result",
          "data": {
            "text/plain": [
              "Age                                     0\n",
              "Number of sexual partners               4\n",
              "First sexual intercourse                1\n",
              "Num of pregnancies                     12\n",
              "Smokes                                  2\n",
              "Smokes (years)                          2\n",
              "Smokes (packs/year)                     2\n",
              "Hormonal Contraceptives                23\n",
              "Hormonal Contraceptives (years)        23\n",
              "IUD                                    25\n",
              "IUD (years)                            25\n",
              "STDs                                   24\n",
              "STDs (number)                          24\n",
              "STDs:condylomatosis                    24\n",
              "STDs:cervical condylomatosis           24\n",
              "STDs:vaginal condylomatosis            24\n",
              "STDs:vulvo-perineal condylomatosis     24\n",
              "STDs:syphilis                          24\n",
              "STDs:pelvic inflammatory disease       24\n",
              "STDs:genital herpes                    24\n",
              "STDs:molluscum contagiosum             24\n",
              "STDs:AIDS                              24\n",
              "STDs:HIV                               24\n",
              "STDs:Hepatitis B                       24\n",
              "STDs:HPV                               24\n",
              "STDs: Number of diagnosis               0\n",
              "STDs: Time since first diagnosis      161\n",
              "STDs: Time since last diagnosis       161\n",
              "Dx:Cancer                               0\n",
              "Dx:CIN                                  0\n",
              "Dx:HPV                                  0\n",
              "Dx                                      0\n",
              "Schiller                                0\n",
              "Citology                                0\n",
              "Biopsy                                  0\n",
              "dtype: int64"
            ]
          },
          "metadata": {},
          "execution_count": 75
        }
      ]
    },
    {
      "cell_type": "code",
      "source": [
        "# print percentage of missing values in the numerical variables in training set\n",
        "\n",
        "for col in numerical:\n",
        "    if X_train[col].isnull().mean()>0:\n",
        "      print(col, round(X_train[col].isnull().mean(),4))"
      ],
      "metadata": {
        "colab": {
          "base_uri": "https://localhost:8080/"
        },
        "id": "ePIDoOKF6Gf4",
        "outputId": "fec3388d-9195-4a8c-e93f-a1e343e9785a"
      },
      "execution_count": null,
      "outputs": [
        {
          "output_type": "stream",
          "name": "stdout",
          "text": [
            "Number of sexual partners 0.0321\n",
            "First sexual intercourse 0.0087\n",
            "Num of pregnancies 0.0641\n",
            "Smokes 0.016\n",
            "Smokes (years) 0.016\n",
            "Smokes (packs/year) 0.016\n",
            "Hormonal Contraceptives 0.1239\n",
            "Hormonal Contraceptives (years) 0.1239\n",
            "IUD 0.1341\n",
            "IUD (years) 0.1341\n",
            "STDs 0.1181\n",
            "STDs (number) 0.1181\n",
            "STDs:condylomatosis 0.1181\n",
            "STDs:cervical condylomatosis 0.1181\n",
            "STDs:vaginal condylomatosis 0.1181\n",
            "STDs:vulvo-perineal condylomatosis 0.1181\n",
            "STDs:syphilis 0.1181\n",
            "STDs:pelvic inflammatory disease 0.1181\n",
            "STDs:genital herpes 0.1181\n",
            "STDs:molluscum contagiosum 0.1181\n",
            "STDs:AIDS 0.1181\n",
            "STDs:HIV 0.1181\n",
            "STDs:Hepatitis B 0.1181\n",
            "STDs:HPV 0.1181\n",
            "STDs: Time since first diagnosis 0.9125\n",
            "STDs: Time since last diagnosis 0.9125\n"
          ]
        }
      ]
    },
    {
      "cell_type": "code",
      "source": [
        "# impute missing values in X_train and X_test with respective column median in X_train\n",
        "\n",
        "for df1 in [X_train, X_test]:\n",
        "  for col in numerical:\n",
        "      col_median=X_train[col].median()\n",
        "      df1[col].fillna(col_median, inplace=True)"
      ],
      "metadata": {
        "id": "obXn2Gas60Ct"
      },
      "execution_count": null,
      "outputs": []
    },
    {
      "cell_type": "code",
      "source": [
        "X_test[numerical].isnull().sum()"
      ],
      "metadata": {
        "colab": {
          "base_uri": "https://localhost:8080/"
        },
        "id": "dMrwQvN47bdY",
        "outputId": "96e7f2b6-76f3-410d-c433-02ce51cc4249"
      },
      "execution_count": null,
      "outputs": [
        {
          "output_type": "execute_result",
          "data": {
            "text/plain": [
              "Age                                   0\n",
              "Number of sexual partners             0\n",
              "First sexual intercourse              0\n",
              "Num of pregnancies                    0\n",
              "Smokes                                0\n",
              "Smokes (years)                        0\n",
              "Smokes (packs/year)                   0\n",
              "Hormonal Contraceptives               0\n",
              "Hormonal Contraceptives (years)       0\n",
              "IUD                                   0\n",
              "IUD (years)                           0\n",
              "STDs                                  0\n",
              "STDs (number)                         0\n",
              "STDs:condylomatosis                   0\n",
              "STDs:cervical condylomatosis          0\n",
              "STDs:vaginal condylomatosis           0\n",
              "STDs:vulvo-perineal condylomatosis    0\n",
              "STDs:syphilis                         0\n",
              "STDs:pelvic inflammatory disease      0\n",
              "STDs:genital herpes                   0\n",
              "STDs:molluscum contagiosum            0\n",
              "STDs:AIDS                             0\n",
              "STDs:HIV                              0\n",
              "STDs:Hepatitis B                      0\n",
              "STDs:HPV                              0\n",
              "STDs: Number of diagnosis             0\n",
              "STDs: Time since first diagnosis      0\n",
              "STDs: Time since last diagnosis       0\n",
              "Dx:Cancer                             0\n",
              "Dx:CIN                                0\n",
              "Dx:HPV                                0\n",
              "Dx                                    0\n",
              "Schiller                              0\n",
              "Citology                              0\n",
              "Biopsy                                0\n",
              "dtype: int64"
            ]
          },
          "metadata": {},
          "execution_count": 80
        }
      ]
    },
    {
      "cell_type": "code",
      "source": [
        "X_train[numerical].isnull().sum()"
      ],
      "metadata": {
        "colab": {
          "base_uri": "https://localhost:8080/"
        },
        "id": "BLWWvfFV7hY1",
        "outputId": "984c5b22-4ecf-4d70-fd45-5d362b1a7eb7"
      },
      "execution_count": null,
      "outputs": [
        {
          "output_type": "execute_result",
          "data": {
            "text/plain": [
              "Age                                   0\n",
              "Number of sexual partners             0\n",
              "First sexual intercourse              0\n",
              "Num of pregnancies                    0\n",
              "Smokes                                0\n",
              "Smokes (years)                        0\n",
              "Smokes (packs/year)                   0\n",
              "Hormonal Contraceptives               0\n",
              "Hormonal Contraceptives (years)       0\n",
              "IUD                                   0\n",
              "IUD (years)                           0\n",
              "STDs                                  0\n",
              "STDs (number)                         0\n",
              "STDs:condylomatosis                   0\n",
              "STDs:cervical condylomatosis          0\n",
              "STDs:vaginal condylomatosis           0\n",
              "STDs:vulvo-perineal condylomatosis    0\n",
              "STDs:syphilis                         0\n",
              "STDs:pelvic inflammatory disease      0\n",
              "STDs:genital herpes                   0\n",
              "STDs:molluscum contagiosum            0\n",
              "STDs:AIDS                             0\n",
              "STDs:HIV                              0\n",
              "STDs:Hepatitis B                      0\n",
              "STDs:HPV                              0\n",
              "STDs: Number of diagnosis             0\n",
              "STDs: Time since first diagnosis      0\n",
              "STDs: Time since last diagnosis       0\n",
              "Dx:Cancer                             0\n",
              "Dx:CIN                                0\n",
              "Dx:HPV                                0\n",
              "Dx                                    0\n",
              "Schiller                              0\n",
              "Citology                              0\n",
              "Biopsy                                0\n",
              "dtype: int64"
            ]
          },
          "metadata": {},
          "execution_count": 81
        }
      ]
    },
    {
      "cell_type": "code",
      "source": [
        "def max_value(df3, variable, top):\n",
        "    return np.where(df3[variable]>top, top, df3[variable])\n",
        "\n",
        "for df3 in [X_train, X_test]:\n",
        "    df3['Age'] = max_value(df3, 'Age', 3.2)\n",
        "    df3['IUD'] = max_value(df3, 'IUD', 21.8)\n",
        "    df3['STDs'] = max_value(df3, 'STDs', 55)\n",
        "    df3['Smokes'] = max_value(df3, 'Smokes', 57)"
      ],
      "metadata": {
        "id": "F7MdIRPF7uyO"
      },
      "execution_count": null,
      "outputs": []
    },
    {
      "cell_type": "code",
      "source": [
        "X_train.Age.max(), X_test.Age.max()"
      ],
      "metadata": {
        "colab": {
          "base_uri": "https://localhost:8080/"
        },
        "id": "go64EeDR9Rcz",
        "outputId": "f4dc9ece-3b42-4d57-972a-29185bab7287"
      },
      "execution_count": null,
      "outputs": [
        {
          "output_type": "execute_result",
          "data": {
            "text/plain": [
              "(3.2, 3.2)"
            ]
          },
          "metadata": {},
          "execution_count": 94
        }
      ]
    },
    {
      "cell_type": "code",
      "source": [
        "X_train.IUD.max(), X_test.IUD.max()"
      ],
      "metadata": {
        "colab": {
          "base_uri": "https://localhost:8080/"
        },
        "id": "szzX6fk09UOn",
        "outputId": "7ccbec75-6f00-4328-9505-0d98882f4083"
      },
      "execution_count": null,
      "outputs": [
        {
          "output_type": "execute_result",
          "data": {
            "text/plain": [
              "(1.0, 1.0)"
            ]
          },
          "metadata": {},
          "execution_count": 95
        }
      ]
    },
    {
      "cell_type": "code",
      "source": [
        "X_train.STDs.max(), X_test.STDs.max()"
      ],
      "metadata": {
        "colab": {
          "base_uri": "https://localhost:8080/"
        },
        "id": "ahf6Rr00-YnX",
        "outputId": "3512757c-4f97-4c8c-ec34-d9e26601490f"
      },
      "execution_count": null,
      "outputs": [
        {
          "output_type": "execute_result",
          "data": {
            "text/plain": [
              "(1.0, 1.0)"
            ]
          },
          "metadata": {},
          "execution_count": 96
        }
      ]
    },
    {
      "cell_type": "code",
      "source": [
        "X_train.Smokes.max(), X_test.Smokes.max()"
      ],
      "metadata": {
        "colab": {
          "base_uri": "https://localhost:8080/"
        },
        "id": "8lAZYMvT-hH3",
        "outputId": "a19858a7-76af-4593-cbe2-9bfc05d29fc2"
      },
      "execution_count": null,
      "outputs": [
        {
          "output_type": "execute_result",
          "data": {
            "text/plain": [
              "(1.0, 1.0)"
            ]
          },
          "metadata": {},
          "execution_count": 97
        }
      ]
    },
    {
      "cell_type": "code",
      "source": [
        "X_train[numerical].describe()"
      ],
      "metadata": {
        "colab": {
          "base_uri": "https://localhost:8080/",
          "height": 365
        },
        "id": "xgi2kphn-89U",
        "outputId": "5a623521-31a9-46bc-a7bd-4b025e258358"
      },
      "execution_count": null,
      "outputs": [
        {
          "output_type": "execute_result",
          "data": {
            "text/plain": [
              "                Age  Number of sexual partners  First sexual intercourse  \\\n",
              "count  6.860000e+02                 686.000000                686.000000   \n",
              "mean   3.200000e+00                   2.550729                 16.931487   \n",
              "std    4.444132e-16                   1.572563                  2.806088   \n",
              "min    3.200000e+00                   1.000000                 10.000000   \n",
              "25%    3.200000e+00                   2.000000                 15.000000   \n",
              "50%    3.200000e+00                   2.000000                 17.000000   \n",
              "75%    3.200000e+00                   3.000000                 18.000000   \n",
              "max    3.200000e+00                  21.800000                 32.000000   \n",
              "\n",
              "       Num of pregnancies      Smokes  Smokes (years)  Smokes (packs/year)  \\\n",
              "count          686.000000  686.000000      686.000000           686.000000   \n",
              "mean             2.269679    0.144315        1.191832             0.482925   \n",
              "std              1.379257    0.351665        3.960110             2.372255   \n",
              "min              0.000000    0.000000        0.000000             0.000000   \n",
              "25%              1.000000    0.000000        0.000000             0.000000   \n",
              "50%              2.000000    0.000000        0.000000             0.000000   \n",
              "75%              3.000000    0.000000        0.000000             0.000000   \n",
              "max             10.000000    1.000000       37.000000            37.000000   \n",
              "\n",
              "       Hormonal Contraceptives  Hormonal Contraceptives (years)         IUD  \\\n",
              "count               686.000000                       686.000000  686.000000   \n",
              "mean                  0.683673                         2.098531    0.094752   \n",
              "std                   0.465381                         3.574475    0.293086   \n",
              "min                   0.000000                         0.000000    0.000000   \n",
              "25%                   0.000000                         0.000000    0.000000   \n",
              "50%                   1.000000                         0.500000    0.000000   \n",
              "75%                   1.000000                         3.000000    0.000000   \n",
              "max                   1.000000                        22.000000    1.000000   \n",
              "\n",
              "       ...  STDs: Number of diagnosis  STDs: Time since first diagnosis  \\\n",
              "count  ...                 686.000000                        686.000000   \n",
              "mean   ...                   0.091837                          3.758017   \n",
              "std    ...                   0.308550                          2.017924   \n",
              "min    ...                   0.000000                          1.000000   \n",
              "25%    ...                   0.000000                          3.500000   \n",
              "50%    ...                   0.000000                          3.500000   \n",
              "75%    ...                   0.000000                          3.500000   \n",
              "max    ...                   3.000000                         22.000000   \n",
              "\n",
              "       STDs: Time since last diagnosis   Dx:Cancer      Dx:CIN      Dx:HPV  \\\n",
              "count                       686.000000  686.000000  686.000000  686.000000   \n",
              "mean                          3.272595    0.024781    0.011662    0.024781   \n",
              "std                           1.995625    0.155572    0.107437    0.155572   \n",
              "min                           1.000000    0.000000    0.000000    0.000000   \n",
              "25%                           3.000000    0.000000    0.000000    0.000000   \n",
              "50%                           3.000000    0.000000    0.000000    0.000000   \n",
              "75%                           3.000000    0.000000    0.000000    0.000000   \n",
              "max                          22.000000    1.000000    1.000000    1.000000   \n",
              "\n",
              "               Dx    Schiller    Citology      Biopsy  \n",
              "count  686.000000  686.000000  686.000000  686.000000  \n",
              "mean     0.032070    0.094752    0.046647    0.068513  \n",
              "std      0.176315    0.293086    0.211036    0.252809  \n",
              "min      0.000000    0.000000    0.000000    0.000000  \n",
              "25%      0.000000    0.000000    0.000000    0.000000  \n",
              "50%      0.000000    0.000000    0.000000    0.000000  \n",
              "75%      0.000000    0.000000    0.000000    0.000000  \n",
              "max      1.000000    1.000000    1.000000    1.000000  \n",
              "\n",
              "[8 rows x 35 columns]"
            ],
            "text/html": [
              "\n",
              "  <div id=\"df-02f37cff-49a6-485a-84ec-a648bde2c391\" class=\"colab-df-container\">\n",
              "    <div>\n",
              "<style scoped>\n",
              "    .dataframe tbody tr th:only-of-type {\n",
              "        vertical-align: middle;\n",
              "    }\n",
              "\n",
              "    .dataframe tbody tr th {\n",
              "        vertical-align: top;\n",
              "    }\n",
              "\n",
              "    .dataframe thead th {\n",
              "        text-align: right;\n",
              "    }\n",
              "</style>\n",
              "<table border=\"1\" class=\"dataframe\">\n",
              "  <thead>\n",
              "    <tr style=\"text-align: right;\">\n",
              "      <th></th>\n",
              "      <th>Age</th>\n",
              "      <th>Number of sexual partners</th>\n",
              "      <th>First sexual intercourse</th>\n",
              "      <th>Num of pregnancies</th>\n",
              "      <th>Smokes</th>\n",
              "      <th>Smokes (years)</th>\n",
              "      <th>Smokes (packs/year)</th>\n",
              "      <th>Hormonal Contraceptives</th>\n",
              "      <th>Hormonal Contraceptives (years)</th>\n",
              "      <th>IUD</th>\n",
              "      <th>...</th>\n",
              "      <th>STDs: Number of diagnosis</th>\n",
              "      <th>STDs: Time since first diagnosis</th>\n",
              "      <th>STDs: Time since last diagnosis</th>\n",
              "      <th>Dx:Cancer</th>\n",
              "      <th>Dx:CIN</th>\n",
              "      <th>Dx:HPV</th>\n",
              "      <th>Dx</th>\n",
              "      <th>Schiller</th>\n",
              "      <th>Citology</th>\n",
              "      <th>Biopsy</th>\n",
              "    </tr>\n",
              "  </thead>\n",
              "  <tbody>\n",
              "    <tr>\n",
              "      <th>count</th>\n",
              "      <td>6.860000e+02</td>\n",
              "      <td>686.000000</td>\n",
              "      <td>686.000000</td>\n",
              "      <td>686.000000</td>\n",
              "      <td>686.000000</td>\n",
              "      <td>686.000000</td>\n",
              "      <td>686.000000</td>\n",
              "      <td>686.000000</td>\n",
              "      <td>686.000000</td>\n",
              "      <td>686.000000</td>\n",
              "      <td>...</td>\n",
              "      <td>686.000000</td>\n",
              "      <td>686.000000</td>\n",
              "      <td>686.000000</td>\n",
              "      <td>686.000000</td>\n",
              "      <td>686.000000</td>\n",
              "      <td>686.000000</td>\n",
              "      <td>686.000000</td>\n",
              "      <td>686.000000</td>\n",
              "      <td>686.000000</td>\n",
              "      <td>686.000000</td>\n",
              "    </tr>\n",
              "    <tr>\n",
              "      <th>mean</th>\n",
              "      <td>3.200000e+00</td>\n",
              "      <td>2.550729</td>\n",
              "      <td>16.931487</td>\n",
              "      <td>2.269679</td>\n",
              "      <td>0.144315</td>\n",
              "      <td>1.191832</td>\n",
              "      <td>0.482925</td>\n",
              "      <td>0.683673</td>\n",
              "      <td>2.098531</td>\n",
              "      <td>0.094752</td>\n",
              "      <td>...</td>\n",
              "      <td>0.091837</td>\n",
              "      <td>3.758017</td>\n",
              "      <td>3.272595</td>\n",
              "      <td>0.024781</td>\n",
              "      <td>0.011662</td>\n",
              "      <td>0.024781</td>\n",
              "      <td>0.032070</td>\n",
              "      <td>0.094752</td>\n",
              "      <td>0.046647</td>\n",
              "      <td>0.068513</td>\n",
              "    </tr>\n",
              "    <tr>\n",
              "      <th>std</th>\n",
              "      <td>4.444132e-16</td>\n",
              "      <td>1.572563</td>\n",
              "      <td>2.806088</td>\n",
              "      <td>1.379257</td>\n",
              "      <td>0.351665</td>\n",
              "      <td>3.960110</td>\n",
              "      <td>2.372255</td>\n",
              "      <td>0.465381</td>\n",
              "      <td>3.574475</td>\n",
              "      <td>0.293086</td>\n",
              "      <td>...</td>\n",
              "      <td>0.308550</td>\n",
              "      <td>2.017924</td>\n",
              "      <td>1.995625</td>\n",
              "      <td>0.155572</td>\n",
              "      <td>0.107437</td>\n",
              "      <td>0.155572</td>\n",
              "      <td>0.176315</td>\n",
              "      <td>0.293086</td>\n",
              "      <td>0.211036</td>\n",
              "      <td>0.252809</td>\n",
              "    </tr>\n",
              "    <tr>\n",
              "      <th>min</th>\n",
              "      <td>3.200000e+00</td>\n",
              "      <td>1.000000</td>\n",
              "      <td>10.000000</td>\n",
              "      <td>0.000000</td>\n",
              "      <td>0.000000</td>\n",
              "      <td>0.000000</td>\n",
              "      <td>0.000000</td>\n",
              "      <td>0.000000</td>\n",
              "      <td>0.000000</td>\n",
              "      <td>0.000000</td>\n",
              "      <td>...</td>\n",
              "      <td>0.000000</td>\n",
              "      <td>1.000000</td>\n",
              "      <td>1.000000</td>\n",
              "      <td>0.000000</td>\n",
              "      <td>0.000000</td>\n",
              "      <td>0.000000</td>\n",
              "      <td>0.000000</td>\n",
              "      <td>0.000000</td>\n",
              "      <td>0.000000</td>\n",
              "      <td>0.000000</td>\n",
              "    </tr>\n",
              "    <tr>\n",
              "      <th>25%</th>\n",
              "      <td>3.200000e+00</td>\n",
              "      <td>2.000000</td>\n",
              "      <td>15.000000</td>\n",
              "      <td>1.000000</td>\n",
              "      <td>0.000000</td>\n",
              "      <td>0.000000</td>\n",
              "      <td>0.000000</td>\n",
              "      <td>0.000000</td>\n",
              "      <td>0.000000</td>\n",
              "      <td>0.000000</td>\n",
              "      <td>...</td>\n",
              "      <td>0.000000</td>\n",
              "      <td>3.500000</td>\n",
              "      <td>3.000000</td>\n",
              "      <td>0.000000</td>\n",
              "      <td>0.000000</td>\n",
              "      <td>0.000000</td>\n",
              "      <td>0.000000</td>\n",
              "      <td>0.000000</td>\n",
              "      <td>0.000000</td>\n",
              "      <td>0.000000</td>\n",
              "    </tr>\n",
              "    <tr>\n",
              "      <th>50%</th>\n",
              "      <td>3.200000e+00</td>\n",
              "      <td>2.000000</td>\n",
              "      <td>17.000000</td>\n",
              "      <td>2.000000</td>\n",
              "      <td>0.000000</td>\n",
              "      <td>0.000000</td>\n",
              "      <td>0.000000</td>\n",
              "      <td>1.000000</td>\n",
              "      <td>0.500000</td>\n",
              "      <td>0.000000</td>\n",
              "      <td>...</td>\n",
              "      <td>0.000000</td>\n",
              "      <td>3.500000</td>\n",
              "      <td>3.000000</td>\n",
              "      <td>0.000000</td>\n",
              "      <td>0.000000</td>\n",
              "      <td>0.000000</td>\n",
              "      <td>0.000000</td>\n",
              "      <td>0.000000</td>\n",
              "      <td>0.000000</td>\n",
              "      <td>0.000000</td>\n",
              "    </tr>\n",
              "    <tr>\n",
              "      <th>75%</th>\n",
              "      <td>3.200000e+00</td>\n",
              "      <td>3.000000</td>\n",
              "      <td>18.000000</td>\n",
              "      <td>3.000000</td>\n",
              "      <td>0.000000</td>\n",
              "      <td>0.000000</td>\n",
              "      <td>0.000000</td>\n",
              "      <td>1.000000</td>\n",
              "      <td>3.000000</td>\n",
              "      <td>0.000000</td>\n",
              "      <td>...</td>\n",
              "      <td>0.000000</td>\n",
              "      <td>3.500000</td>\n",
              "      <td>3.000000</td>\n",
              "      <td>0.000000</td>\n",
              "      <td>0.000000</td>\n",
              "      <td>0.000000</td>\n",
              "      <td>0.000000</td>\n",
              "      <td>0.000000</td>\n",
              "      <td>0.000000</td>\n",
              "      <td>0.000000</td>\n",
              "    </tr>\n",
              "    <tr>\n",
              "      <th>max</th>\n",
              "      <td>3.200000e+00</td>\n",
              "      <td>21.800000</td>\n",
              "      <td>32.000000</td>\n",
              "      <td>10.000000</td>\n",
              "      <td>1.000000</td>\n",
              "      <td>37.000000</td>\n",
              "      <td>37.000000</td>\n",
              "      <td>1.000000</td>\n",
              "      <td>22.000000</td>\n",
              "      <td>1.000000</td>\n",
              "      <td>...</td>\n",
              "      <td>3.000000</td>\n",
              "      <td>22.000000</td>\n",
              "      <td>22.000000</td>\n",
              "      <td>1.000000</td>\n",
              "      <td>1.000000</td>\n",
              "      <td>1.000000</td>\n",
              "      <td>1.000000</td>\n",
              "      <td>1.000000</td>\n",
              "      <td>1.000000</td>\n",
              "      <td>1.000000</td>\n",
              "    </tr>\n",
              "  </tbody>\n",
              "</table>\n",
              "<p>8 rows × 35 columns</p>\n",
              "</div>\n",
              "    <div class=\"colab-df-buttons\">\n",
              "\n",
              "  <div class=\"colab-df-container\">\n",
              "    <button class=\"colab-df-convert\" onclick=\"convertToInteractive('df-02f37cff-49a6-485a-84ec-a648bde2c391')\"\n",
              "            title=\"Convert this dataframe to an interactive table.\"\n",
              "            style=\"display:none;\">\n",
              "\n",
              "  <svg xmlns=\"http://www.w3.org/2000/svg\" height=\"24px\" viewBox=\"0 -960 960 960\">\n",
              "    <path d=\"M120-120v-720h720v720H120Zm60-500h600v-160H180v160Zm220 220h160v-160H400v160Zm0 220h160v-160H400v160ZM180-400h160v-160H180v160Zm440 0h160v-160H620v160ZM180-180h160v-160H180v160Zm440 0h160v-160H620v160Z\"/>\n",
              "  </svg>\n",
              "    </button>\n",
              "\n",
              "  <style>\n",
              "    .colab-df-container {\n",
              "      display:flex;\n",
              "      gap: 12px;\n",
              "    }\n",
              "\n",
              "    .colab-df-convert {\n",
              "      background-color: #E8F0FE;\n",
              "      border: none;\n",
              "      border-radius: 50%;\n",
              "      cursor: pointer;\n",
              "      display: none;\n",
              "      fill: #1967D2;\n",
              "      height: 32px;\n",
              "      padding: 0 0 0 0;\n",
              "      width: 32px;\n",
              "    }\n",
              "\n",
              "    .colab-df-convert:hover {\n",
              "      background-color: #E2EBFA;\n",
              "      box-shadow: 0px 1px 2px rgba(60, 64, 67, 0.3), 0px 1px 3px 1px rgba(60, 64, 67, 0.15);\n",
              "      fill: #174EA6;\n",
              "    }\n",
              "\n",
              "    .colab-df-buttons div {\n",
              "      margin-bottom: 4px;\n",
              "    }\n",
              "\n",
              "    [theme=dark] .colab-df-convert {\n",
              "      background-color: #3B4455;\n",
              "      fill: #D2E3FC;\n",
              "    }\n",
              "\n",
              "    [theme=dark] .colab-df-convert:hover {\n",
              "      background-color: #434B5C;\n",
              "      box-shadow: 0px 1px 3px 1px rgba(0, 0, 0, 0.15);\n",
              "      filter: drop-shadow(0px 1px 2px rgba(0, 0, 0, 0.3));\n",
              "      fill: #FFFFFF;\n",
              "    }\n",
              "  </style>\n",
              "\n",
              "    <script>\n",
              "      const buttonEl =\n",
              "        document.querySelector('#df-02f37cff-49a6-485a-84ec-a648bde2c391 button.colab-df-convert');\n",
              "      buttonEl.style.display =\n",
              "        google.colab.kernel.accessAllowed ? 'block' : 'none';\n",
              "\n",
              "      async function convertToInteractive(key) {\n",
              "        const element = document.querySelector('#df-02f37cff-49a6-485a-84ec-a648bde2c391');\n",
              "        const dataTable =\n",
              "          await google.colab.kernel.invokeFunction('convertToInteractive',\n",
              "                                                    [key], {});\n",
              "        if (!dataTable) return;\n",
              "\n",
              "        const docLinkHtml = 'Like what you see? Visit the ' +\n",
              "          '<a target=\"_blank\" href=https://colab.research.google.com/notebooks/data_table.ipynb>data table notebook</a>'\n",
              "          + ' to learn more about interactive tables.';\n",
              "        element.innerHTML = '';\n",
              "        dataTable['output_type'] = 'display_data';\n",
              "        await google.colab.output.renderOutput(dataTable, element);\n",
              "        const docLink = document.createElement('div');\n",
              "        docLink.innerHTML = docLinkHtml;\n",
              "        element.appendChild(docLink);\n",
              "      }\n",
              "    </script>\n",
              "  </div>\n",
              "\n",
              "\n",
              "<div id=\"df-c4e2a280-6dc4-41f4-96ad-e5171900193d\">\n",
              "  <button class=\"colab-df-quickchart\" onclick=\"quickchart('df-c4e2a280-6dc4-41f4-96ad-e5171900193d')\"\n",
              "            title=\"Suggest charts\"\n",
              "            style=\"display:none;\">\n",
              "\n",
              "<svg xmlns=\"http://www.w3.org/2000/svg\" height=\"24px\"viewBox=\"0 0 24 24\"\n",
              "     width=\"24px\">\n",
              "    <g>\n",
              "        <path d=\"M19 3H5c-1.1 0-2 .9-2 2v14c0 1.1.9 2 2 2h14c1.1 0 2-.9 2-2V5c0-1.1-.9-2-2-2zM9 17H7v-7h2v7zm4 0h-2V7h2v10zm4 0h-2v-4h2v4z\"/>\n",
              "    </g>\n",
              "</svg>\n",
              "  </button>\n",
              "\n",
              "<style>\n",
              "  .colab-df-quickchart {\n",
              "      --bg-color: #E8F0FE;\n",
              "      --fill-color: #1967D2;\n",
              "      --hover-bg-color: #E2EBFA;\n",
              "      --hover-fill-color: #174EA6;\n",
              "      --disabled-fill-color: #AAA;\n",
              "      --disabled-bg-color: #DDD;\n",
              "  }\n",
              "\n",
              "  [theme=dark] .colab-df-quickchart {\n",
              "      --bg-color: #3B4455;\n",
              "      --fill-color: #D2E3FC;\n",
              "      --hover-bg-color: #434B5C;\n",
              "      --hover-fill-color: #FFFFFF;\n",
              "      --disabled-bg-color: #3B4455;\n",
              "      --disabled-fill-color: #666;\n",
              "  }\n",
              "\n",
              "  .colab-df-quickchart {\n",
              "    background-color: var(--bg-color);\n",
              "    border: none;\n",
              "    border-radius: 50%;\n",
              "    cursor: pointer;\n",
              "    display: none;\n",
              "    fill: var(--fill-color);\n",
              "    height: 32px;\n",
              "    padding: 0;\n",
              "    width: 32px;\n",
              "  }\n",
              "\n",
              "  .colab-df-quickchart:hover {\n",
              "    background-color: var(--hover-bg-color);\n",
              "    box-shadow: 0 1px 2px rgba(60, 64, 67, 0.3), 0 1px 3px 1px rgba(60, 64, 67, 0.15);\n",
              "    fill: var(--button-hover-fill-color);\n",
              "  }\n",
              "\n",
              "  .colab-df-quickchart-complete:disabled,\n",
              "  .colab-df-quickchart-complete:disabled:hover {\n",
              "    background-color: var(--disabled-bg-color);\n",
              "    fill: var(--disabled-fill-color);\n",
              "    box-shadow: none;\n",
              "  }\n",
              "\n",
              "  .colab-df-spinner {\n",
              "    border: 2px solid var(--fill-color);\n",
              "    border-color: transparent;\n",
              "    border-bottom-color: var(--fill-color);\n",
              "    animation:\n",
              "      spin 1s steps(1) infinite;\n",
              "  }\n",
              "\n",
              "  @keyframes spin {\n",
              "    0% {\n",
              "      border-color: transparent;\n",
              "      border-bottom-color: var(--fill-color);\n",
              "      border-left-color: var(--fill-color);\n",
              "    }\n",
              "    20% {\n",
              "      border-color: transparent;\n",
              "      border-left-color: var(--fill-color);\n",
              "      border-top-color: var(--fill-color);\n",
              "    }\n",
              "    30% {\n",
              "      border-color: transparent;\n",
              "      border-left-color: var(--fill-color);\n",
              "      border-top-color: var(--fill-color);\n",
              "      border-right-color: var(--fill-color);\n",
              "    }\n",
              "    40% {\n",
              "      border-color: transparent;\n",
              "      border-right-color: var(--fill-color);\n",
              "      border-top-color: var(--fill-color);\n",
              "    }\n",
              "    60% {\n",
              "      border-color: transparent;\n",
              "      border-right-color: var(--fill-color);\n",
              "    }\n",
              "    80% {\n",
              "      border-color: transparent;\n",
              "      border-right-color: var(--fill-color);\n",
              "      border-bottom-color: var(--fill-color);\n",
              "    }\n",
              "    90% {\n",
              "      border-color: transparent;\n",
              "      border-bottom-color: var(--fill-color);\n",
              "    }\n",
              "  }\n",
              "</style>\n",
              "\n",
              "  <script>\n",
              "    async function quickchart(key) {\n",
              "      const quickchartButtonEl =\n",
              "        document.querySelector('#' + key + ' button');\n",
              "      quickchartButtonEl.disabled = true;  // To prevent multiple clicks.\n",
              "      quickchartButtonEl.classList.add('colab-df-spinner');\n",
              "      try {\n",
              "        const charts = await google.colab.kernel.invokeFunction(\n",
              "            'suggestCharts', [key], {});\n",
              "      } catch (error) {\n",
              "        console.error('Error during call to suggestCharts:', error);\n",
              "      }\n",
              "      quickchartButtonEl.classList.remove('colab-df-spinner');\n",
              "      quickchartButtonEl.classList.add('colab-df-quickchart-complete');\n",
              "    }\n",
              "    (() => {\n",
              "      let quickchartButtonEl =\n",
              "        document.querySelector('#df-c4e2a280-6dc4-41f4-96ad-e5171900193d button');\n",
              "      quickchartButtonEl.style.display =\n",
              "        google.colab.kernel.accessAllowed ? 'block' : 'none';\n",
              "    })();\n",
              "  </script>\n",
              "</div>\n",
              "    </div>\n",
              "  </div>\n"
            ],
            "application/vnd.google.colaboratory.intrinsic+json": {
              "type": "dataframe"
            }
          },
          "metadata": {},
          "execution_count": 98
        }
      ]
    },
    {
      "cell_type": "code",
      "source": [
        "X_train.describe()"
      ],
      "metadata": {
        "colab": {
          "base_uri": "https://localhost:8080/",
          "height": 365
        },
        "id": "6wjRUGVU_IS6",
        "outputId": "0d5c16e5-59c4-402c-8d99-600611a4eb5c"
      },
      "execution_count": null,
      "outputs": [
        {
          "output_type": "execute_result",
          "data": {
            "text/plain": [
              "                Age  Number of sexual partners  First sexual intercourse  \\\n",
              "count  6.860000e+02                 686.000000                686.000000   \n",
              "mean   3.200000e+00                   2.550729                 16.931487   \n",
              "std    4.444132e-16                   1.572563                  2.806088   \n",
              "min    3.200000e+00                   1.000000                 10.000000   \n",
              "25%    3.200000e+00                   2.000000                 15.000000   \n",
              "50%    3.200000e+00                   2.000000                 17.000000   \n",
              "75%    3.200000e+00                   3.000000                 18.000000   \n",
              "max    3.200000e+00                  21.800000                 32.000000   \n",
              "\n",
              "       Num of pregnancies      Smokes  Smokes (years)  Smokes (packs/year)  \\\n",
              "count          686.000000  686.000000      686.000000           686.000000   \n",
              "mean             2.269679    0.144315        1.191832             0.482925   \n",
              "std              1.379257    0.351665        3.960110             2.372255   \n",
              "min              0.000000    0.000000        0.000000             0.000000   \n",
              "25%              1.000000    0.000000        0.000000             0.000000   \n",
              "50%              2.000000    0.000000        0.000000             0.000000   \n",
              "75%              3.000000    0.000000        0.000000             0.000000   \n",
              "max             10.000000    1.000000       37.000000            37.000000   \n",
              "\n",
              "       Hormonal Contraceptives  Hormonal Contraceptives (years)         IUD  \\\n",
              "count               686.000000                       686.000000  686.000000   \n",
              "mean                  0.683673                         2.098531    0.094752   \n",
              "std                   0.465381                         3.574475    0.293086   \n",
              "min                   0.000000                         0.000000    0.000000   \n",
              "25%                   0.000000                         0.000000    0.000000   \n",
              "50%                   1.000000                         0.500000    0.000000   \n",
              "75%                   1.000000                         3.000000    0.000000   \n",
              "max                   1.000000                        22.000000    1.000000   \n",
              "\n",
              "       ...  STDs: Number of diagnosis  STDs: Time since first diagnosis  \\\n",
              "count  ...                 686.000000                        686.000000   \n",
              "mean   ...                   0.091837                          3.758017   \n",
              "std    ...                   0.308550                          2.017924   \n",
              "min    ...                   0.000000                          1.000000   \n",
              "25%    ...                   0.000000                          3.500000   \n",
              "50%    ...                   0.000000                          3.500000   \n",
              "75%    ...                   0.000000                          3.500000   \n",
              "max    ...                   3.000000                         22.000000   \n",
              "\n",
              "       STDs: Time since last diagnosis   Dx:Cancer      Dx:CIN      Dx:HPV  \\\n",
              "count                       686.000000  686.000000  686.000000  686.000000   \n",
              "mean                          3.272595    0.024781    0.011662    0.024781   \n",
              "std                           1.995625    0.155572    0.107437    0.155572   \n",
              "min                           1.000000    0.000000    0.000000    0.000000   \n",
              "25%                           3.000000    0.000000    0.000000    0.000000   \n",
              "50%                           3.000000    0.000000    0.000000    0.000000   \n",
              "75%                           3.000000    0.000000    0.000000    0.000000   \n",
              "max                          22.000000    1.000000    1.000000    1.000000   \n",
              "\n",
              "               Dx    Schiller    Citology      Biopsy  \n",
              "count  686.000000  686.000000  686.000000  686.000000  \n",
              "mean     0.032070    0.094752    0.046647    0.068513  \n",
              "std      0.176315    0.293086    0.211036    0.252809  \n",
              "min      0.000000    0.000000    0.000000    0.000000  \n",
              "25%      0.000000    0.000000    0.000000    0.000000  \n",
              "50%      0.000000    0.000000    0.000000    0.000000  \n",
              "75%      0.000000    0.000000    0.000000    0.000000  \n",
              "max      1.000000    1.000000    1.000000    1.000000  \n",
              "\n",
              "[8 rows x 35 columns]"
            ],
            "text/html": [
              "\n",
              "  <div id=\"df-b7ab4321-46a6-4ac9-aad1-962b053511f8\" class=\"colab-df-container\">\n",
              "    <div>\n",
              "<style scoped>\n",
              "    .dataframe tbody tr th:only-of-type {\n",
              "        vertical-align: middle;\n",
              "    }\n",
              "\n",
              "    .dataframe tbody tr th {\n",
              "        vertical-align: top;\n",
              "    }\n",
              "\n",
              "    .dataframe thead th {\n",
              "        text-align: right;\n",
              "    }\n",
              "</style>\n",
              "<table border=\"1\" class=\"dataframe\">\n",
              "  <thead>\n",
              "    <tr style=\"text-align: right;\">\n",
              "      <th></th>\n",
              "      <th>Age</th>\n",
              "      <th>Number of sexual partners</th>\n",
              "      <th>First sexual intercourse</th>\n",
              "      <th>Num of pregnancies</th>\n",
              "      <th>Smokes</th>\n",
              "      <th>Smokes (years)</th>\n",
              "      <th>Smokes (packs/year)</th>\n",
              "      <th>Hormonal Contraceptives</th>\n",
              "      <th>Hormonal Contraceptives (years)</th>\n",
              "      <th>IUD</th>\n",
              "      <th>...</th>\n",
              "      <th>STDs: Number of diagnosis</th>\n",
              "      <th>STDs: Time since first diagnosis</th>\n",
              "      <th>STDs: Time since last diagnosis</th>\n",
              "      <th>Dx:Cancer</th>\n",
              "      <th>Dx:CIN</th>\n",
              "      <th>Dx:HPV</th>\n",
              "      <th>Dx</th>\n",
              "      <th>Schiller</th>\n",
              "      <th>Citology</th>\n",
              "      <th>Biopsy</th>\n",
              "    </tr>\n",
              "  </thead>\n",
              "  <tbody>\n",
              "    <tr>\n",
              "      <th>count</th>\n",
              "      <td>6.860000e+02</td>\n",
              "      <td>686.000000</td>\n",
              "      <td>686.000000</td>\n",
              "      <td>686.000000</td>\n",
              "      <td>686.000000</td>\n",
              "      <td>686.000000</td>\n",
              "      <td>686.000000</td>\n",
              "      <td>686.000000</td>\n",
              "      <td>686.000000</td>\n",
              "      <td>686.000000</td>\n",
              "      <td>...</td>\n",
              "      <td>686.000000</td>\n",
              "      <td>686.000000</td>\n",
              "      <td>686.000000</td>\n",
              "      <td>686.000000</td>\n",
              "      <td>686.000000</td>\n",
              "      <td>686.000000</td>\n",
              "      <td>686.000000</td>\n",
              "      <td>686.000000</td>\n",
              "      <td>686.000000</td>\n",
              "      <td>686.000000</td>\n",
              "    </tr>\n",
              "    <tr>\n",
              "      <th>mean</th>\n",
              "      <td>3.200000e+00</td>\n",
              "      <td>2.550729</td>\n",
              "      <td>16.931487</td>\n",
              "      <td>2.269679</td>\n",
              "      <td>0.144315</td>\n",
              "      <td>1.191832</td>\n",
              "      <td>0.482925</td>\n",
              "      <td>0.683673</td>\n",
              "      <td>2.098531</td>\n",
              "      <td>0.094752</td>\n",
              "      <td>...</td>\n",
              "      <td>0.091837</td>\n",
              "      <td>3.758017</td>\n",
              "      <td>3.272595</td>\n",
              "      <td>0.024781</td>\n",
              "      <td>0.011662</td>\n",
              "      <td>0.024781</td>\n",
              "      <td>0.032070</td>\n",
              "      <td>0.094752</td>\n",
              "      <td>0.046647</td>\n",
              "      <td>0.068513</td>\n",
              "    </tr>\n",
              "    <tr>\n",
              "      <th>std</th>\n",
              "      <td>4.444132e-16</td>\n",
              "      <td>1.572563</td>\n",
              "      <td>2.806088</td>\n",
              "      <td>1.379257</td>\n",
              "      <td>0.351665</td>\n",
              "      <td>3.960110</td>\n",
              "      <td>2.372255</td>\n",
              "      <td>0.465381</td>\n",
              "      <td>3.574475</td>\n",
              "      <td>0.293086</td>\n",
              "      <td>...</td>\n",
              "      <td>0.308550</td>\n",
              "      <td>2.017924</td>\n",
              "      <td>1.995625</td>\n",
              "      <td>0.155572</td>\n",
              "      <td>0.107437</td>\n",
              "      <td>0.155572</td>\n",
              "      <td>0.176315</td>\n",
              "      <td>0.293086</td>\n",
              "      <td>0.211036</td>\n",
              "      <td>0.252809</td>\n",
              "    </tr>\n",
              "    <tr>\n",
              "      <th>min</th>\n",
              "      <td>3.200000e+00</td>\n",
              "      <td>1.000000</td>\n",
              "      <td>10.000000</td>\n",
              "      <td>0.000000</td>\n",
              "      <td>0.000000</td>\n",
              "      <td>0.000000</td>\n",
              "      <td>0.000000</td>\n",
              "      <td>0.000000</td>\n",
              "      <td>0.000000</td>\n",
              "      <td>0.000000</td>\n",
              "      <td>...</td>\n",
              "      <td>0.000000</td>\n",
              "      <td>1.000000</td>\n",
              "      <td>1.000000</td>\n",
              "      <td>0.000000</td>\n",
              "      <td>0.000000</td>\n",
              "      <td>0.000000</td>\n",
              "      <td>0.000000</td>\n",
              "      <td>0.000000</td>\n",
              "      <td>0.000000</td>\n",
              "      <td>0.000000</td>\n",
              "    </tr>\n",
              "    <tr>\n",
              "      <th>25%</th>\n",
              "      <td>3.200000e+00</td>\n",
              "      <td>2.000000</td>\n",
              "      <td>15.000000</td>\n",
              "      <td>1.000000</td>\n",
              "      <td>0.000000</td>\n",
              "      <td>0.000000</td>\n",
              "      <td>0.000000</td>\n",
              "      <td>0.000000</td>\n",
              "      <td>0.000000</td>\n",
              "      <td>0.000000</td>\n",
              "      <td>...</td>\n",
              "      <td>0.000000</td>\n",
              "      <td>3.500000</td>\n",
              "      <td>3.000000</td>\n",
              "      <td>0.000000</td>\n",
              "      <td>0.000000</td>\n",
              "      <td>0.000000</td>\n",
              "      <td>0.000000</td>\n",
              "      <td>0.000000</td>\n",
              "      <td>0.000000</td>\n",
              "      <td>0.000000</td>\n",
              "    </tr>\n",
              "    <tr>\n",
              "      <th>50%</th>\n",
              "      <td>3.200000e+00</td>\n",
              "      <td>2.000000</td>\n",
              "      <td>17.000000</td>\n",
              "      <td>2.000000</td>\n",
              "      <td>0.000000</td>\n",
              "      <td>0.000000</td>\n",
              "      <td>0.000000</td>\n",
              "      <td>1.000000</td>\n",
              "      <td>0.500000</td>\n",
              "      <td>0.000000</td>\n",
              "      <td>...</td>\n",
              "      <td>0.000000</td>\n",
              "      <td>3.500000</td>\n",
              "      <td>3.000000</td>\n",
              "      <td>0.000000</td>\n",
              "      <td>0.000000</td>\n",
              "      <td>0.000000</td>\n",
              "      <td>0.000000</td>\n",
              "      <td>0.000000</td>\n",
              "      <td>0.000000</td>\n",
              "      <td>0.000000</td>\n",
              "    </tr>\n",
              "    <tr>\n",
              "      <th>75%</th>\n",
              "      <td>3.200000e+00</td>\n",
              "      <td>3.000000</td>\n",
              "      <td>18.000000</td>\n",
              "      <td>3.000000</td>\n",
              "      <td>0.000000</td>\n",
              "      <td>0.000000</td>\n",
              "      <td>0.000000</td>\n",
              "      <td>1.000000</td>\n",
              "      <td>3.000000</td>\n",
              "      <td>0.000000</td>\n",
              "      <td>...</td>\n",
              "      <td>0.000000</td>\n",
              "      <td>3.500000</td>\n",
              "      <td>3.000000</td>\n",
              "      <td>0.000000</td>\n",
              "      <td>0.000000</td>\n",
              "      <td>0.000000</td>\n",
              "      <td>0.000000</td>\n",
              "      <td>0.000000</td>\n",
              "      <td>0.000000</td>\n",
              "      <td>0.000000</td>\n",
              "    </tr>\n",
              "    <tr>\n",
              "      <th>max</th>\n",
              "      <td>3.200000e+00</td>\n",
              "      <td>21.800000</td>\n",
              "      <td>32.000000</td>\n",
              "      <td>10.000000</td>\n",
              "      <td>1.000000</td>\n",
              "      <td>37.000000</td>\n",
              "      <td>37.000000</td>\n",
              "      <td>1.000000</td>\n",
              "      <td>22.000000</td>\n",
              "      <td>1.000000</td>\n",
              "      <td>...</td>\n",
              "      <td>3.000000</td>\n",
              "      <td>22.000000</td>\n",
              "      <td>22.000000</td>\n",
              "      <td>1.000000</td>\n",
              "      <td>1.000000</td>\n",
              "      <td>1.000000</td>\n",
              "      <td>1.000000</td>\n",
              "      <td>1.000000</td>\n",
              "      <td>1.000000</td>\n",
              "      <td>1.000000</td>\n",
              "    </tr>\n",
              "  </tbody>\n",
              "</table>\n",
              "<p>8 rows × 35 columns</p>\n",
              "</div>\n",
              "    <div class=\"colab-df-buttons\">\n",
              "\n",
              "  <div class=\"colab-df-container\">\n",
              "    <button class=\"colab-df-convert\" onclick=\"convertToInteractive('df-b7ab4321-46a6-4ac9-aad1-962b053511f8')\"\n",
              "            title=\"Convert this dataframe to an interactive table.\"\n",
              "            style=\"display:none;\">\n",
              "\n",
              "  <svg xmlns=\"http://www.w3.org/2000/svg\" height=\"24px\" viewBox=\"0 -960 960 960\">\n",
              "    <path d=\"M120-120v-720h720v720H120Zm60-500h600v-160H180v160Zm220 220h160v-160H400v160Zm0 220h160v-160H400v160ZM180-400h160v-160H180v160Zm440 0h160v-160H620v160ZM180-180h160v-160H180v160Zm440 0h160v-160H620v160Z\"/>\n",
              "  </svg>\n",
              "    </button>\n",
              "\n",
              "  <style>\n",
              "    .colab-df-container {\n",
              "      display:flex;\n",
              "      gap: 12px;\n",
              "    }\n",
              "\n",
              "    .colab-df-convert {\n",
              "      background-color: #E8F0FE;\n",
              "      border: none;\n",
              "      border-radius: 50%;\n",
              "      cursor: pointer;\n",
              "      display: none;\n",
              "      fill: #1967D2;\n",
              "      height: 32px;\n",
              "      padding: 0 0 0 0;\n",
              "      width: 32px;\n",
              "    }\n",
              "\n",
              "    .colab-df-convert:hover {\n",
              "      background-color: #E2EBFA;\n",
              "      box-shadow: 0px 1px 2px rgba(60, 64, 67, 0.3), 0px 1px 3px 1px rgba(60, 64, 67, 0.15);\n",
              "      fill: #174EA6;\n",
              "    }\n",
              "\n",
              "    .colab-df-buttons div {\n",
              "      margin-bottom: 4px;\n",
              "    }\n",
              "\n",
              "    [theme=dark] .colab-df-convert {\n",
              "      background-color: #3B4455;\n",
              "      fill: #D2E3FC;\n",
              "    }\n",
              "\n",
              "    [theme=dark] .colab-df-convert:hover {\n",
              "      background-color: #434B5C;\n",
              "      box-shadow: 0px 1px 3px 1px rgba(0, 0, 0, 0.15);\n",
              "      filter: drop-shadow(0px 1px 2px rgba(0, 0, 0, 0.3));\n",
              "      fill: #FFFFFF;\n",
              "    }\n",
              "  </style>\n",
              "\n",
              "    <script>\n",
              "      const buttonEl =\n",
              "        document.querySelector('#df-b7ab4321-46a6-4ac9-aad1-962b053511f8 button.colab-df-convert');\n",
              "      buttonEl.style.display =\n",
              "        google.colab.kernel.accessAllowed ? 'block' : 'none';\n",
              "\n",
              "      async function convertToInteractive(key) {\n",
              "        const element = document.querySelector('#df-b7ab4321-46a6-4ac9-aad1-962b053511f8');\n",
              "        const dataTable =\n",
              "          await google.colab.kernel.invokeFunction('convertToInteractive',\n",
              "                                                    [key], {});\n",
              "        if (!dataTable) return;\n",
              "\n",
              "        const docLinkHtml = 'Like what you see? Visit the ' +\n",
              "          '<a target=\"_blank\" href=https://colab.research.google.com/notebooks/data_table.ipynb>data table notebook</a>'\n",
              "          + ' to learn more about interactive tables.';\n",
              "        element.innerHTML = '';\n",
              "        dataTable['output_type'] = 'display_data';\n",
              "        await google.colab.output.renderOutput(dataTable, element);\n",
              "        const docLink = document.createElement('div');\n",
              "        docLink.innerHTML = docLinkHtml;\n",
              "        element.appendChild(docLink);\n",
              "      }\n",
              "    </script>\n",
              "  </div>\n",
              "\n",
              "\n",
              "<div id=\"df-ddea050a-e2ce-4891-99cd-197c33888679\">\n",
              "  <button class=\"colab-df-quickchart\" onclick=\"quickchart('df-ddea050a-e2ce-4891-99cd-197c33888679')\"\n",
              "            title=\"Suggest charts\"\n",
              "            style=\"display:none;\">\n",
              "\n",
              "<svg xmlns=\"http://www.w3.org/2000/svg\" height=\"24px\"viewBox=\"0 0 24 24\"\n",
              "     width=\"24px\">\n",
              "    <g>\n",
              "        <path d=\"M19 3H5c-1.1 0-2 .9-2 2v14c0 1.1.9 2 2 2h14c1.1 0 2-.9 2-2V5c0-1.1-.9-2-2-2zM9 17H7v-7h2v7zm4 0h-2V7h2v10zm4 0h-2v-4h2v4z\"/>\n",
              "    </g>\n",
              "</svg>\n",
              "  </button>\n",
              "\n",
              "<style>\n",
              "  .colab-df-quickchart {\n",
              "      --bg-color: #E8F0FE;\n",
              "      --fill-color: #1967D2;\n",
              "      --hover-bg-color: #E2EBFA;\n",
              "      --hover-fill-color: #174EA6;\n",
              "      --disabled-fill-color: #AAA;\n",
              "      --disabled-bg-color: #DDD;\n",
              "  }\n",
              "\n",
              "  [theme=dark] .colab-df-quickchart {\n",
              "      --bg-color: #3B4455;\n",
              "      --fill-color: #D2E3FC;\n",
              "      --hover-bg-color: #434B5C;\n",
              "      --hover-fill-color: #FFFFFF;\n",
              "      --disabled-bg-color: #3B4455;\n",
              "      --disabled-fill-color: #666;\n",
              "  }\n",
              "\n",
              "  .colab-df-quickchart {\n",
              "    background-color: var(--bg-color);\n",
              "    border: none;\n",
              "    border-radius: 50%;\n",
              "    cursor: pointer;\n",
              "    display: none;\n",
              "    fill: var(--fill-color);\n",
              "    height: 32px;\n",
              "    padding: 0;\n",
              "    width: 32px;\n",
              "  }\n",
              "\n",
              "  .colab-df-quickchart:hover {\n",
              "    background-color: var(--hover-bg-color);\n",
              "    box-shadow: 0 1px 2px rgba(60, 64, 67, 0.3), 0 1px 3px 1px rgba(60, 64, 67, 0.15);\n",
              "    fill: var(--button-hover-fill-color);\n",
              "  }\n",
              "\n",
              "  .colab-df-quickchart-complete:disabled,\n",
              "  .colab-df-quickchart-complete:disabled:hover {\n",
              "    background-color: var(--disabled-bg-color);\n",
              "    fill: var(--disabled-fill-color);\n",
              "    box-shadow: none;\n",
              "  }\n",
              "\n",
              "  .colab-df-spinner {\n",
              "    border: 2px solid var(--fill-color);\n",
              "    border-color: transparent;\n",
              "    border-bottom-color: var(--fill-color);\n",
              "    animation:\n",
              "      spin 1s steps(1) infinite;\n",
              "  }\n",
              "\n",
              "  @keyframes spin {\n",
              "    0% {\n",
              "      border-color: transparent;\n",
              "      border-bottom-color: var(--fill-color);\n",
              "      border-left-color: var(--fill-color);\n",
              "    }\n",
              "    20% {\n",
              "      border-color: transparent;\n",
              "      border-left-color: var(--fill-color);\n",
              "      border-top-color: var(--fill-color);\n",
              "    }\n",
              "    30% {\n",
              "      border-color: transparent;\n",
              "      border-left-color: var(--fill-color);\n",
              "      border-top-color: var(--fill-color);\n",
              "      border-right-color: var(--fill-color);\n",
              "    }\n",
              "    40% {\n",
              "      border-color: transparent;\n",
              "      border-right-color: var(--fill-color);\n",
              "      border-top-color: var(--fill-color);\n",
              "    }\n",
              "    60% {\n",
              "      border-color: transparent;\n",
              "      border-right-color: var(--fill-color);\n",
              "    }\n",
              "    80% {\n",
              "      border-color: transparent;\n",
              "      border-right-color: var(--fill-color);\n",
              "      border-bottom-color: var(--fill-color);\n",
              "    }\n",
              "    90% {\n",
              "      border-color: transparent;\n",
              "      border-bottom-color: var(--fill-color);\n",
              "    }\n",
              "  }\n",
              "</style>\n",
              "\n",
              "  <script>\n",
              "    async function quickchart(key) {\n",
              "      const quickchartButtonEl =\n",
              "        document.querySelector('#' + key + ' button');\n",
              "      quickchartButtonEl.disabled = true;  // To prevent multiple clicks.\n",
              "      quickchartButtonEl.classList.add('colab-df-spinner');\n",
              "      try {\n",
              "        const charts = await google.colab.kernel.invokeFunction(\n",
              "            'suggestCharts', [key], {});\n",
              "      } catch (error) {\n",
              "        console.error('Error during call to suggestCharts:', error);\n",
              "      }\n",
              "      quickchartButtonEl.classList.remove('colab-df-spinner');\n",
              "      quickchartButtonEl.classList.add('colab-df-quickchart-complete');\n",
              "    }\n",
              "    (() => {\n",
              "      let quickchartButtonEl =\n",
              "        document.querySelector('#df-ddea050a-e2ce-4891-99cd-197c33888679 button');\n",
              "      quickchartButtonEl.style.display =\n",
              "        google.colab.kernel.accessAllowed ? 'block' : 'none';\n",
              "    })();\n",
              "  </script>\n",
              "</div>\n",
              "    </div>\n",
              "  </div>\n"
            ],
            "application/vnd.google.colaboratory.intrinsic+json": {
              "type": "dataframe"
            }
          },
          "metadata": {},
          "execution_count": 99
        }
      ]
    },
    {
      "cell_type": "code",
      "source": [
        "cols = X_train.columns"
      ],
      "metadata": {
        "id": "yTVMLxT2_WP4"
      },
      "execution_count": null,
      "outputs": []
    },
    {
      "cell_type": "code",
      "source": [
        "from sklearn.preprocessing import MinMaxScaler\n",
        "\n",
        "scaler = MinMaxScaler()\n",
        "\n",
        "X_train = scaler.fit_transform(X_train)\n",
        "\n",
        "X_test = scaler.transform(X_test)"
      ],
      "metadata": {
        "id": "rP8kANa1_gCN"
      },
      "execution_count": null,
      "outputs": []
    },
    {
      "cell_type": "code",
      "source": [
        "X_train = pd.DataFrame(X_train, columns=[cols])"
      ],
      "metadata": {
        "id": "aC3UQpOn_hjr"
      },
      "execution_count": null,
      "outputs": []
    },
    {
      "cell_type": "code",
      "source": [
        "X_test = pd.DataFrame(X_test, columns=[cols])"
      ],
      "metadata": {
        "id": "ULJaJ6sg_jEP"
      },
      "execution_count": null,
      "outputs": []
    },
    {
      "cell_type": "code",
      "source": [
        "X_train.describe()"
      ],
      "metadata": {
        "colab": {
          "base_uri": "https://localhost:8080/",
          "height": 365
        },
        "id": "MTHootEP_kJ9",
        "outputId": "9614329d-5db0-4769-b490-b4e55af0eeb6"
      },
      "execution_count": null,
      "outputs": [
        {
          "output_type": "execute_result",
          "data": {
            "text/plain": [
              "         Age Number of sexual partners First sexual intercourse  \\\n",
              "count  686.0                686.000000               686.000000   \n",
              "mean     0.0                  0.074554                 0.315068   \n",
              "std      0.0                  0.075604                 0.127549   \n",
              "min      0.0                  0.000000                 0.000000   \n",
              "25%      0.0                  0.048077                 0.227273   \n",
              "50%      0.0                  0.048077                 0.318182   \n",
              "75%      0.0                  0.096154                 0.363636   \n",
              "max      0.0                  1.000000                 1.000000   \n",
              "\n",
              "      Num of pregnancies      Smokes Smokes (years) Smokes (packs/year)  \\\n",
              "count         686.000000  686.000000     686.000000          686.000000   \n",
              "mean            0.226968    0.144315       0.032212            0.013052   \n",
              "std             0.137926    0.351665       0.107030            0.064115   \n",
              "min             0.000000    0.000000       0.000000            0.000000   \n",
              "25%             0.100000    0.000000       0.000000            0.000000   \n",
              "50%             0.200000    0.000000       0.000000            0.000000   \n",
              "75%             0.300000    0.000000       0.000000            0.000000   \n",
              "max             1.000000    1.000000       1.000000            1.000000   \n",
              "\n",
              "      Hormonal Contraceptives Hormonal Contraceptives (years)         IUD  \\\n",
              "count              686.000000                      686.000000  686.000000   \n",
              "mean                 0.683673                        0.095388    0.094752   \n",
              "std                  0.465381                        0.162476    0.293086   \n",
              "min                  0.000000                        0.000000    0.000000   \n",
              "25%                  0.000000                        0.000000    0.000000   \n",
              "50%                  1.000000                        0.022727    0.000000   \n",
              "75%                  1.000000                        0.136364    0.000000   \n",
              "max                  1.000000                        1.000000    1.000000   \n",
              "\n",
              "       ... STDs: Number of diagnosis STDs: Time since first diagnosis  \\\n",
              "count  ...                686.000000                       686.000000   \n",
              "mean   ...                  0.030612                         0.131334   \n",
              "std    ...                  0.102850                         0.096092   \n",
              "min    ...                  0.000000                         0.000000   \n",
              "25%    ...                  0.000000                         0.119048   \n",
              "50%    ...                  0.000000                         0.119048   \n",
              "75%    ...                  0.000000                         0.119048   \n",
              "max    ...                  1.000000                         1.000000   \n",
              "\n",
              "      STDs: Time since last diagnosis   Dx:Cancer      Dx:CIN      Dx:HPV  \\\n",
              "count                      686.000000  686.000000  686.000000  686.000000   \n",
              "mean                         0.108219    0.024781    0.011662    0.024781   \n",
              "std                          0.095030    0.155572    0.107437    0.155572   \n",
              "min                          0.000000    0.000000    0.000000    0.000000   \n",
              "25%                          0.095238    0.000000    0.000000    0.000000   \n",
              "50%                          0.095238    0.000000    0.000000    0.000000   \n",
              "75%                          0.095238    0.000000    0.000000    0.000000   \n",
              "max                          1.000000    1.000000    1.000000    1.000000   \n",
              "\n",
              "               Dx    Schiller    Citology      Biopsy  \n",
              "count  686.000000  686.000000  686.000000  686.000000  \n",
              "mean     0.032070    0.094752    0.046647    0.068513  \n",
              "std      0.176315    0.293086    0.211036    0.252809  \n",
              "min      0.000000    0.000000    0.000000    0.000000  \n",
              "25%      0.000000    0.000000    0.000000    0.000000  \n",
              "50%      0.000000    0.000000    0.000000    0.000000  \n",
              "75%      0.000000    0.000000    0.000000    0.000000  \n",
              "max      1.000000    1.000000    1.000000    1.000000  \n",
              "\n",
              "[8 rows x 35 columns]"
            ],
            "text/html": [
              "\n",
              "  <div id=\"df-02abecdb-80ae-4f3f-be9a-f39c30461e27\" class=\"colab-df-container\">\n",
              "    <div>\n",
              "<style scoped>\n",
              "    .dataframe tbody tr th:only-of-type {\n",
              "        vertical-align: middle;\n",
              "    }\n",
              "\n",
              "    .dataframe tbody tr th {\n",
              "        vertical-align: top;\n",
              "    }\n",
              "\n",
              "    .dataframe thead tr th {\n",
              "        text-align: left;\n",
              "    }\n",
              "</style>\n",
              "<table border=\"1\" class=\"dataframe\">\n",
              "  <thead>\n",
              "    <tr>\n",
              "      <th></th>\n",
              "      <th>Age</th>\n",
              "      <th>Number of sexual partners</th>\n",
              "      <th>First sexual intercourse</th>\n",
              "      <th>Num of pregnancies</th>\n",
              "      <th>Smokes</th>\n",
              "      <th>Smokes (years)</th>\n",
              "      <th>Smokes (packs/year)</th>\n",
              "      <th>Hormonal Contraceptives</th>\n",
              "      <th>Hormonal Contraceptives (years)</th>\n",
              "      <th>IUD</th>\n",
              "      <th>...</th>\n",
              "      <th>STDs: Number of diagnosis</th>\n",
              "      <th>STDs: Time since first diagnosis</th>\n",
              "      <th>STDs: Time since last diagnosis</th>\n",
              "      <th>Dx:Cancer</th>\n",
              "      <th>Dx:CIN</th>\n",
              "      <th>Dx:HPV</th>\n",
              "      <th>Dx</th>\n",
              "      <th>Schiller</th>\n",
              "      <th>Citology</th>\n",
              "      <th>Biopsy</th>\n",
              "    </tr>\n",
              "  </thead>\n",
              "  <tbody>\n",
              "    <tr>\n",
              "      <th>count</th>\n",
              "      <td>686.0</td>\n",
              "      <td>686.000000</td>\n",
              "      <td>686.000000</td>\n",
              "      <td>686.000000</td>\n",
              "      <td>686.000000</td>\n",
              "      <td>686.000000</td>\n",
              "      <td>686.000000</td>\n",
              "      <td>686.000000</td>\n",
              "      <td>686.000000</td>\n",
              "      <td>686.000000</td>\n",
              "      <td>...</td>\n",
              "      <td>686.000000</td>\n",
              "      <td>686.000000</td>\n",
              "      <td>686.000000</td>\n",
              "      <td>686.000000</td>\n",
              "      <td>686.000000</td>\n",
              "      <td>686.000000</td>\n",
              "      <td>686.000000</td>\n",
              "      <td>686.000000</td>\n",
              "      <td>686.000000</td>\n",
              "      <td>686.000000</td>\n",
              "    </tr>\n",
              "    <tr>\n",
              "      <th>mean</th>\n",
              "      <td>0.0</td>\n",
              "      <td>0.074554</td>\n",
              "      <td>0.315068</td>\n",
              "      <td>0.226968</td>\n",
              "      <td>0.144315</td>\n",
              "      <td>0.032212</td>\n",
              "      <td>0.013052</td>\n",
              "      <td>0.683673</td>\n",
              "      <td>0.095388</td>\n",
              "      <td>0.094752</td>\n",
              "      <td>...</td>\n",
              "      <td>0.030612</td>\n",
              "      <td>0.131334</td>\n",
              "      <td>0.108219</td>\n",
              "      <td>0.024781</td>\n",
              "      <td>0.011662</td>\n",
              "      <td>0.024781</td>\n",
              "      <td>0.032070</td>\n",
              "      <td>0.094752</td>\n",
              "      <td>0.046647</td>\n",
              "      <td>0.068513</td>\n",
              "    </tr>\n",
              "    <tr>\n",
              "      <th>std</th>\n",
              "      <td>0.0</td>\n",
              "      <td>0.075604</td>\n",
              "      <td>0.127549</td>\n",
              "      <td>0.137926</td>\n",
              "      <td>0.351665</td>\n",
              "      <td>0.107030</td>\n",
              "      <td>0.064115</td>\n",
              "      <td>0.465381</td>\n",
              "      <td>0.162476</td>\n",
              "      <td>0.293086</td>\n",
              "      <td>...</td>\n",
              "      <td>0.102850</td>\n",
              "      <td>0.096092</td>\n",
              "      <td>0.095030</td>\n",
              "      <td>0.155572</td>\n",
              "      <td>0.107437</td>\n",
              "      <td>0.155572</td>\n",
              "      <td>0.176315</td>\n",
              "      <td>0.293086</td>\n",
              "      <td>0.211036</td>\n",
              "      <td>0.252809</td>\n",
              "    </tr>\n",
              "    <tr>\n",
              "      <th>min</th>\n",
              "      <td>0.0</td>\n",
              "      <td>0.000000</td>\n",
              "      <td>0.000000</td>\n",
              "      <td>0.000000</td>\n",
              "      <td>0.000000</td>\n",
              "      <td>0.000000</td>\n",
              "      <td>0.000000</td>\n",
              "      <td>0.000000</td>\n",
              "      <td>0.000000</td>\n",
              "      <td>0.000000</td>\n",
              "      <td>...</td>\n",
              "      <td>0.000000</td>\n",
              "      <td>0.000000</td>\n",
              "      <td>0.000000</td>\n",
              "      <td>0.000000</td>\n",
              "      <td>0.000000</td>\n",
              "      <td>0.000000</td>\n",
              "      <td>0.000000</td>\n",
              "      <td>0.000000</td>\n",
              "      <td>0.000000</td>\n",
              "      <td>0.000000</td>\n",
              "    </tr>\n",
              "    <tr>\n",
              "      <th>25%</th>\n",
              "      <td>0.0</td>\n",
              "      <td>0.048077</td>\n",
              "      <td>0.227273</td>\n",
              "      <td>0.100000</td>\n",
              "      <td>0.000000</td>\n",
              "      <td>0.000000</td>\n",
              "      <td>0.000000</td>\n",
              "      <td>0.000000</td>\n",
              "      <td>0.000000</td>\n",
              "      <td>0.000000</td>\n",
              "      <td>...</td>\n",
              "      <td>0.000000</td>\n",
              "      <td>0.119048</td>\n",
              "      <td>0.095238</td>\n",
              "      <td>0.000000</td>\n",
              "      <td>0.000000</td>\n",
              "      <td>0.000000</td>\n",
              "      <td>0.000000</td>\n",
              "      <td>0.000000</td>\n",
              "      <td>0.000000</td>\n",
              "      <td>0.000000</td>\n",
              "    </tr>\n",
              "    <tr>\n",
              "      <th>50%</th>\n",
              "      <td>0.0</td>\n",
              "      <td>0.048077</td>\n",
              "      <td>0.318182</td>\n",
              "      <td>0.200000</td>\n",
              "      <td>0.000000</td>\n",
              "      <td>0.000000</td>\n",
              "      <td>0.000000</td>\n",
              "      <td>1.000000</td>\n",
              "      <td>0.022727</td>\n",
              "      <td>0.000000</td>\n",
              "      <td>...</td>\n",
              "      <td>0.000000</td>\n",
              "      <td>0.119048</td>\n",
              "      <td>0.095238</td>\n",
              "      <td>0.000000</td>\n",
              "      <td>0.000000</td>\n",
              "      <td>0.000000</td>\n",
              "      <td>0.000000</td>\n",
              "      <td>0.000000</td>\n",
              "      <td>0.000000</td>\n",
              "      <td>0.000000</td>\n",
              "    </tr>\n",
              "    <tr>\n",
              "      <th>75%</th>\n",
              "      <td>0.0</td>\n",
              "      <td>0.096154</td>\n",
              "      <td>0.363636</td>\n",
              "      <td>0.300000</td>\n",
              "      <td>0.000000</td>\n",
              "      <td>0.000000</td>\n",
              "      <td>0.000000</td>\n",
              "      <td>1.000000</td>\n",
              "      <td>0.136364</td>\n",
              "      <td>0.000000</td>\n",
              "      <td>...</td>\n",
              "      <td>0.000000</td>\n",
              "      <td>0.119048</td>\n",
              "      <td>0.095238</td>\n",
              "      <td>0.000000</td>\n",
              "      <td>0.000000</td>\n",
              "      <td>0.000000</td>\n",
              "      <td>0.000000</td>\n",
              "      <td>0.000000</td>\n",
              "      <td>0.000000</td>\n",
              "      <td>0.000000</td>\n",
              "    </tr>\n",
              "    <tr>\n",
              "      <th>max</th>\n",
              "      <td>0.0</td>\n",
              "      <td>1.000000</td>\n",
              "      <td>1.000000</td>\n",
              "      <td>1.000000</td>\n",
              "      <td>1.000000</td>\n",
              "      <td>1.000000</td>\n",
              "      <td>1.000000</td>\n",
              "      <td>1.000000</td>\n",
              "      <td>1.000000</td>\n",
              "      <td>1.000000</td>\n",
              "      <td>...</td>\n",
              "      <td>1.000000</td>\n",
              "      <td>1.000000</td>\n",
              "      <td>1.000000</td>\n",
              "      <td>1.000000</td>\n",
              "      <td>1.000000</td>\n",
              "      <td>1.000000</td>\n",
              "      <td>1.000000</td>\n",
              "      <td>1.000000</td>\n",
              "      <td>1.000000</td>\n",
              "      <td>1.000000</td>\n",
              "    </tr>\n",
              "  </tbody>\n",
              "</table>\n",
              "<p>8 rows × 35 columns</p>\n",
              "</div>\n",
              "    <div class=\"colab-df-buttons\">\n",
              "\n",
              "  <div class=\"colab-df-container\">\n",
              "    <button class=\"colab-df-convert\" onclick=\"convertToInteractive('df-02abecdb-80ae-4f3f-be9a-f39c30461e27')\"\n",
              "            title=\"Convert this dataframe to an interactive table.\"\n",
              "            style=\"display:none;\">\n",
              "\n",
              "  <svg xmlns=\"http://www.w3.org/2000/svg\" height=\"24px\" viewBox=\"0 -960 960 960\">\n",
              "    <path d=\"M120-120v-720h720v720H120Zm60-500h600v-160H180v160Zm220 220h160v-160H400v160Zm0 220h160v-160H400v160ZM180-400h160v-160H180v160Zm440 0h160v-160H620v160ZM180-180h160v-160H180v160Zm440 0h160v-160H620v160Z\"/>\n",
              "  </svg>\n",
              "    </button>\n",
              "\n",
              "  <style>\n",
              "    .colab-df-container {\n",
              "      display:flex;\n",
              "      gap: 12px;\n",
              "    }\n",
              "\n",
              "    .colab-df-convert {\n",
              "      background-color: #E8F0FE;\n",
              "      border: none;\n",
              "      border-radius: 50%;\n",
              "      cursor: pointer;\n",
              "      display: none;\n",
              "      fill: #1967D2;\n",
              "      height: 32px;\n",
              "      padding: 0 0 0 0;\n",
              "      width: 32px;\n",
              "    }\n",
              "\n",
              "    .colab-df-convert:hover {\n",
              "      background-color: #E2EBFA;\n",
              "      box-shadow: 0px 1px 2px rgba(60, 64, 67, 0.3), 0px 1px 3px 1px rgba(60, 64, 67, 0.15);\n",
              "      fill: #174EA6;\n",
              "    }\n",
              "\n",
              "    .colab-df-buttons div {\n",
              "      margin-bottom: 4px;\n",
              "    }\n",
              "\n",
              "    [theme=dark] .colab-df-convert {\n",
              "      background-color: #3B4455;\n",
              "      fill: #D2E3FC;\n",
              "    }\n",
              "\n",
              "    [theme=dark] .colab-df-convert:hover {\n",
              "      background-color: #434B5C;\n",
              "      box-shadow: 0px 1px 3px 1px rgba(0, 0, 0, 0.15);\n",
              "      filter: drop-shadow(0px 1px 2px rgba(0, 0, 0, 0.3));\n",
              "      fill: #FFFFFF;\n",
              "    }\n",
              "  </style>\n",
              "\n",
              "    <script>\n",
              "      const buttonEl =\n",
              "        document.querySelector('#df-02abecdb-80ae-4f3f-be9a-f39c30461e27 button.colab-df-convert');\n",
              "      buttonEl.style.display =\n",
              "        google.colab.kernel.accessAllowed ? 'block' : 'none';\n",
              "\n",
              "      async function convertToInteractive(key) {\n",
              "        const element = document.querySelector('#df-02abecdb-80ae-4f3f-be9a-f39c30461e27');\n",
              "        const dataTable =\n",
              "          await google.colab.kernel.invokeFunction('convertToInteractive',\n",
              "                                                    [key], {});\n",
              "        if (!dataTable) return;\n",
              "\n",
              "        const docLinkHtml = 'Like what you see? Visit the ' +\n",
              "          '<a target=\"_blank\" href=https://colab.research.google.com/notebooks/data_table.ipynb>data table notebook</a>'\n",
              "          + ' to learn more about interactive tables.';\n",
              "        element.innerHTML = '';\n",
              "        dataTable['output_type'] = 'display_data';\n",
              "        await google.colab.output.renderOutput(dataTable, element);\n",
              "        const docLink = document.createElement('div');\n",
              "        docLink.innerHTML = docLinkHtml;\n",
              "        element.appendChild(docLink);\n",
              "      }\n",
              "    </script>\n",
              "  </div>\n",
              "\n",
              "\n",
              "<div id=\"df-a67d37d8-7909-4599-8e07-93a69904aca5\">\n",
              "  <button class=\"colab-df-quickchart\" onclick=\"quickchart('df-a67d37d8-7909-4599-8e07-93a69904aca5')\"\n",
              "            title=\"Suggest charts\"\n",
              "            style=\"display:none;\">\n",
              "\n",
              "<svg xmlns=\"http://www.w3.org/2000/svg\" height=\"24px\"viewBox=\"0 0 24 24\"\n",
              "     width=\"24px\">\n",
              "    <g>\n",
              "        <path d=\"M19 3H5c-1.1 0-2 .9-2 2v14c0 1.1.9 2 2 2h14c1.1 0 2-.9 2-2V5c0-1.1-.9-2-2-2zM9 17H7v-7h2v7zm4 0h-2V7h2v10zm4 0h-2v-4h2v4z\"/>\n",
              "    </g>\n",
              "</svg>\n",
              "  </button>\n",
              "\n",
              "<style>\n",
              "  .colab-df-quickchart {\n",
              "      --bg-color: #E8F0FE;\n",
              "      --fill-color: #1967D2;\n",
              "      --hover-bg-color: #E2EBFA;\n",
              "      --hover-fill-color: #174EA6;\n",
              "      --disabled-fill-color: #AAA;\n",
              "      --disabled-bg-color: #DDD;\n",
              "  }\n",
              "\n",
              "  [theme=dark] .colab-df-quickchart {\n",
              "      --bg-color: #3B4455;\n",
              "      --fill-color: #D2E3FC;\n",
              "      --hover-bg-color: #434B5C;\n",
              "      --hover-fill-color: #FFFFFF;\n",
              "      --disabled-bg-color: #3B4455;\n",
              "      --disabled-fill-color: #666;\n",
              "  }\n",
              "\n",
              "  .colab-df-quickchart {\n",
              "    background-color: var(--bg-color);\n",
              "    border: none;\n",
              "    border-radius: 50%;\n",
              "    cursor: pointer;\n",
              "    display: none;\n",
              "    fill: var(--fill-color);\n",
              "    height: 32px;\n",
              "    padding: 0;\n",
              "    width: 32px;\n",
              "  }\n",
              "\n",
              "  .colab-df-quickchart:hover {\n",
              "    background-color: var(--hover-bg-color);\n",
              "    box-shadow: 0 1px 2px rgba(60, 64, 67, 0.3), 0 1px 3px 1px rgba(60, 64, 67, 0.15);\n",
              "    fill: var(--button-hover-fill-color);\n",
              "  }\n",
              "\n",
              "  .colab-df-quickchart-complete:disabled,\n",
              "  .colab-df-quickchart-complete:disabled:hover {\n",
              "    background-color: var(--disabled-bg-color);\n",
              "    fill: var(--disabled-fill-color);\n",
              "    box-shadow: none;\n",
              "  }\n",
              "\n",
              "  .colab-df-spinner {\n",
              "    border: 2px solid var(--fill-color);\n",
              "    border-color: transparent;\n",
              "    border-bottom-color: var(--fill-color);\n",
              "    animation:\n",
              "      spin 1s steps(1) infinite;\n",
              "  }\n",
              "\n",
              "  @keyframes spin {\n",
              "    0% {\n",
              "      border-color: transparent;\n",
              "      border-bottom-color: var(--fill-color);\n",
              "      border-left-color: var(--fill-color);\n",
              "    }\n",
              "    20% {\n",
              "      border-color: transparent;\n",
              "      border-left-color: var(--fill-color);\n",
              "      border-top-color: var(--fill-color);\n",
              "    }\n",
              "    30% {\n",
              "      border-color: transparent;\n",
              "      border-left-color: var(--fill-color);\n",
              "      border-top-color: var(--fill-color);\n",
              "      border-right-color: var(--fill-color);\n",
              "    }\n",
              "    40% {\n",
              "      border-color: transparent;\n",
              "      border-right-color: var(--fill-color);\n",
              "      border-top-color: var(--fill-color);\n",
              "    }\n",
              "    60% {\n",
              "      border-color: transparent;\n",
              "      border-right-color: var(--fill-color);\n",
              "    }\n",
              "    80% {\n",
              "      border-color: transparent;\n",
              "      border-right-color: var(--fill-color);\n",
              "      border-bottom-color: var(--fill-color);\n",
              "    }\n",
              "    90% {\n",
              "      border-color: transparent;\n",
              "      border-bottom-color: var(--fill-color);\n",
              "    }\n",
              "  }\n",
              "</style>\n",
              "\n",
              "  <script>\n",
              "    async function quickchart(key) {\n",
              "      const quickchartButtonEl =\n",
              "        document.querySelector('#' + key + ' button');\n",
              "      quickchartButtonEl.disabled = true;  // To prevent multiple clicks.\n",
              "      quickchartButtonEl.classList.add('colab-df-spinner');\n",
              "      try {\n",
              "        const charts = await google.colab.kernel.invokeFunction(\n",
              "            'suggestCharts', [key], {});\n",
              "      } catch (error) {\n",
              "        console.error('Error during call to suggestCharts:', error);\n",
              "      }\n",
              "      quickchartButtonEl.classList.remove('colab-df-spinner');\n",
              "      quickchartButtonEl.classList.add('colab-df-quickchart-complete');\n",
              "    }\n",
              "    (() => {\n",
              "      let quickchartButtonEl =\n",
              "        document.querySelector('#df-a67d37d8-7909-4599-8e07-93a69904aca5 button');\n",
              "      quickchartButtonEl.style.display =\n",
              "        google.colab.kernel.accessAllowed ? 'block' : 'none';\n",
              "    })();\n",
              "  </script>\n",
              "</div>\n",
              "    </div>\n",
              "  </div>\n"
            ],
            "application/vnd.google.colaboratory.intrinsic+json": {
              "type": "dataframe"
            }
          },
          "metadata": {},
          "execution_count": 104
        }
      ]
    },
    {
      "cell_type": "code",
      "source": [
        "# train a logistic regression model on the training set\n",
        "from sklearn. linear_model import LogisticRegression\n",
        "\n",
        "# instantiate the model\n",
        "logreg = LogisticRegression(solver='liblinear', random_state=0)\n",
        "\n",
        "# fit the model\n",
        "logreg.fit(X_train, y_train)"
      ],
      "metadata": {
        "colab": {
          "base_uri": "https://localhost:8080/",
          "height": 75
        },
        "id": "oDA7ACgE_u4M",
        "outputId": "97ac7d6a-4ba2-4c5f-c05c-6d9f074c3d83"
      },
      "execution_count": null,
      "outputs": [
        {
          "output_type": "execute_result",
          "data": {
            "text/plain": [
              "LogisticRegression(random_state=0, solver='liblinear')"
            ],
            "text/html": [
              "<style>#sk-container-id-1 {color: black;background-color: white;}#sk-container-id-1 pre{padding: 0;}#sk-container-id-1 div.sk-toggleable {background-color: white;}#sk-container-id-1 label.sk-toggleable__label {cursor: pointer;display: block;width: 100%;margin-bottom: 0;padding: 0.3em;box-sizing: border-box;text-align: center;}#sk-container-id-1 label.sk-toggleable__label-arrow:before {content: \"▸\";float: left;margin-right: 0.25em;color: #696969;}#sk-container-id-1 label.sk-toggleable__label-arrow:hover:before {color: black;}#sk-container-id-1 div.sk-estimator:hover label.sk-toggleable__label-arrow:before {color: black;}#sk-container-id-1 div.sk-toggleable__content {max-height: 0;max-width: 0;overflow: hidden;text-align: left;background-color: #f0f8ff;}#sk-container-id-1 div.sk-toggleable__content pre {margin: 0.2em;color: black;border-radius: 0.25em;background-color: #f0f8ff;}#sk-container-id-1 input.sk-toggleable__control:checked~div.sk-toggleable__content {max-height: 200px;max-width: 100%;overflow: auto;}#sk-container-id-1 input.sk-toggleable__control:checked~label.sk-toggleable__label-arrow:before {content: \"▾\";}#sk-container-id-1 div.sk-estimator input.sk-toggleable__control:checked~label.sk-toggleable__label {background-color: #d4ebff;}#sk-container-id-1 div.sk-label input.sk-toggleable__control:checked~label.sk-toggleable__label {background-color: #d4ebff;}#sk-container-id-1 input.sk-hidden--visually {border: 0;clip: rect(1px 1px 1px 1px);clip: rect(1px, 1px, 1px, 1px);height: 1px;margin: -1px;overflow: hidden;padding: 0;position: absolute;width: 1px;}#sk-container-id-1 div.sk-estimator {font-family: monospace;background-color: #f0f8ff;border: 1px dotted black;border-radius: 0.25em;box-sizing: border-box;margin-bottom: 0.5em;}#sk-container-id-1 div.sk-estimator:hover {background-color: #d4ebff;}#sk-container-id-1 div.sk-parallel-item::after {content: \"\";width: 100%;border-bottom: 1px solid gray;flex-grow: 1;}#sk-container-id-1 div.sk-label:hover label.sk-toggleable__label {background-color: #d4ebff;}#sk-container-id-1 div.sk-serial::before {content: \"\";position: absolute;border-left: 1px solid gray;box-sizing: border-box;top: 0;bottom: 0;left: 50%;z-index: 0;}#sk-container-id-1 div.sk-serial {display: flex;flex-direction: column;align-items: center;background-color: white;padding-right: 0.2em;padding-left: 0.2em;position: relative;}#sk-container-id-1 div.sk-item {position: relative;z-index: 1;}#sk-container-id-1 div.sk-parallel {display: flex;align-items: stretch;justify-content: center;background-color: white;position: relative;}#sk-container-id-1 div.sk-item::before, #sk-container-id-1 div.sk-parallel-item::before {content: \"\";position: absolute;border-left: 1px solid gray;box-sizing: border-box;top: 0;bottom: 0;left: 50%;z-index: -1;}#sk-container-id-1 div.sk-parallel-item {display: flex;flex-direction: column;z-index: 1;position: relative;background-color: white;}#sk-container-id-1 div.sk-parallel-item:first-child::after {align-self: flex-end;width: 50%;}#sk-container-id-1 div.sk-parallel-item:last-child::after {align-self: flex-start;width: 50%;}#sk-container-id-1 div.sk-parallel-item:only-child::after {width: 0;}#sk-container-id-1 div.sk-dashed-wrapped {border: 1px dashed gray;margin: 0 0.4em 0.5em 0.4em;box-sizing: border-box;padding-bottom: 0.4em;background-color: white;}#sk-container-id-1 div.sk-label label {font-family: monospace;font-weight: bold;display: inline-block;line-height: 1.2em;}#sk-container-id-1 div.sk-label-container {text-align: center;}#sk-container-id-1 div.sk-container {/* jupyter's `normalize.less` sets `[hidden] { display: none; }` but bootstrap.min.css set `[hidden] { display: none !important; }` so we also need the `!important` here to be able to override the default hidden behavior on the sphinx rendered scikit-learn.org. See: https://github.com/scikit-learn/scikit-learn/issues/21755 */display: inline-block !important;position: relative;}#sk-container-id-1 div.sk-text-repr-fallback {display: none;}</style><div id=\"sk-container-id-1\" class=\"sk-top-container\"><div class=\"sk-text-repr-fallback\"><pre>LogisticRegression(random_state=0, solver=&#x27;liblinear&#x27;)</pre><b>In a Jupyter environment, please rerun this cell to show the HTML representation or trust the notebook. <br />On GitHub, the HTML representation is unable to render, please try loading this page with nbviewer.org.</b></div><div class=\"sk-container\" hidden><div class=\"sk-item\"><div class=\"sk-estimator sk-toggleable\"><input class=\"sk-toggleable__control sk-hidden--visually\" id=\"sk-estimator-id-1\" type=\"checkbox\" checked><label for=\"sk-estimator-id-1\" class=\"sk-toggleable__label sk-toggleable__label-arrow\">LogisticRegression</label><div class=\"sk-toggleable__content\"><pre>LogisticRegression(random_state=0, solver=&#x27;liblinear&#x27;)</pre></div></div></div></div></div>"
            ]
          },
          "metadata": {},
          "execution_count": 105
        }
      ]
    },
    {
      "cell_type": "code",
      "source": [
        "y_pred_test = logreg.predict(X_test)\n",
        "\n",
        "y_pred_test"
      ],
      "metadata": {
        "colab": {
          "base_uri": "https://localhost:8080/"
        },
        "id": "-6Yap_fs_xiW",
        "outputId": "7230c652-8554-47a1-8a71-e15f297c63ff"
      },
      "execution_count": null,
      "outputs": [
        {
          "output_type": "execute_result",
          "data": {
            "text/plain": [
              "array([0, 0, 0, 0, 0, 0, 0, 0, 0, 0, 0, 0, 0, 0, 0, 0, 0, 0, 0, 0, 0, 0,\n",
              "       0, 0, 0, 0, 0, 0, 0, 0, 0, 0, 0, 0, 0, 0, 0, 0, 0, 0, 0, 0, 0, 0,\n",
              "       0, 0, 0, 0, 0, 0, 0, 0, 0, 0, 0, 0, 0, 0, 1, 0, 0, 1, 0, 0, 0, 0,\n",
              "       0, 0, 0, 0, 0, 0, 0, 0, 0, 0, 0, 0, 0, 0, 1, 0, 0, 0, 0, 0, 0, 0,\n",
              "       0, 0, 0, 0, 0, 0, 0, 0, 0, 0, 0, 0, 0, 0, 0, 0, 0, 0, 0, 0, 0, 0,\n",
              "       0, 0, 0, 0, 0, 0, 0, 0, 0, 0, 0, 0, 0, 0, 0, 0, 0, 1, 0, 0, 0, 0,\n",
              "       0, 0, 0, 0, 0, 0, 0, 0, 0, 1, 0, 0, 0, 0, 1, 0, 0, 0, 0, 0, 0, 0,\n",
              "       0, 0, 0, 0, 0, 0, 0, 0, 0, 0, 0, 0, 0, 0, 0, 0, 0, 0])"
            ]
          },
          "metadata": {},
          "execution_count": 107
        }
      ]
    },
    {
      "cell_type": "code",
      "source": [
        "logreg.predict_proba(X_test)[:,0]"
      ],
      "metadata": {
        "colab": {
          "base_uri": "https://localhost:8080/"
        },
        "id": "-EnOyIpX_4HP",
        "outputId": "9e93508d-253d-40f6-f72a-77dcdf51b961"
      },
      "execution_count": null,
      "outputs": [
        {
          "output_type": "execute_result",
          "data": {
            "text/plain": [
              "array([0.98815011, 0.98650428, 0.9908873 , 0.99423984, 0.98995631,\n",
              "       0.99228011, 0.98623736, 0.98909789, 0.98810908, 0.99107294,\n",
              "       0.98892123, 0.99250647, 0.98575585, 0.98892848, 0.98808553,\n",
              "       0.99308191, 0.98717268, 0.98716051, 0.95523731, 0.99000156,\n",
              "       0.98870767, 0.99248721, 0.98970208, 0.98949514, 0.99201296,\n",
              "       0.99424829, 0.98972207, 0.98828652, 0.98872524, 0.80643684,\n",
              "       0.98736144, 0.98822433, 0.98952825, 0.98898803, 0.99209813,\n",
              "       0.98902359, 0.98479262, 0.99087835, 0.98635445, 0.9893547 ,\n",
              "       0.98957777, 0.99166888, 0.98835054, 0.98851164, 0.98654662,\n",
              "       0.96833601, 0.98899193, 0.98812131, 0.98203308, 0.98797684,\n",
              "       0.98642728, 0.99283472, 0.9890853 , 0.98979074, 0.98922932,\n",
              "       0.98718442, 0.99049776, 0.99011746, 0.48015489, 0.98567946,\n",
              "       0.98394076, 0.35465779, 0.98592639, 0.98629343, 0.9893039 ,\n",
              "       0.98973506, 0.99075903, 0.98726726, 0.98957781, 0.99000156,\n",
              "       0.98725289, 0.98874534, 0.99096186, 0.98749622, 0.98983209,\n",
              "       0.98826603, 0.99106473, 0.72872764, 0.9896088 , 0.98531843,\n",
              "       0.37847608, 0.98928697, 0.99078047, 0.72198218, 0.98965991,\n",
              "       0.98366017, 0.98567946, 0.98590507, 0.98709156, 0.98616352,\n",
              "       0.99023755, 0.98938934, 0.99167058, 0.99106109, 0.98635244,\n",
              "       0.98892848, 0.9920865 , 0.98514215, 0.98844629, 0.99061645,\n",
              "       0.99014397, 0.98902555, 0.98851164, 0.9829996 , 0.99195405,\n",
              "       0.98789686, 0.9910476 , 0.98486295, 0.98810908, 0.98875218,\n",
              "       0.98896044, 0.99097641, 0.99012406, 0.98587697, 0.98816769,\n",
              "       0.98366017, 0.99003899, 0.98802028, 0.99087254, 0.99024988,\n",
              "       0.98962085, 0.98601881, 0.98616352, 0.98613773, 0.98686785,\n",
              "       0.98843087, 0.98960424, 0.48093642, 0.98645254, 0.9902883 ,\n",
              "       0.99041044, 0.99348177, 0.98771565, 0.98537419, 0.98939822,\n",
              "       0.99064697, 0.98686083, 0.98366017, 0.98872431, 0.98851164,\n",
              "       0.99074229, 0.34562352, 0.98923179, 0.99012383, 0.98953363,\n",
              "       0.99088478, 0.40374042, 0.98514215, 0.98486295, 0.99063536,\n",
              "       0.98618484, 0.99216511, 0.98890104, 0.99048632, 0.98950206,\n",
              "       0.98795567, 0.99409012, 0.98982045, 0.98879191, 0.98900093,\n",
              "       0.98567946, 0.98936885, 0.99090473, 0.99048316, 0.98815011,\n",
              "       0.99299902, 0.98837932, 0.98894289, 0.98159002, 0.98638037,\n",
              "       0.98798001, 0.98764881])"
            ]
          },
          "metadata": {},
          "execution_count": 108
        }
      ]
    },
    {
      "cell_type": "code",
      "source": [
        "logreg.predict_proba(X_test)[:,1]"
      ],
      "metadata": {
        "colab": {
          "base_uri": "https://localhost:8080/"
        },
        "id": "_GyTaQJIABJp",
        "outputId": "76ab0e62-9872-4a6e-e2df-924f47e2e4da"
      },
      "execution_count": null,
      "outputs": [
        {
          "output_type": "execute_result",
          "data": {
            "text/plain": [
              "array([0.01184989, 0.01349572, 0.0091127 , 0.00576016, 0.01004369,\n",
              "       0.00771989, 0.01376264, 0.01090211, 0.01189092, 0.00892706,\n",
              "       0.01107877, 0.00749353, 0.01424415, 0.01107152, 0.01191447,\n",
              "       0.00691809, 0.01282732, 0.01283949, 0.04476269, 0.00999844,\n",
              "       0.01129233, 0.00751279, 0.01029792, 0.01050486, 0.00798704,\n",
              "       0.00575171, 0.01027793, 0.01171348, 0.01127476, 0.19356316,\n",
              "       0.01263856, 0.01177567, 0.01047175, 0.01101197, 0.00790187,\n",
              "       0.01097641, 0.01520738, 0.00912165, 0.01364555, 0.0106453 ,\n",
              "       0.01042223, 0.00833112, 0.01164946, 0.01148836, 0.01345338,\n",
              "       0.03166399, 0.01100807, 0.01187869, 0.01796692, 0.01202316,\n",
              "       0.01357272, 0.00716528, 0.0109147 , 0.01020926, 0.01077068,\n",
              "       0.01281558, 0.00950224, 0.00988254, 0.51984511, 0.01432054,\n",
              "       0.01605924, 0.64534221, 0.01407361, 0.01370657, 0.0106961 ,\n",
              "       0.01026494, 0.00924097, 0.01273274, 0.01042219, 0.00999844,\n",
              "       0.01274711, 0.01125466, 0.00903814, 0.01250378, 0.01016791,\n",
              "       0.01173397, 0.00893527, 0.27127236, 0.0103912 , 0.01468157,\n",
              "       0.62152392, 0.01071303, 0.00921953, 0.27801782, 0.01034009,\n",
              "       0.01633983, 0.01432054, 0.01409493, 0.01290844, 0.01383648,\n",
              "       0.00976245, 0.01061066, 0.00832942, 0.00893891, 0.01364756,\n",
              "       0.01107152, 0.0079135 , 0.01485785, 0.01155371, 0.00938355,\n",
              "       0.00985603, 0.01097445, 0.01148836, 0.0170004 , 0.00804595,\n",
              "       0.01210314, 0.0089524 , 0.01513705, 0.01189092, 0.01124782,\n",
              "       0.01103956, 0.00902359, 0.00987594, 0.01412303, 0.01183231,\n",
              "       0.01633983, 0.00996101, 0.01197972, 0.00912746, 0.00975012,\n",
              "       0.01037915, 0.01398119, 0.01383648, 0.01386227, 0.01313215,\n",
              "       0.01156913, 0.01039576, 0.51906358, 0.01354746, 0.0097117 ,\n",
              "       0.00958956, 0.00651823, 0.01228435, 0.01462581, 0.01060178,\n",
              "       0.00935303, 0.01313917, 0.01633983, 0.01127569, 0.01148836,\n",
              "       0.00925771, 0.65437648, 0.01076821, 0.00987617, 0.01046637,\n",
              "       0.00911522, 0.59625958, 0.01485785, 0.01513705, 0.00936464,\n",
              "       0.01381516, 0.00783489, 0.01109896, 0.00951368, 0.01049794,\n",
              "       0.01204433, 0.00590988, 0.01017955, 0.01120809, 0.01099907,\n",
              "       0.01432054, 0.01063115, 0.00909527, 0.00951684, 0.01184989,\n",
              "       0.00700098, 0.01162068, 0.01105711, 0.01840998, 0.01361963,\n",
              "       0.01201999, 0.01235119])"
            ]
          },
          "metadata": {},
          "execution_count": 109
        }
      ]
    },
    {
      "cell_type": "code",
      "source": [
        "from sklearn.metrics import accuracy_score\n",
        "\n",
        "print('Model accuracy score: {0:0.4f}'. format(accuracy_score(y_test, y_pred_test)))"
      ],
      "metadata": {
        "colab": {
          "base_uri": "https://localhost:8080/"
        },
        "id": "hagLjtYfAF-X",
        "outputId": "1e32f1d8-c77a-481d-fe82-1d2f5394943e"
      },
      "execution_count": null,
      "outputs": [
        {
          "output_type": "stream",
          "name": "stdout",
          "text": [
            "Model accuracy score: 0.9535\n"
          ]
        }
      ]
    },
    {
      "cell_type": "code",
      "source": [
        "y_pred_train = logreg.predict(X_train)\n",
        "\n",
        "y_pred_train"
      ],
      "metadata": {
        "colab": {
          "base_uri": "https://localhost:8080/"
        },
        "id": "mnIOV1V8ANBY",
        "outputId": "c97fb116-42d4-4e36-abd6-8977a713d4bf"
      },
      "execution_count": null,
      "outputs": [
        {
          "output_type": "execute_result",
          "data": {
            "text/plain": [
              "array([0, 0, 0, 0, 0, 0, 0, 0, 0, 0, 0, 0, 0, 0, 0, 0, 0, 1, 0, 0, 0, 0,\n",
              "       0, 0, 0, 0, 0, 0, 0, 0, 0, 0, 0, 0, 0, 0, 0, 0, 0, 0, 0, 0, 0, 0,\n",
              "       0, 0, 0, 0, 0, 0, 1, 0, 0, 1, 0, 0, 0, 0, 0, 0, 0, 0, 0, 0, 0, 0,\n",
              "       0, 0, 0, 0, 0, 0, 0, 0, 0, 0, 0, 0, 0, 0, 1, 1, 0, 0, 0, 0, 0, 0,\n",
              "       1, 1, 0, 0, 0, 0, 0, 0, 0, 0, 0, 0, 0, 0, 0, 0, 0, 0, 0, 0, 0, 0,\n",
              "       0, 0, 0, 0, 0, 0, 0, 0, 0, 0, 0, 0, 0, 0, 0, 0, 0, 0, 0, 0, 0, 0,\n",
              "       0, 0, 0, 0, 0, 0, 0, 0, 0, 0, 0, 0, 0, 0, 0, 0, 0, 0, 0, 1, 0, 0,\n",
              "       0, 0, 0, 0, 0, 0, 0, 0, 0, 1, 0, 0, 0, 0, 0, 0, 1, 0, 0, 0, 0, 0,\n",
              "       0, 0, 0, 0, 0, 0, 1, 0, 0, 0, 0, 0, 1, 0, 0, 0, 0, 0, 0, 0, 0, 0,\n",
              "       0, 0, 0, 0, 0, 0, 0, 0, 0, 0, 0, 1, 0, 0, 0, 0, 0, 0, 0, 0, 0, 0,\n",
              "       0, 0, 0, 0, 0, 0, 0, 0, 0, 0, 0, 0, 0, 0, 0, 0, 0, 0, 0, 0, 0, 1,\n",
              "       0, 0, 0, 0, 0, 0, 1, 0, 0, 0, 0, 0, 0, 0, 0, 0, 0, 0, 0, 0, 0, 0,\n",
              "       0, 0, 0, 0, 0, 0, 0, 0, 0, 0, 0, 0, 0, 0, 0, 0, 0, 0, 0, 0, 0, 0,\n",
              "       0, 0, 0, 0, 0, 0, 0, 0, 0, 0, 0, 0, 0, 0, 0, 0, 0, 0, 0, 0, 0, 0,\n",
              "       0, 0, 0, 0, 0, 0, 0, 0, 0, 0, 0, 0, 0, 0, 1, 1, 0, 0, 1, 0, 0, 0,\n",
              "       0, 0, 0, 0, 0, 0, 0, 0, 0, 0, 0, 0, 0, 0, 0, 0, 0, 0, 0, 0, 0, 0,\n",
              "       0, 0, 0, 0, 0, 0, 0, 0, 0, 0, 0, 0, 0, 0, 0, 0, 0, 0, 0, 0, 0, 0,\n",
              "       0, 0, 0, 0, 0, 0, 0, 0, 0, 0, 0, 0, 0, 0, 0, 0, 0, 1, 0, 0, 0, 0,\n",
              "       0, 0, 0, 0, 0, 0, 0, 0, 0, 0, 0, 0, 0, 0, 0, 0, 0, 0, 0, 0, 0, 0,\n",
              "       0, 0, 0, 0, 0, 0, 0, 0, 0, 0, 0, 0, 0, 1, 0, 0, 0, 0, 0, 0, 0, 0,\n",
              "       0, 0, 0, 0, 0, 0, 0, 0, 0, 0, 0, 0, 0, 0, 0, 0, 0, 0, 0, 0, 0, 0,\n",
              "       0, 0, 0, 0, 0, 0, 0, 0, 0, 1, 0, 0, 0, 1, 0, 0, 0, 0, 0, 0, 0, 0,\n",
              "       0, 0, 0, 1, 0, 0, 0, 0, 0, 0, 0, 0, 0, 0, 1, 0, 0, 0, 0, 0, 0, 0,\n",
              "       1, 0, 0, 0, 0, 0, 0, 0, 0, 0, 0, 0, 1, 0, 0, 0, 0, 0, 0, 0, 0, 0,\n",
              "       0, 0, 0, 0, 0, 0, 0, 0, 0, 0, 0, 0, 0, 0, 0, 0, 0, 0, 0, 0, 0, 0,\n",
              "       0, 0, 0, 0, 0, 0, 0, 0, 0, 0, 0, 0, 0, 0, 0, 0, 0, 0, 0, 1, 0, 0,\n",
              "       1, 0, 1, 0, 0, 0, 1, 0, 0, 0, 0, 0, 0, 0, 0, 0, 0, 0, 0, 0, 0, 0,\n",
              "       0, 0, 0, 0, 1, 0, 0, 0, 0, 0, 0, 0, 0, 0, 0, 0, 0, 0, 0, 0, 0, 0,\n",
              "       1, 0, 0, 0, 0, 0, 1, 0, 0, 0, 0, 0, 0, 0, 0, 0, 0, 0, 0, 0, 0, 0,\n",
              "       0, 0, 0, 0, 0, 0, 0, 0, 0, 0, 1, 0, 0, 0, 0, 0, 0, 0, 0, 0, 0, 0,\n",
              "       0, 0, 0, 0, 0, 0, 0, 1, 0, 0, 1, 0, 0, 0, 1, 0, 0, 0, 0, 0, 0, 0,\n",
              "       0, 0, 0, 0])"
            ]
          },
          "metadata": {},
          "execution_count": 111
        }
      ]
    },
    {
      "cell_type": "code",
      "source": [
        "print('Training-set accuracy score: {0:0.4f}'. format(accuracy_score(y_train, y_pred_train)))"
      ],
      "metadata": {
        "colab": {
          "base_uri": "https://localhost:8080/"
        },
        "id": "HLOSTJoPARMM",
        "outputId": "04c3d2bc-6f7d-4885-827e-bfe10360e8d5"
      },
      "execution_count": null,
      "outputs": [
        {
          "output_type": "stream",
          "name": "stdout",
          "text": [
            "Training-set accuracy score: 0.9679\n"
          ]
        }
      ]
    },
    {
      "cell_type": "code",
      "source": [
        "print('Training set score: {:.4f}'.format(logreg.score(X_train, y_train)))\n",
        "\n",
        "print('Test set score: {:.4f}'.format(logreg.score(X_test, y_test)))\n"
      ],
      "metadata": {
        "colab": {
          "base_uri": "https://localhost:8080/"
        },
        "id": "P7xxI_SNAUti",
        "outputId": "012abbb2-ff37-424e-a048-a7b147ef949f"
      },
      "execution_count": null,
      "outputs": [
        {
          "output_type": "stream",
          "name": "stdout",
          "text": [
            "Training set score: 0.9679\n",
            "Test set score: 0.9535\n"
          ]
        }
      ]
    },
    {
      "cell_type": "code",
      "source": [
        "# fit the Logsitic Regression model with C=100\n",
        "\n",
        "# instantiate the model\n",
        "logreg100 = LogisticRegression(C=100, solver='liblinear', random_state=0)\n",
        "# fit the model\n",
        "logreg100.fit(X_train, y_train)"
      ],
      "metadata": {
        "colab": {
          "base_uri": "https://localhost:8080/",
          "height": 75
        },
        "id": "7MAoMKLtAtAU",
        "outputId": "caed0d07-9c80-49d0-cbc1-90cd6314fcdd"
      },
      "execution_count": null,
      "outputs": [
        {
          "output_type": "execute_result",
          "data": {
            "text/plain": [
              "LogisticRegression(C=100, random_state=0, solver='liblinear')"
            ],
            "text/html": [
              "<style>#sk-container-id-2 {color: black;background-color: white;}#sk-container-id-2 pre{padding: 0;}#sk-container-id-2 div.sk-toggleable {background-color: white;}#sk-container-id-2 label.sk-toggleable__label {cursor: pointer;display: block;width: 100%;margin-bottom: 0;padding: 0.3em;box-sizing: border-box;text-align: center;}#sk-container-id-2 label.sk-toggleable__label-arrow:before {content: \"▸\";float: left;margin-right: 0.25em;color: #696969;}#sk-container-id-2 label.sk-toggleable__label-arrow:hover:before {color: black;}#sk-container-id-2 div.sk-estimator:hover label.sk-toggleable__label-arrow:before {color: black;}#sk-container-id-2 div.sk-toggleable__content {max-height: 0;max-width: 0;overflow: hidden;text-align: left;background-color: #f0f8ff;}#sk-container-id-2 div.sk-toggleable__content pre {margin: 0.2em;color: black;border-radius: 0.25em;background-color: #f0f8ff;}#sk-container-id-2 input.sk-toggleable__control:checked~div.sk-toggleable__content {max-height: 200px;max-width: 100%;overflow: auto;}#sk-container-id-2 input.sk-toggleable__control:checked~label.sk-toggleable__label-arrow:before {content: \"▾\";}#sk-container-id-2 div.sk-estimator input.sk-toggleable__control:checked~label.sk-toggleable__label {background-color: #d4ebff;}#sk-container-id-2 div.sk-label input.sk-toggleable__control:checked~label.sk-toggleable__label {background-color: #d4ebff;}#sk-container-id-2 input.sk-hidden--visually {border: 0;clip: rect(1px 1px 1px 1px);clip: rect(1px, 1px, 1px, 1px);height: 1px;margin: -1px;overflow: hidden;padding: 0;position: absolute;width: 1px;}#sk-container-id-2 div.sk-estimator {font-family: monospace;background-color: #f0f8ff;border: 1px dotted black;border-radius: 0.25em;box-sizing: border-box;margin-bottom: 0.5em;}#sk-container-id-2 div.sk-estimator:hover {background-color: #d4ebff;}#sk-container-id-2 div.sk-parallel-item::after {content: \"\";width: 100%;border-bottom: 1px solid gray;flex-grow: 1;}#sk-container-id-2 div.sk-label:hover label.sk-toggleable__label {background-color: #d4ebff;}#sk-container-id-2 div.sk-serial::before {content: \"\";position: absolute;border-left: 1px solid gray;box-sizing: border-box;top: 0;bottom: 0;left: 50%;z-index: 0;}#sk-container-id-2 div.sk-serial {display: flex;flex-direction: column;align-items: center;background-color: white;padding-right: 0.2em;padding-left: 0.2em;position: relative;}#sk-container-id-2 div.sk-item {position: relative;z-index: 1;}#sk-container-id-2 div.sk-parallel {display: flex;align-items: stretch;justify-content: center;background-color: white;position: relative;}#sk-container-id-2 div.sk-item::before, #sk-container-id-2 div.sk-parallel-item::before {content: \"\";position: absolute;border-left: 1px solid gray;box-sizing: border-box;top: 0;bottom: 0;left: 50%;z-index: -1;}#sk-container-id-2 div.sk-parallel-item {display: flex;flex-direction: column;z-index: 1;position: relative;background-color: white;}#sk-container-id-2 div.sk-parallel-item:first-child::after {align-self: flex-end;width: 50%;}#sk-container-id-2 div.sk-parallel-item:last-child::after {align-self: flex-start;width: 50%;}#sk-container-id-2 div.sk-parallel-item:only-child::after {width: 0;}#sk-container-id-2 div.sk-dashed-wrapped {border: 1px dashed gray;margin: 0 0.4em 0.5em 0.4em;box-sizing: border-box;padding-bottom: 0.4em;background-color: white;}#sk-container-id-2 div.sk-label label {font-family: monospace;font-weight: bold;display: inline-block;line-height: 1.2em;}#sk-container-id-2 div.sk-label-container {text-align: center;}#sk-container-id-2 div.sk-container {/* jupyter's `normalize.less` sets `[hidden] { display: none; }` but bootstrap.min.css set `[hidden] { display: none !important; }` so we also need the `!important` here to be able to override the default hidden behavior on the sphinx rendered scikit-learn.org. See: https://github.com/scikit-learn/scikit-learn/issues/21755 */display: inline-block !important;position: relative;}#sk-container-id-2 div.sk-text-repr-fallback {display: none;}</style><div id=\"sk-container-id-2\" class=\"sk-top-container\"><div class=\"sk-text-repr-fallback\"><pre>LogisticRegression(C=100, random_state=0, solver=&#x27;liblinear&#x27;)</pre><b>In a Jupyter environment, please rerun this cell to show the HTML representation or trust the notebook. <br />On GitHub, the HTML representation is unable to render, please try loading this page with nbviewer.org.</b></div><div class=\"sk-container\" hidden><div class=\"sk-item\"><div class=\"sk-estimator sk-toggleable\"><input class=\"sk-toggleable__control sk-hidden--visually\" id=\"sk-estimator-id-2\" type=\"checkbox\" checked><label for=\"sk-estimator-id-2\" class=\"sk-toggleable__label sk-toggleable__label-arrow\">LogisticRegression</label><div class=\"sk-toggleable__content\"><pre>LogisticRegression(C=100, random_state=0, solver=&#x27;liblinear&#x27;)</pre></div></div></div></div></div>"
            ]
          },
          "metadata": {},
          "execution_count": 117
        }
      ]
    },
    {
      "cell_type": "code",
      "source": [
        "# print the scores on training and test set\n",
        "\n",
        "print('Training set score: { :. 4f}'.format(logreg100.score(X_train, y_train)))\n",
        "\n",
        "print('Test set score: { :. 4f}'.format(logreg100.score(X_test, y_test)))"
      ],
      "metadata": {
        "id": "litoeSbkAt8u"
      },
      "execution_count": null,
      "outputs": []
    },
    {
      "cell_type": "code",
      "source": [
        "# fit the Logsitic Regression model with C=001\n",
        "\n",
        "# instantiate the model\n",
        "logreg001 = LogisticRegression(C=0.01, solver='liblinear', random_state=0)\n",
        "\n",
        "\n",
        "# fit the model\n",
        "logreg001.fit(X_train, y_train)"
      ],
      "metadata": {
        "colab": {
          "base_uri": "https://localhost:8080/",
          "height": 75
        },
        "id": "kvjLl-kQA5Fv",
        "outputId": "2c8cf8be-213f-4ccd-a141-0fafade2a3db"
      },
      "execution_count": null,
      "outputs": [
        {
          "output_type": "execute_result",
          "data": {
            "text/plain": [
              "LogisticRegression(C=0.01, random_state=0, solver='liblinear')"
            ],
            "text/html": [
              "<style>#sk-container-id-3 {color: black;background-color: white;}#sk-container-id-3 pre{padding: 0;}#sk-container-id-3 div.sk-toggleable {background-color: white;}#sk-container-id-3 label.sk-toggleable__label {cursor: pointer;display: block;width: 100%;margin-bottom: 0;padding: 0.3em;box-sizing: border-box;text-align: center;}#sk-container-id-3 label.sk-toggleable__label-arrow:before {content: \"▸\";float: left;margin-right: 0.25em;color: #696969;}#sk-container-id-3 label.sk-toggleable__label-arrow:hover:before {color: black;}#sk-container-id-3 div.sk-estimator:hover label.sk-toggleable__label-arrow:before {color: black;}#sk-container-id-3 div.sk-toggleable__content {max-height: 0;max-width: 0;overflow: hidden;text-align: left;background-color: #f0f8ff;}#sk-container-id-3 div.sk-toggleable__content pre {margin: 0.2em;color: black;border-radius: 0.25em;background-color: #f0f8ff;}#sk-container-id-3 input.sk-toggleable__control:checked~div.sk-toggleable__content {max-height: 200px;max-width: 100%;overflow: auto;}#sk-container-id-3 input.sk-toggleable__control:checked~label.sk-toggleable__label-arrow:before {content: \"▾\";}#sk-container-id-3 div.sk-estimator input.sk-toggleable__control:checked~label.sk-toggleable__label {background-color: #d4ebff;}#sk-container-id-3 div.sk-label input.sk-toggleable__control:checked~label.sk-toggleable__label {background-color: #d4ebff;}#sk-container-id-3 input.sk-hidden--visually {border: 0;clip: rect(1px 1px 1px 1px);clip: rect(1px, 1px, 1px, 1px);height: 1px;margin: -1px;overflow: hidden;padding: 0;position: absolute;width: 1px;}#sk-container-id-3 div.sk-estimator {font-family: monospace;background-color: #f0f8ff;border: 1px dotted black;border-radius: 0.25em;box-sizing: border-box;margin-bottom: 0.5em;}#sk-container-id-3 div.sk-estimator:hover {background-color: #d4ebff;}#sk-container-id-3 div.sk-parallel-item::after {content: \"\";width: 100%;border-bottom: 1px solid gray;flex-grow: 1;}#sk-container-id-3 div.sk-label:hover label.sk-toggleable__label {background-color: #d4ebff;}#sk-container-id-3 div.sk-serial::before {content: \"\";position: absolute;border-left: 1px solid gray;box-sizing: border-box;top: 0;bottom: 0;left: 50%;z-index: 0;}#sk-container-id-3 div.sk-serial {display: flex;flex-direction: column;align-items: center;background-color: white;padding-right: 0.2em;padding-left: 0.2em;position: relative;}#sk-container-id-3 div.sk-item {position: relative;z-index: 1;}#sk-container-id-3 div.sk-parallel {display: flex;align-items: stretch;justify-content: center;background-color: white;position: relative;}#sk-container-id-3 div.sk-item::before, #sk-container-id-3 div.sk-parallel-item::before {content: \"\";position: absolute;border-left: 1px solid gray;box-sizing: border-box;top: 0;bottom: 0;left: 50%;z-index: -1;}#sk-container-id-3 div.sk-parallel-item {display: flex;flex-direction: column;z-index: 1;position: relative;background-color: white;}#sk-container-id-3 div.sk-parallel-item:first-child::after {align-self: flex-end;width: 50%;}#sk-container-id-3 div.sk-parallel-item:last-child::after {align-self: flex-start;width: 50%;}#sk-container-id-3 div.sk-parallel-item:only-child::after {width: 0;}#sk-container-id-3 div.sk-dashed-wrapped {border: 1px dashed gray;margin: 0 0.4em 0.5em 0.4em;box-sizing: border-box;padding-bottom: 0.4em;background-color: white;}#sk-container-id-3 div.sk-label label {font-family: monospace;font-weight: bold;display: inline-block;line-height: 1.2em;}#sk-container-id-3 div.sk-label-container {text-align: center;}#sk-container-id-3 div.sk-container {/* jupyter's `normalize.less` sets `[hidden] { display: none; }` but bootstrap.min.css set `[hidden] { display: none !important; }` so we also need the `!important` here to be able to override the default hidden behavior on the sphinx rendered scikit-learn.org. See: https://github.com/scikit-learn/scikit-learn/issues/21755 */display: inline-block !important;position: relative;}#sk-container-id-3 div.sk-text-repr-fallback {display: none;}</style><div id=\"sk-container-id-3\" class=\"sk-top-container\"><div class=\"sk-text-repr-fallback\"><pre>LogisticRegression(C=0.01, random_state=0, solver=&#x27;liblinear&#x27;)</pre><b>In a Jupyter environment, please rerun this cell to show the HTML representation or trust the notebook. <br />On GitHub, the HTML representation is unable to render, please try loading this page with nbviewer.org.</b></div><div class=\"sk-container\" hidden><div class=\"sk-item\"><div class=\"sk-estimator sk-toggleable\"><input class=\"sk-toggleable__control sk-hidden--visually\" id=\"sk-estimator-id-3\" type=\"checkbox\" checked><label for=\"sk-estimator-id-3\" class=\"sk-toggleable__label sk-toggleable__label-arrow\">LogisticRegression</label><div class=\"sk-toggleable__content\"><pre>LogisticRegression(C=0.01, random_state=0, solver=&#x27;liblinear&#x27;)</pre></div></div></div></div></div>"
            ]
          },
          "metadata": {},
          "execution_count": 118
        }
      ]
    },
    {
      "cell_type": "code",
      "source": [
        "# print the scores on training and test set\n",
        "\n",
        "print('Training set score: {:.4f}'.format(logreg001.score(X_train, y_train)))\n",
        "print('Test set score: {:.4f}'.format(logreg001.score(X_test, y_test)))\n"
      ],
      "metadata": {
        "colab": {
          "base_uri": "https://localhost:8080/"
        },
        "id": "BkwcewYABC3f",
        "outputId": "da4f2c9f-078a-40be-ddda-a33e03e35180"
      },
      "execution_count": null,
      "outputs": [
        {
          "output_type": "stream",
          "name": "stdout",
          "text": [
            "Training set score: 0.9519\n",
            "Test set score: 0.9884\n"
          ]
        }
      ]
    },
    {
      "cell_type": "code",
      "source": [
        "# check class distribution in test set\n",
        "\n",
        "y_test.value_counts()"
      ],
      "metadata": {
        "colab": {
          "base_uri": "https://localhost:8080/"
        },
        "id": "GS64JXOkBa26",
        "outputId": "2683e9c6-7f2e-480b-ee64-4a4e9a11bc9d"
      },
      "execution_count": null,
      "outputs": [
        {
          "output_type": "execute_result",
          "data": {
            "text/plain": [
              "Hinselmann\n",
              "0    170\n",
              "1      2\n",
              "Name: count, dtype: int64"
            ]
          },
          "metadata": {},
          "execution_count": 121
        }
      ]
    },
    {
      "cell_type": "code",
      "source": [
        "# check null accuracy score\n",
        "\n",
        "null_accuracy = (22067/(22067+6372))\n",
        "\n",
        "print('Null accuracy score: {0:0.4f}'. format(null_accuracy))"
      ],
      "metadata": {
        "colab": {
          "base_uri": "https://localhost:8080/"
        },
        "id": "Nj3BLrKpBeSt",
        "outputId": "2b9b51f4-931f-4069-a4f4-f71ca5a9d6ad"
      },
      "execution_count": null,
      "outputs": [
        {
          "output_type": "stream",
          "name": "stdout",
          "text": [
            "Null accuracy score: 0.7759\n"
          ]
        }
      ]
    },
    {
      "cell_type": "code",
      "source": [
        "# Print the Confusion Matrix and slice it into four pieces\n",
        "\n",
        "from sklearn.metrics import confusion_matrix\n",
        "\n",
        "cm = confusion_matrix(y_test, y_pred_test)\n",
        "\n",
        "print('Confusion matrix\\n\\n', cm)\n",
        "\n",
        "print('\\nTrue Positives(TP) = ', cm[0,0])\n",
        "\n",
        "print('\\nTrue Negatives(TN) =', cm[1,1])\n",
        "\n",
        "print('\\nFalse Positives(FP) =', cm[0,1])\n",
        "\n",
        "print('\\nFalse Negatives(FN) = ', cm[1,0])"
      ],
      "metadata": {
        "colab": {
          "base_uri": "https://localhost:8080/"
        },
        "id": "zGd7slmiBmzr",
        "outputId": "78d01092-47ca-4e58-b86d-33a43f70a1b7"
      },
      "execution_count": null,
      "outputs": [
        {
          "output_type": "stream",
          "name": "stdout",
          "text": [
            "Confusion matrix\n",
            "\n",
            " [[164   6]\n",
            " [  2   0]]\n",
            "\n",
            "True Positives(TP) =  164\n",
            "\n",
            "True Negatives(TN) = 0\n",
            "\n",
            "False Positives(FP) = 6\n",
            "\n",
            "False Negatives(FN) =  2\n"
          ]
        }
      ]
    },
    {
      "cell_type": "code",
      "source": [
        "# visualize confusion matrix with seaborn heatmap\n",
        "\n",
        "cm_matrix = pd.DataFrame(data=cm, columns=['Actual Positive:1', 'Actual Negative:0'],\n",
        "index=['Predict Positive:1', 'Predict Negative:0'])\n",
        "\n",
        "sns.heatmap(cm_matrix, annot=True, fmt='d', cmap='YlGnBu')"
      ],
      "metadata": {
        "colab": {
          "base_uri": "https://localhost:8080/",
          "height": 447
        },
        "id": "UG1ovyhVBxMP",
        "outputId": "3d983557-5952-4a03-8eae-6768f1d5afd3"
      },
      "execution_count": null,
      "outputs": [
        {
          "output_type": "execute_result",
          "data": {
            "text/plain": [
              "<Axes: >"
            ]
          },
          "metadata": {},
          "execution_count": 124
        },
        {
          "output_type": "display_data",
          "data": {
            "text/plain": [
              "<Figure size 640x480 with 2 Axes>"
            ],
            "image/png": "[encoded data removed]"
          },
          "metadata": {}
        }
      ]
    },
    {
      "cell_type": "code",
      "source": [
        "from sklearn.metrics import classification_report\n",
        "\n",
        "print(classification_report(y_test, y_pred_test))"
      ],
      "metadata": {
        "colab": {
          "base_uri": "https://localhost:8080/"
        },
        "id": "7wfk34dCB3LL",
        "outputId": "3dbba1e6-bb4d-422f-8485-64b9672c03b6"
      },
      "execution_count": null,
      "outputs": [
        {
          "output_type": "stream",
          "name": "stdout",
          "text": [
            "              precision    recall  f1-score   support\n",
            "\n",
            "           0       0.99      0.96      0.98       170\n",
            "           1       0.00      0.00      0.00         2\n",
            "\n",
            "    accuracy                           0.95       172\n",
            "   macro avg       0.49      0.48      0.49       172\n",
            "weighted avg       0.98      0.95      0.96       172\n",
            "\n"
          ]
        }
      ]
    },
    {
      "cell_type": "code",
      "source": [
        "TP = cm[0,0]\n",
        "TN = cm[1,1]\n",
        "FP = cm[0,1]\n",
        "FN = cm[1,0]"
      ],
      "metadata": {
        "id": "nRa7FuAhB7EW"
      },
      "execution_count": null,
      "outputs": []
    },
    {
      "cell_type": "code",
      "source": [
        "# print classification accuracy\n",
        "\n",
        "classification_accuracy = (TP + TN) / float(TP + TN + FP + FN)\n",
        "\n",
        "print('Classification accuracy : {0:0.4f}'.format(classification_accuracy))"
      ],
      "metadata": {
        "colab": {
          "base_uri": "https://localhost:8080/"
        },
        "id": "vQOx6qdeB_Zd",
        "outputId": "d30a8703-ffe1-4efa-9d74-690f20f6c61a"
      },
      "execution_count": null,
      "outputs": [
        {
          "output_type": "stream",
          "name": "stdout",
          "text": [
            "Classification accuracy : 0.9535\n"
          ]
        }
      ]
    },
    {
      "cell_type": "code",
      "source": [
        "# print classification error\n",
        "\n",
        "classification_error = (FP + FN) / float(TP + TN + FP + FN)\n",
        "\n",
        "print('Classification error : {0:0.4f}'.format(classification_error))"
      ],
      "metadata": {
        "colab": {
          "base_uri": "https://localhost:8080/"
        },
        "id": "wi76fiY_CAfv",
        "outputId": "9ef6a792-6c4a-48bc-ee52-83654aa33c81"
      },
      "execution_count": null,
      "outputs": [
        {
          "output_type": "stream",
          "name": "stdout",
          "text": [
            "Classification error : 0.0465\n"
          ]
        }
      ]
    },
    {
      "cell_type": "code",
      "source": [
        "# print precision score\n",
        "\n",
        "precision = TP / float(TP + FP)\n",
        "print('Precision : {0:0.4f}'.format(precision))"
      ],
      "metadata": {
        "colab": {
          "base_uri": "https://localhost:8080/"
        },
        "id": "Z_e29e-XCJAx",
        "outputId": "4c1e51f8-9a58-4ec7-8706-0cb2045e8f68"
      },
      "execution_count": null,
      "outputs": [
        {
          "output_type": "stream",
          "name": "stdout",
          "text": [
            "Precision : 0.9647\n"
          ]
        }
      ]
    },
    {
      "cell_type": "code",
      "source": [
        "recall = TP / float(TP + FN)\n",
        "\n",
        "print('Recall or Sensitivity : {0:0.4f}'.format(recall))"
      ],
      "metadata": {
        "colab": {
          "base_uri": "https://localhost:8080/"
        },
        "id": "G5bdRwN-CLg7",
        "outputId": "8524dc73-0c56-45a3-aa12-9689ff38f271"
      },
      "execution_count": null,
      "outputs": [
        {
          "output_type": "stream",
          "name": "stdout",
          "text": [
            "Recall or Sensitivity : 0.9880\n"
          ]
        }
      ]
    },
    {
      "cell_type": "code",
      "source": [
        "true_positive_rate = TP / float(TP + FN)\n",
        "print('True Positive Rate : {0:0.4f}'.format(true_positive_rate))"
      ],
      "metadata": {
        "colab": {
          "base_uri": "https://localhost:8080/"
        },
        "id": "yfQ1d5kBCQkK",
        "outputId": "0d90ba74-5856-4030-a230-9e8b7668bd4f"
      },
      "execution_count": null,
      "outputs": [
        {
          "output_type": "stream",
          "name": "stdout",
          "text": [
            "True Positive Rate : 0.9880\n"
          ]
        }
      ]
    },
    {
      "cell_type": "code",
      "source": [
        "false_positive_rate = FP / float(FP + TN)\n",
        "\n",
        "print('False Positive Rate : {0:0.4f}'.format(false_positive_rate))"
      ],
      "metadata": {
        "colab": {
          "base_uri": "https://localhost:8080/"
        },
        "id": "SmhaL2LBCYTq",
        "outputId": "c1d409cb-c921-4e57-9415-40faab3b87c2"
      },
      "execution_count": null,
      "outputs": [
        {
          "output_type": "stream",
          "name": "stdout",
          "text": [
            "False Positive Rate : 1.0000\n"
          ]
        }
      ]
    },
    {
      "cell_type": "code",
      "source": [
        "specificity = TN / (TN + FP)\n",
        "\n",
        "print('Specificity : {0:0.4f}'.format(specificity))"
      ],
      "metadata": {
        "colab": {
          "base_uri": "https://localhost:8080/"
        },
        "id": "ANYAm8a4CizE",
        "outputId": "a2c6e132-4987-4277-d9dd-a55e121f915d"
      },
      "execution_count": null,
      "outputs": [
        {
          "output_type": "stream",
          "name": "stdout",
          "text": [
            "Specificity : 0.0000\n"
          ]
        }
      ]
    },
    {
      "cell_type": "code",
      "source": [
        "logreg.predict_proba(X_test)[0:10, 1]"
      ],
      "metadata": {
        "colab": {
          "base_uri": "https://localhost:8080/"
        },
        "id": "wqcodI7vDAvK",
        "outputId": "abf51624-f092-462f-b097-8e7787be5783"
      },
      "execution_count": null,
      "outputs": [
        {
          "output_type": "execute_result",
          "data": {
            "text/plain": [
              "array([0.01184989, 0.01349572, 0.0091127 , 0.00576016, 0.01004369,\n",
              "       0.00771989, 0.01376264, 0.01090211, 0.01189092, 0.00892706])"
            ]
          },
          "metadata": {},
          "execution_count": 140
        }
      ]
    },
    {
      "cell_type": "code",
      "source": [
        "y_pred1 = logreg.predict_proba(X_test)[:, 1]"
      ],
      "metadata": {
        "id": "eXY8H-47DpHy"
      },
      "execution_count": null,
      "outputs": []
    },
    {
      "cell_type": "code",
      "source": [
        "# plot histogrom with 10 bins\n",
        "plt.hist(y_pred1, bins = 10)\n",
        "\n",
        "# set the title of predicted probabilities\n",
        "plt. title('Histogram of predicted probabilities of Hinselmann')\n",
        "\n",
        "# set the x-axis limit\n",
        "plt.xlim(0,1)\n",
        "\n",
        "# set the title\n",
        "plt.xlabel('Predicted probabilities of Hinselmann')\n",
        "plt.ylabel('Frequency')"
      ],
      "metadata": {
        "colab": {
          "base_uri": "https://localhost:8080/",
          "height": 489
        },
        "id": "PvqrIG_eD6yE",
        "outputId": "e27d6ef7-97cd-435d-cf4d-6f311a99db35"
      },
      "execution_count": null,
      "outputs": [
        {
          "output_type": "execute_result",
          "data": {
            "text/plain": [
              "Text(0, 0.5, 'Frequency')"
            ]
          },
          "metadata": {},
          "execution_count": 142
        },
        {
          "output_type": "display_data",
          "data": {
            "text/plain": [
              "<Figure size 640x480 with 1 Axes>"
            ],
            "image/png": "[encoded data removed]"
          },
          "metadata": {}
        }
      ]
    },
    {
      "cell_type": "code",
      "source": [
        "# plot ROC Curve\n",
        "\n",
        "from sklearn.metrics import roc_curve\n",
        "\n",
        "fpr, tpr, thresholds = roc_curve(y_test, y_pred1, pos_label = 'Yes')\n",
        "\n",
        "plt.figure(figsize=(6,4))\n",
        "\n",
        "plt.plot(fpr, tpr, linewidth=2)\n",
        "\n",
        "plt.plot([0,1], [0,1], 'k--' )\n",
        "\n",
        "plt.rcParams['font.size'] = 12\n",
        "\n",
        "plt. title('ROC curve for Hinselmann classifier')\n",
        "\n",
        "plt.xlabel('False Positive Rate (1 - Specificity)')\n",
        "\n",
        "plt.ylabel('True Positive Rate (Sensitivity)')\n",
        "\n",
        "plt.show()"
      ],
      "metadata": {
        "colab": {
          "base_uri": "https://localhost:8080/",
          "height": 419
        },
        "id": "3rHCI-94EaVD",
        "outputId": "195ac929-5ac3-4727-b0a8-8e568c128dea"
      },
      "execution_count": null,
      "outputs": [
        {
          "output_type": "display_data",
          "data": {
            "text/plain": [
              "<Figure size 600x400 with 1 Axes>"
            ],
            "image/png": "[encoded data removed]"
          },
          "metadata": {}
        }
      ]
    },
    {
      "cell_type": "code",
      "source": [
        "# compute ROC AUC\n",
        "\n",
        "from sklearn.metrics import roc_auc_score\n",
        "\n",
        "ROC_AUC = roc_auc_score(y_test, y_pred1)\n",
        "\n",
        "print('ROC AUC: {:.4f}'.format(ROC_AUC))"
      ],
      "metadata": {
        "colab": {
          "base_uri": "https://localhost:8080/"
        },
        "id": "O-668m_nFeTR",
        "outputId": "4a8ef559-10c3-45ac-ab5c-d7bb6e0b7694"
      },
      "execution_count": null,
      "outputs": [
        {
          "output_type": "stream",
          "name": "stdout",
          "text": [
            "ROC AUC: 0.6618\n"
          ]
        }
      ]
    },
    {
      "cell_type": "code",
      "source": [
        "# Applying 5-Fold Cross Validation\n",
        "\n",
        "from sklearn.model_selection import cross_val_score\n",
        "\n",
        "scores = cross_val_score(logreg, X_train, y_train, cv = 5, scoring='accuracy')\n",
        "\n",
        "print('Cross-validation scores:{}'.format (scores))"
      ],
      "metadata": {
        "colab": {
          "base_uri": "https://localhost:8080/"
        },
        "id": "RKr57pg_F_bZ",
        "outputId": "c745bc0e-5501-4d0f-9f74-d7b061f73706"
      },
      "execution_count": null,
      "outputs": [
        {
          "output_type": "stream",
          "name": "stdout",
          "text": [
            "Cross-validation scores:[0.94927536 0.95620438 0.96350365 0.94160584 0.96350365]\n"
          ]
        }
      ]
    },
    {
      "cell_type": "code",
      "source": [
        "# compute Average cross-validation score\n",
        "\n",
        "print('Average cross-validation score: {:.4f}'.format(scores.mean()))"
      ],
      "metadata": {
        "colab": {
          "base_uri": "https://localhost:8080/"
        },
        "id": "R9dVNlJcGByM",
        "outputId": "43670ef3-8f9c-4ca0-dbfc-1921e57e99e1"
      },
      "execution_count": null,
      "outputs": [
        {
          "output_type": "stream",
          "name": "stdout",
          "text": [
            "Average cross-validation score: 0.9548\n"
          ]
        }
      ]
    },
    {
      "cell_type": "code",
      "source": [
        "from sklearn.model_selection import GridSearchCV\n",
        "\n",
        "parameters =[{'penalty':['l1', 'l2']},\n",
        "{'C':[1, 10, 100, 1000]}]\n",
        "\n",
        "grid_search = GridSearchCV(estimator = logreg,\n",
        "param_grid = parameters,\n",
        "scoring = 'accuracy',\n",
        "cv = 5,\n",
        "verbose=0)\n",
        "\n",
        "grid_search.fit(X_train, y_train)"
      ],
      "metadata": {
        "colab": {
          "base_uri": "https://localhost:8080/",
          "height": 119
        },
        "id": "BnVqPiWBGXQh",
        "outputId": "4fa592c9-abb2-4567-e0f9-b9f39df2eec9"
      },
      "execution_count": null,
      "outputs": [
        {
          "output_type": "execute_result",
          "data": {
            "text/plain": [
              "GridSearchCV(cv=5,\n",
              "             estimator=LogisticRegression(random_state=0, solver='liblinear'),\n",
              "             param_grid=[{'penalty': ['l1', 'l2']}, {'C': [1, 10, 100, 1000]}],\n",
              "             scoring='accuracy')"
            ],
            "text/html": [
              "<style>#sk-container-id-4 {color: black;background-color: white;}#sk-container-id-4 pre{padding: 0;}#sk-container-id-4 div.sk-toggleable {background-color: white;}#sk-container-id-4 label.sk-toggleable__label {cursor: pointer;display: block;width: 100%;margin-bottom: 0;padding: 0.3em;box-sizing: border-box;text-align: center;}#sk-container-id-4 label.sk-toggleable__label-arrow:before {content: \"▸\";float: left;margin-right: 0.25em;color: #696969;}#sk-container-id-4 label.sk-toggleable__label-arrow:hover:before {color: black;}#sk-container-id-4 div.sk-estimator:hover label.sk-toggleable__label-arrow:before {color: black;}#sk-container-id-4 div.sk-toggleable__content {max-height: 0;max-width: 0;overflow: hidden;text-align: left;background-color: #f0f8ff;}#sk-container-id-4 div.sk-toggleable__content pre {margin: 0.2em;color: black;border-radius: 0.25em;background-color: #f0f8ff;}#sk-container-id-4 input.sk-toggleable__control:checked~div.sk-toggleable__content {max-height: 200px;max-width: 100%;overflow: auto;}#sk-container-id-4 input.sk-toggleable__control:checked~label.sk-toggleable__label-arrow:before {content: \"▾\";}#sk-container-id-4 div.sk-estimator input.sk-toggleable__control:checked~label.sk-toggleable__label {background-color: #d4ebff;}#sk-container-id-4 div.sk-label input.sk-toggleable__control:checked~label.sk-toggleable__label {background-color: #d4ebff;}#sk-container-id-4 input.sk-hidden--visually {border: 0;clip: rect(1px 1px 1px 1px);clip: rect(1px, 1px, 1px, 1px);height: 1px;margin: -1px;overflow: hidden;padding: 0;position: absolute;width: 1px;}#sk-container-id-4 div.sk-estimator {font-family: monospace;background-color: #f0f8ff;border: 1px dotted black;border-radius: 0.25em;box-sizing: border-box;margin-bottom: 0.5em;}#sk-container-id-4 div.sk-estimator:hover {background-color: #d4ebff;}#sk-container-id-4 div.sk-parallel-item::after {content: \"\";width: 100%;border-bottom: 1px solid gray;flex-grow: 1;}#sk-container-id-4 div.sk-label:hover label.sk-toggleable__label {background-color: #d4ebff;}#sk-container-id-4 div.sk-serial::before {content: \"\";position: absolute;border-left: 1px solid gray;box-sizing: border-box;top: 0;bottom: 0;left: 50%;z-index: 0;}#sk-container-id-4 div.sk-serial {display: flex;flex-direction: column;align-items: center;background-color: white;padding-right: 0.2em;padding-left: 0.2em;position: relative;}#sk-container-id-4 div.sk-item {position: relative;z-index: 1;}#sk-container-id-4 div.sk-parallel {display: flex;align-items: stretch;justify-content: center;background-color: white;position: relative;}#sk-container-id-4 div.sk-item::before, #sk-container-id-4 div.sk-parallel-item::before {content: \"\";position: absolute;border-left: 1px solid gray;box-sizing: border-box;top: 0;bottom: 0;left: 50%;z-index: -1;}#sk-container-id-4 div.sk-parallel-item {display: flex;flex-direction: column;z-index: 1;position: relative;background-color: white;}#sk-container-id-4 div.sk-parallel-item:first-child::after {align-self: flex-end;width: 50%;}#sk-container-id-4 div.sk-parallel-item:last-child::after {align-self: flex-start;width: 50%;}#sk-container-id-4 div.sk-parallel-item:only-child::after {width: 0;}#sk-container-id-4 div.sk-dashed-wrapped {border: 1px dashed gray;margin: 0 0.4em 0.5em 0.4em;box-sizing: border-box;padding-bottom: 0.4em;background-color: white;}#sk-container-id-4 div.sk-label label {font-family: monospace;font-weight: bold;display: inline-block;line-height: 1.2em;}#sk-container-id-4 div.sk-label-container {text-align: center;}#sk-container-id-4 div.sk-container {/* jupyter's `normalize.less` sets `[hidden] { display: none; }` but bootstrap.min.css set `[hidden] { display: none !important; }` so we also need the `!important` here to be able to override the default hidden behavior on the sphinx rendered scikit-learn.org. See: https://github.com/scikit-learn/scikit-learn/issues/21755 */display: inline-block !important;position: relative;}#sk-container-id-4 div.sk-text-repr-fallback {display: none;}</style><div id=\"sk-container-id-4\" class=\"sk-top-container\"><div class=\"sk-text-repr-fallback\"><pre>GridSearchCV(cv=5,\n",
              "             estimator=LogisticRegression(random_state=0, solver=&#x27;liblinear&#x27;),\n",
              "             param_grid=[{&#x27;penalty&#x27;: [&#x27;l1&#x27;, &#x27;l2&#x27;]}, {&#x27;C&#x27;: [1, 10, 100, 1000]}],\n",
              "             scoring=&#x27;accuracy&#x27;)</pre><b>In a Jupyter environment, please rerun this cell to show the HTML representation or trust the notebook. <br />On GitHub, the HTML representation is unable to render, please try loading this page with nbviewer.org.</b></div><div class=\"sk-container\" hidden><div class=\"sk-item sk-dashed-wrapped\"><div class=\"sk-label-container\"><div class=\"sk-label sk-toggleable\"><input class=\"sk-toggleable__control sk-hidden--visually\" id=\"sk-estimator-id-4\" type=\"checkbox\" ><label for=\"sk-estimator-id-4\" class=\"sk-toggleable__label sk-toggleable__label-arrow\">GridSearchCV</label><div class=\"sk-toggleable__content\"><pre>GridSearchCV(cv=5,\n",
              "             estimator=LogisticRegression(random_state=0, solver=&#x27;liblinear&#x27;),\n",
              "             param_grid=[{&#x27;penalty&#x27;: [&#x27;l1&#x27;, &#x27;l2&#x27;]}, {&#x27;C&#x27;: [1, 10, 100, 1000]}],\n",
              "             scoring=&#x27;accuracy&#x27;)</pre></div></div></div><div class=\"sk-parallel\"><div class=\"sk-parallel-item\"><div class=\"sk-item\"><div class=\"sk-label-container\"><div class=\"sk-label sk-toggleable\"><input class=\"sk-toggleable__control sk-hidden--visually\" id=\"sk-estimator-id-5\" type=\"checkbox\" ><label for=\"sk-estimator-id-5\" class=\"sk-toggleable__label sk-toggleable__label-arrow\">estimator: LogisticRegression</label><div class=\"sk-toggleable__content\"><pre>LogisticRegression(random_state=0, solver=&#x27;liblinear&#x27;)</pre></div></div></div><div class=\"sk-serial\"><div class=\"sk-item\"><div class=\"sk-estimator sk-toggleable\"><input class=\"sk-toggleable__control sk-hidden--visually\" id=\"sk-estimator-id-6\" type=\"checkbox\" ><label for=\"sk-estimator-id-6\" class=\"sk-toggleable__label sk-toggleable__label-arrow\">LogisticRegression</label><div class=\"sk-toggleable__content\"><pre>LogisticRegression(random_state=0, solver=&#x27;liblinear&#x27;)</pre></div></div></div></div></div></div></div></div></div></div>"
            ]
          },
          "metadata": {},
          "execution_count": 153
        }
      ]
    },
    {
      "cell_type": "code",
      "source": [
        "# examine the best model\n",
        "\n",
        "# best score achieved during the GridSearchCV\n",
        "print('GridSearch CV best score : { :. 4f}','\\n\\n'.format(grid_search.best_score_))\n",
        "\n",
        "# print parameters that give the best results\n",
        "\n",
        "\n",
        "\n",
        "print('Parameters that give the best results :','\\n\\n', (grid_search.best_params_))\n",
        "\n",
        "# print estimator that was chosen by the GridSearch\n",
        "print('\\n\\nEstimator that was chosen by the search :','\\n\\n', (grid_search.best_estimator_))"
      ],
      "metadata": {
        "colab": {
          "base_uri": "https://localhost:8080/"
        },
        "id": "VWtiE3ZnG3Kn",
        "outputId": "4e6cde72-4b3d-47fd-ae00-68264d59cabc"
      },
      "execution_count": null,
      "outputs": [
        {
          "output_type": "stream",
          "name": "stdout",
          "text": [
            "GridSearch CV best score : { :. 4f} \n",
            "\n",
            "\n",
            "Parameters that give the best results : \n",
            "\n",
            " {'penalty': 'l1'}\n",
            "\n",
            "\n",
            "Estimator that was chosen by the search : \n",
            "\n",
            " LogisticRegression(penalty='l1', random_state=0, solver='liblinear')\n"
          ]
        }
      ]
    },
    {
      "cell_type": "code",
      "source": [
        "# calculate GridSearch CV score on test set\n",
        "\n",
        "print('GridSearch CV score on test set: {0:0.4f}'.format(grid_search.score(X_test, y_test)))"
      ],
      "metadata": {
        "colab": {
          "base_uri": "https://localhost:8080/"
        },
        "id": "iY5u8KA6HT1C",
        "outputId": "3f0b795d-7c8b-4001-da45-dcae10159fc7"
      },
      "execution_count": null,
      "outputs": [
        {
          "output_type": "stream",
          "name": "stdout",
          "text": [
            "GridSearch CV score on test set: 0.9535\n"
          ]
        }
      ]
    }
  ]
}