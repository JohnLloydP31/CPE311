{
 "cells": [
  {
   "cell_type": "code",
   "execution_count": 41,
   "id": "2be6923e-5e0f-4282-9bf8-61b96ecb4b27",
   "metadata": {},
   "outputs": [
    {
     "ename": "error",
     "evalue": "OpenCV(4.9.0) D:\\a\\opencv-python\\opencv-python\\opencv\\modules\\highgui\\src\\window.cpp:1338: error: (-2:Unspecified error) The function is not implemented. Rebuild the library with Windows, GTK+ 2.x or Cocoa support. If you are on Ubuntu or Debian, install libgtk2.0-dev and pkg-config, then re-run cmake or configure script in function 'cvWaitKey'\n",
     "output_type": "error",
     "traceback": [
      "\u001b[1;31m---------------------------------------------------------------------------\u001b[0m",
      "\u001b[1;31merror\u001b[0m                                     Traceback (most recent call last)",
      "Cell \u001b[1;32mIn[41], line 3\u001b[0m\n\u001b[0;32m      1\u001b[0m \u001b[38;5;28;01mimport\u001b[39;00m \u001b[38;5;21;01mcv2\u001b[39;00m\n\u001b[0;32m      2\u001b[0m \u001b[38;5;66;03m#from google.colab.patches import cv2_imshow\u001b[39;00m\n\u001b[1;32m----> 3\u001b[0m key \u001b[38;5;241m=\u001b[39m cv2\u001b[38;5;241m.\u001b[39m waitKey(\u001b[38;5;241m1\u001b[39m)\n\u001b[0;32m      4\u001b[0m webcam \u001b[38;5;241m=\u001b[39m cv2\u001b[38;5;241m.\u001b[39mVideoCapture(\u001b[38;5;241m0\u001b[39m)\n\u001b[0;32m      5\u001b[0m \u001b[38;5;28;01mwhile\u001b[39;00m \u001b[38;5;28;01mTrue\u001b[39;00m:\n",
      "\u001b[1;31merror\u001b[0m: OpenCV(4.9.0) D:\\a\\opencv-python\\opencv-python\\opencv\\modules\\highgui\\src\\window.cpp:1338: error: (-2:Unspecified error) The function is not implemented. Rebuild the library with Windows, GTK+ 2.x or Cocoa support. If you are on Ubuntu or Debian, install libgtk2.0-dev and pkg-config, then re-run cmake or configure script in function 'cvWaitKey'\n"
     ]
    }
   ],
   "source": [
    "import cv2\n",
    "#from google.colab.patches import cv2_imshow\n",
    "key = cv2. waitKey(1)\n",
    "webcam = cv2.VideoCapture(0)\n",
    "while True:\n",
    " try:\n",
    "     check, frame = webcam.read()\n",
    "     print(check) #prints true as long as the webcam is running\n",
    "     print(frame) #prints matrix values of each framecd\n",
    "     cv2.imshow(\"Capturing\", frame)\n",
    "     key = cv2.waitKey(1)\n",
    "     if key == ord('s'):\n",
    "         cv2.imwrite(filename='saved_img.jpg', img=frame)\n",
    "         webcam.release()\n",
    "         img_new = cv2.imread('saved_img.jpg', cv2.IMREAD_GRAYSCALE)\n",
    "         img_new = cv2.imshow(\"Captured Image\", img_new)\n",
    "         cv2.waitKey(1650)\n",
    "         cv2.destroyAllWindows()\n",
    "         print(\"Processing image...\")\n",
    "         img_ = cv2.imread('saved_img.jpg', cv2.IMREAD_ANYCOLOR)\n",
    "         print(\"Converting RGB image to grayscale...\")\n",
    "         gray = cv2.cvtColor(img_, cv2.COLOR_BGR2GRAY)\n",
    "         print(\"Converted RGB image to grayscale...\")\n",
    "         print(\"Resizing image to 28x28 scale...\")\n",
    "         img_ = cv2.resize(gray,(28,28))\n",
    "         print(\"Resized...\")\n",
    "         img_resized = cv2.imwrite(filename='saved_img-final.jpg', img=img_)\n",
    "         print(\"Image saved!\")\n",
    "\n",
    "         break\n",
    "     elif key == ord('q'):\n",
    "         print(\"Turning off camera.\")\n",
    "         webcam.release()\n",
    "         print(\"Camera off.\")\n",
    "         print(\"Program ended.\")\n",
    "         cv2.destroyAllWindows()\n",
    "         break\n",
    "\n",
    " except(KeyboardInterrupt):\n",
    "         print(\"Turning off camera.\")\n",
    "         webcam.release()\n",
    "         print(\"Camera off.\")\n",
    "         print(\"Program ended.\")\n",
    "         cv2.destroyAllWindows()\n",
    "         break\n"
   ]
  },
  {
   "cell_type": "code",
   "execution_count": 6,
   "id": "7d6588e7-7eda-4eba-8346-f5d981cb27b6",
   "metadata": {},
   "outputs": [
    {
     "name": "stdout",
     "output_type": "stream",
     "text": [
      "Requirement already satisfied: sounddevice in c:\\users\\user\\anaconda3\\lib\\site-packages (0.4.6)\n",
      "Requirement already satisfied: CFFI>=1.0 in c:\\users\\user\\anaconda3\\lib\\site-packages (from sounddevice) (1.16.0)\n",
      "Requirement already satisfied: pycparser in c:\\users\\user\\anaconda3\\lib\\site-packages (from CFFI>=1.0->sounddevice) (2.21)\n"
     ]
    }
   ],
   "source": [
    "!pip3 install sounddevice"
   ]
  },
  {
   "cell_type": "code",
   "execution_count": 22,
   "id": "f27cd29f-a730-4841-9c02-e5398ee4f744",
   "metadata": {},
   "outputs": [
    {
     "name": "stdout",
     "output_type": "stream",
     "text": [
      "Requirement already satisfied: wavio in c:\\users\\user\\anaconda3\\lib\\site-packages (0.0.8)\n",
      "Requirement already satisfied: numpy>=1.19.0 in c:\\users\\user\\anaconda3\\lib\\site-packages (from wavio) (1.26.4)\n"
     ]
    }
   ],
   "source": [
    "!pip3 install wavio"
   ]
  },
  {
   "cell_type": "code",
   "execution_count": 23,
   "id": "5fa5d07a-55ac-43e3-94a7-ee058dd57fd4",
   "metadata": {},
   "outputs": [
    {
     "name": "stdout",
     "output_type": "stream",
     "text": [
      "Requirement already satisfied: scipy in c:\\users\\user\\anaconda3\\lib\\site-packages (1.11.4)\n",
      "Requirement already satisfied: numpy<1.28.0,>=1.21.6 in c:\\users\\user\\anaconda3\\lib\\site-packages (from scipy) (1.26.4)\n"
     ]
    }
   ],
   "source": [
    "!pip3 install scipy"
   ]
  },
  {
   "cell_type": "code",
   "execution_count": 32,
   "id": "b5a8a21f-b29c-4181-ab03-8381062d238f",
   "metadata": {},
   "outputs": [
    {
     "name": "stderr",
     "output_type": "stream",
     "text": [
      "'apt-get' is not recognized as an internal or external command,\n",
      "operable program or batch file.\n"
     ]
    }
   ],
   "source": [
    "!apt-get install libportaudio2"
   ]
  },
  {
   "cell_type": "code",
   "execution_count": 36,
   "id": "0eed677f-0d79-4630-991e-cf578eeced6c",
   "metadata": {},
   "outputs": [],
   "source": [
    "# import required libraries\n",
    "import sounddevice as sd\n",
    "from scipy.io.wavfile import write\n",
    "import wavio as wv\n",
    "\n",
    "# Sampling frequency\n",
    "freq = 44100\n",
    "\n",
    "# Recording duration\n",
    "duration = 5\n",
    "\n",
    "# Start recorder with the given values\n",
    "# of duration and sample frequency\n",
    "recording = sd.rec(int(duration * freq),\n",
    " samplerate=freq, channels=2)\n",
    "\n",
    "# Record audio for the given number of seconds\n",
    "sd.wait()\n",
    "\n",
    "# This will convert the NumPy array to an audio\n",
    "# file with the given sampling frequency\n",
    "write(\"recording0.wav\", freq, recording)\n",
    "# Convert the NumPy array to audio file\n",
    "wv.write(\"recording1.wav\", recording, freq, sampwidth=2)"
   ]
  },
  {
   "cell_type": "code",
   "execution_count": 42,
   "id": "2fa7ce71-3b24-4d36-99e1-f8e1c288481a",
   "metadata": {},
   "outputs": [
    {
     "name": "stdout",
     "output_type": "stream",
     "text": [
      "Collecting bs4\n",
      "  Downloading bs4-0.0.2-py2.py3-none-any.whl.metadata (411 bytes)\n",
      "Requirement already satisfied: beautifulsoup4 in c:\\users\\user\\anaconda3\\lib\\site-packages (from bs4) (4.12.2)\n",
      "Requirement already satisfied: soupsieve>1.2 in c:\\users\\user\\anaconda3\\lib\\site-packages (from beautifulsoup4->bs4) (2.5)\n",
      "Downloading bs4-0.0.2-py2.py3-none-any.whl (1.2 kB)\n",
      "Installing collected packages: bs4\n",
      "Successfully installed bs4-0.0.2\n"
     ]
    }
   ],
   "source": [
    "!pip install bs4"
   ]
  },
  {
   "cell_type": "code",
   "execution_count": 43,
   "id": "5c8cee62-8e59-499d-ba06-7df18a1bea23",
   "metadata": {},
   "outputs": [
    {
     "name": "stdout",
     "output_type": "stream",
     "text": [
      "Requirement already satisfied: requests in c:\\users\\user\\anaconda3\\lib\\site-packages (2.31.0)\n",
      "Requirement already satisfied: charset-normalizer<4,>=2 in c:\\users\\user\\anaconda3\\lib\\site-packages (from requests) (2.0.4)\n",
      "Requirement already satisfied: idna<4,>=2.5 in c:\\users\\user\\anaconda3\\lib\\site-packages (from requests) (3.4)\n",
      "Requirement already satisfied: urllib3<3,>=1.21.1 in c:\\users\\user\\anaconda3\\lib\\site-packages (from requests) (2.0.7)\n",
      "Requirement already satisfied: certifi>=2017.4.17 in c:\\users\\user\\anaconda3\\lib\\site-packages (from requests) (2024.2.2)\n",
      "Note: you may need to restart the kernel to use updated packages.\n"
     ]
    }
   ],
   "source": [
    "pip install requests"
   ]
  },
  {
   "cell_type": "code",
   "execution_count": 44,
   "id": "bd5a6fbe-55e7-40a2-bc53-519a15d908b1",
   "metadata": {},
   "outputs": [
    {
     "name": "stdout",
     "output_type": "stream",
     "text": [
      "/images/branding/googlelogo/1x/googlelogo_white_background_color_272x92dp.png\n"
     ]
    }
   ],
   "source": [
    "import requests\n",
    "from bs4 import BeautifulSoup\n",
    "\n",
    "def getdata(url):\n",
    " r = requests.get(url)\n",
    " return r.text\n",
    "\n",
    "htmldata = getdata(\"https://www.google.com/\")\n",
    "soup = BeautifulSoup(htmldata, 'html.parser')\n",
    "for item in soup.find_all('img'):\n",
    " print(item['src'])"
   ]
  },
  {
   "cell_type": "code",
   "execution_count": 1,
   "id": "948e22fc-e079-46a0-9ffe-3e9d6ee7da70",
   "metadata": {},
   "outputs": [
    {
     "name": "stdout",
     "output_type": "stream",
     "text": [
      "Requirement already satisfied: selenium in c:\\users\\user\\anaconda3\\lib\\site-packages (4.18.1)\n",
      "Requirement already satisfied: urllib3<3,>=1.26 in c:\\users\\user\\anaconda3\\lib\\site-packages (from urllib3[socks]<3,>=1.26->selenium) (2.0.7)\n",
      "Requirement already satisfied: trio~=0.17 in c:\\users\\user\\anaconda3\\lib\\site-packages (from selenium) (0.25.0)\n",
      "Requirement already satisfied: trio-websocket~=0.9 in c:\\users\\user\\anaconda3\\lib\\site-packages (from selenium) (0.11.1)\n",
      "Requirement already satisfied: certifi>=2021.10.8 in c:\\users\\user\\anaconda3\\lib\\site-packages (from selenium) (2024.2.2)\n",
      "Requirement already satisfied: typing_extensions>=4.9.0 in c:\\users\\user\\anaconda3\\lib\\site-packages (from selenium) (4.9.0)\n",
      "Requirement already satisfied: attrs>=23.2.0 in c:\\users\\user\\anaconda3\\lib\\site-packages (from trio~=0.17->selenium) (23.2.0)\n",
      "Requirement already satisfied: sortedcontainers in c:\\users\\user\\anaconda3\\lib\\site-packages (from trio~=0.17->selenium) (2.4.0)\n",
      "Requirement already satisfied: idna in c:\\users\\user\\anaconda3\\lib\\site-packages (from trio~=0.17->selenium) (3.4)\n",
      "Requirement already satisfied: outcome in c:\\users\\user\\anaconda3\\lib\\site-packages (from trio~=0.17->selenium) (1.3.0.post0)\n",
      "Requirement already satisfied: sniffio>=1.3.0 in c:\\users\\user\\anaconda3\\lib\\site-packages (from trio~=0.17->selenium) (1.3.0)\n",
      "Requirement already satisfied: cffi>=1.14 in c:\\users\\user\\anaconda3\\lib\\site-packages (from trio~=0.17->selenium) (1.16.0)\n",
      "Requirement already satisfied: wsproto>=0.14 in c:\\users\\user\\anaconda3\\lib\\site-packages (from trio-websocket~=0.9->selenium) (1.2.0)\n",
      "Requirement already satisfied: pysocks!=1.5.7,<2.0,>=1.5.6 in c:\\users\\user\\anaconda3\\lib\\site-packages (from urllib3[socks]<3,>=1.26->selenium) (1.7.1)\n",
      "Requirement already satisfied: pycparser in c:\\users\\user\\anaconda3\\lib\\site-packages (from cffi>=1.14->trio~=0.17->selenium) (2.21)\n",
      "Requirement already satisfied: h11<1,>=0.9.0 in c:\\users\\user\\anaconda3\\lib\\site-packages (from wsproto>=0.14->trio-websocket~=0.9->selenium) (0.14.0)\n",
      "Note: you may need to restart the kernel to use updated packages.\n"
     ]
    }
   ],
   "source": [
    "pip install selenium"
   ]
  },
  {
   "cell_type": "code",
   "execution_count": 92,
   "id": "98c07a8c-bb82-4782-9fe5-9b47e651a5a5",
   "metadata": {},
   "outputs": [
    {
     "name": "stdout",
     "output_type": "stream",
     "text": [
      "Requirement already satisfied: selenium in c:\\users\\user\\anaconda3\\lib\\site-packages (4.18.1)\n",
      "Requirement already satisfied: urllib3<3,>=1.26 in c:\\users\\user\\anaconda3\\lib\\site-packages (from urllib3[socks]<3,>=1.26->selenium) (2.0.7)\n",
      "Requirement already satisfied: trio~=0.17 in c:\\users\\user\\anaconda3\\lib\\site-packages (from selenium) (0.25.0)\n",
      "Requirement already satisfied: trio-websocket~=0.9 in c:\\users\\user\\anaconda3\\lib\\site-packages (from selenium) (0.11.1)\n",
      "Requirement already satisfied: certifi>=2021.10.8 in c:\\users\\user\\anaconda3\\lib\\site-packages (from selenium) (2024.2.2)\n",
      "Requirement already satisfied: typing_extensions>=4.9.0 in c:\\users\\user\\anaconda3\\lib\\site-packages (from selenium) (4.9.0)\n",
      "Requirement already satisfied: attrs>=23.2.0 in c:\\users\\user\\anaconda3\\lib\\site-packages (from trio~=0.17->selenium) (23.2.0)\n",
      "Requirement already satisfied: sortedcontainers in c:\\users\\user\\anaconda3\\lib\\site-packages (from trio~=0.17->selenium) (2.4.0)\n",
      "Requirement already satisfied: idna in c:\\users\\user\\anaconda3\\lib\\site-packages (from trio~=0.17->selenium) (3.4)\n",
      "Requirement already satisfied: outcome in c:\\users\\user\\anaconda3\\lib\\site-packages (from trio~=0.17->selenium) (1.3.0.post0)\n",
      "Requirement already satisfied: sniffio>=1.3.0 in c:\\users\\user\\anaconda3\\lib\\site-packages (from trio~=0.17->selenium) (1.3.0)\n",
      "Requirement already satisfied: cffi>=1.14 in c:\\users\\user\\anaconda3\\lib\\site-packages (from trio~=0.17->selenium) (1.16.0)\n",
      "Requirement already satisfied: wsproto>=0.14 in c:\\users\\user\\anaconda3\\lib\\site-packages (from trio-websocket~=0.9->selenium) (1.2.0)\n",
      "Requirement already satisfied: pysocks!=1.5.7,<2.0,>=1.5.6 in c:\\users\\user\\anaconda3\\lib\\site-packages (from urllib3[socks]<3,>=1.26->selenium) (1.7.1)\n",
      "Requirement already satisfied: pycparser in c:\\users\\user\\anaconda3\\lib\\site-packages (from cffi>=1.14->trio~=0.17->selenium) (2.21)\n",
      "Requirement already satisfied: h11<1,>=0.9.0 in c:\\users\\user\\anaconda3\\lib\\site-packages (from wsproto>=0.14->trio-websocket~=0.9->selenium) (0.14.0)\n",
      "Current Path cat\n",
      "total results: 100\n",
      "Found: [<selenium.webdriver.remote.webelement.WebElement (session=\"381bb151ea1f651a6fe53e5efe2d90d3\", element=\"f.5B575C276EFF65DD68F01005FD595D87.d.7DB82592FD93FAF5F08921E50A7DD8C7.e.10\")>, <selenium.webdriver.remote.webelement.WebElement (session=\"381bb151ea1f651a6fe53e5efe2d90d3\", element=\"f.5B575C276EFF65DD68F01005FD595D87.d.7DB82592FD93FAF5F08921E50A7DD8C7.e.12\")>, <selenium.webdriver.remote.webelement.WebElement (session=\"381bb151ea1f651a6fe53e5efe2d90d3\", element=\"f.5B575C276EFF65DD68F01005FD595D87.d.7DB82592FD93FAF5F08921E50A7DD8C7.e.14\")>, <selenium.webdriver.remote.webelement.WebElement (session=\"381bb151ea1f651a6fe53e5efe2d90d3\", element=\"f.5B575C276EFF65DD68F01005FD595D87.d.7DB82592FD93FAF5F08921E50A7DD8C7.e.16\")>, <selenium.webdriver.remote.webelement.WebElement (session=\"381bb151ea1f651a6fe53e5efe2d90d3\", element=\"f.5B575C276EFF65DD68F01005FD595D87.d.7DB82592FD93FAF5F08921E50A7DD8C7.e.18\")>, <selenium.webdriver.remote.webelement.WebElement (session=\"381bb151ea1f651a6fe53e5efe2d90d3\", element=\"f.5B575C276EFF65DD68F01005FD595D87.d.7DB82592FD93FAF5F08921E50A7DD8C7.e.20\")>, <selenium.webdriver.remote.webelement.WebElement (session=\"381bb151ea1f651a6fe53e5efe2d90d3\", element=\"f.5B575C276EFF65DD68F01005FD595D87.d.7DB82592FD93FAF5F08921E50A7DD8C7.e.22\")>, <selenium.webdriver.remote.webelement.WebElement (session=\"381bb151ea1f651a6fe53e5efe2d90d3\", element=\"f.5B575C276EFF65DD68F01005FD595D87.d.7DB82592FD93FAF5F08921E50A7DD8C7.e.24\")>, <selenium.webdriver.remote.webelement.WebElement (session=\"381bb151ea1f651a6fe53e5efe2d90d3\", element=\"f.5B575C276EFF65DD68F01005FD595D87.d.7DB82592FD93FAF5F08921E50A7DD8C7.e.26\")>, <selenium.webdriver.remote.webelement.WebElement (session=\"381bb151ea1f651a6fe53e5efe2d90d3\", element=\"f.5B575C276EFF65DD68F01005FD595D87.d.7DB82592FD93FAF5F08921E50A7DD8C7.e.27\")>, <selenium.webdriver.remote.webelement.WebElement (session=\"381bb151ea1f651a6fe53e5efe2d90d3\", element=\"f.5B575C276EFF65DD68F01005FD595D87.d.7DB82592FD93FAF5F08921E50A7DD8C7.e.28\")>, <selenium.webdriver.remote.webelement.WebElement (session=\"381bb151ea1f651a6fe53e5efe2d90d3\", element=\"f.5B575C276EFF65DD68F01005FD595D87.d.7DB82592FD93FAF5F08921E50A7DD8C7.e.38\")>, <selenium.webdriver.remote.webelement.WebElement (session=\"381bb151ea1f651a6fe53e5efe2d90d3\", element=\"f.5B575C276EFF65DD68F01005FD595D87.d.7DB82592FD93FAF5F08921E50A7DD8C7.e.39\")>, <selenium.webdriver.remote.webelement.WebElement (session=\"381bb151ea1f651a6fe53e5efe2d90d3\", element=\"f.5B575C276EFF65DD68F01005FD595D87.d.7DB82592FD93FAF5F08921E50A7DD8C7.e.40\")>, <selenium.webdriver.remote.webelement.WebElement (session=\"381bb151ea1f651a6fe53e5efe2d90d3\", element=\"f.5B575C276EFF65DD68F01005FD595D87.d.7DB82592FD93FAF5F08921E50A7DD8C7.e.41\")>, <selenium.webdriver.remote.webelement.WebElement (session=\"381bb151ea1f651a6fe53e5efe2d90d3\", element=\"f.5B575C276EFF65DD68F01005FD595D87.d.7DB82592FD93FAF5F08921E50A7DD8C7.e.42\")>, <selenium.webdriver.remote.webelement.WebElement (session=\"381bb151ea1f651a6fe53e5efe2d90d3\", element=\"f.5B575C276EFF65DD68F01005FD595D87.d.7DB82592FD93FAF5F08921E50A7DD8C7.e.43\")>, <selenium.webdriver.remote.webelement.WebElement (session=\"381bb151ea1f651a6fe53e5efe2d90d3\", element=\"f.5B575C276EFF65DD68F01005FD595D87.d.7DB82592FD93FAF5F08921E50A7DD8C7.e.44\")>, <selenium.webdriver.remote.webelement.WebElement (session=\"381bb151ea1f651a6fe53e5efe2d90d3\", element=\"f.5B575C276EFF65DD68F01005FD595D87.d.7DB82592FD93FAF5F08921E50A7DD8C7.e.45\")>, <selenium.webdriver.remote.webelement.WebElement (session=\"381bb151ea1f651a6fe53e5efe2d90d3\", element=\"f.5B575C276EFF65DD68F01005FD595D87.d.7DB82592FD93FAF5F08921E50A7DD8C7.e.46\")>, <selenium.webdriver.remote.webelement.WebElement (session=\"381bb151ea1f651a6fe53e5efe2d90d3\", element=\"f.5B575C276EFF65DD68F01005FD595D87.d.7DB82592FD93FAF5F08921E50A7DD8C7.e.47\")>, <selenium.webdriver.remote.webelement.WebElement (session=\"381bb151ea1f651a6fe53e5efe2d90d3\", element=\"f.5B575C276EFF65DD68F01005FD595D87.d.7DB82592FD93FAF5F08921E50A7DD8C7.e.49\")>, <selenium.webdriver.remote.webelement.WebElement (session=\"381bb151ea1f651a6fe53e5efe2d90d3\", element=\"f.5B575C276EFF65DD68F01005FD595D87.d.7DB82592FD93FAF5F08921E50A7DD8C7.e.51\")>, <selenium.webdriver.remote.webelement.WebElement (session=\"381bb151ea1f651a6fe53e5efe2d90d3\", element=\"f.5B575C276EFF65DD68F01005FD595D87.d.7DB82592FD93FAF5F08921E50A7DD8C7.e.53\")>, <selenium.webdriver.remote.webelement.WebElement (session=\"381bb151ea1f651a6fe53e5efe2d90d3\", element=\"f.5B575C276EFF65DD68F01005FD595D87.d.7DB82592FD93FAF5F08921E50A7DD8C7.e.55\")>, <selenium.webdriver.remote.webelement.WebElement (session=\"381bb151ea1f651a6fe53e5efe2d90d3\", element=\"f.5B575C276EFF65DD68F01005FD595D87.d.7DB82592FD93FAF5F08921E50A7DD8C7.e.57\")>, <selenium.webdriver.remote.webelement.WebElement (session=\"381bb151ea1f651a6fe53e5efe2d90d3\", element=\"f.5B575C276EFF65DD68F01005FD595D87.d.7DB82592FD93FAF5F08921E50A7DD8C7.e.59\")>, <selenium.webdriver.remote.webelement.WebElement (session=\"381bb151ea1f651a6fe53e5efe2d90d3\", element=\"f.5B575C276EFF65DD68F01005FD595D87.d.7DB82592FD93FAF5F08921E50A7DD8C7.e.61\")>, <selenium.webdriver.remote.webelement.WebElement (session=\"381bb151ea1f651a6fe53e5efe2d90d3\", element=\"f.5B575C276EFF65DD68F01005FD595D87.d.7DB82592FD93FAF5F08921E50A7DD8C7.e.63\")>, <selenium.webdriver.remote.webelement.WebElement (session=\"381bb151ea1f651a6fe53e5efe2d90d3\", element=\"f.5B575C276EFF65DD68F01005FD595D87.d.7DB82592FD93FAF5F08921E50A7DD8C7.e.65\")>, <selenium.webdriver.remote.webelement.WebElement (session=\"381bb151ea1f651a6fe53e5efe2d90d3\", element=\"f.5B575C276EFF65DD68F01005FD595D87.d.7DB82592FD93FAF5F08921E50A7DD8C7.e.67\")>, <selenium.webdriver.remote.webelement.WebElement (session=\"381bb151ea1f651a6fe53e5efe2d90d3\", element=\"f.5B575C276EFF65DD68F01005FD595D87.d.7DB82592FD93FAF5F08921E50A7DD8C7.e.69\")>, <selenium.webdriver.remote.webelement.WebElement (session=\"381bb151ea1f651a6fe53e5efe2d90d3\", element=\"f.5B575C276EFF65DD68F01005FD595D87.d.7DB82592FD93FAF5F08921E50A7DD8C7.e.71\")>, <selenium.webdriver.remote.webelement.WebElement (session=\"381bb151ea1f651a6fe53e5efe2d90d3\", element=\"f.5B575C276EFF65DD68F01005FD595D87.d.7DB82592FD93FAF5F08921E50A7DD8C7.e.73\")>, <selenium.webdriver.remote.webelement.WebElement (session=\"381bb151ea1f651a6fe53e5efe2d90d3\", element=\"f.5B575C276EFF65DD68F01005FD595D87.d.7DB82592FD93FAF5F08921E50A7DD8C7.e.75\")>, <selenium.webdriver.remote.webelement.WebElement (session=\"381bb151ea1f651a6fe53e5efe2d90d3\", element=\"f.5B575C276EFF65DD68F01005FD595D87.d.7DB82592FD93FAF5F08921E50A7DD8C7.e.77\")>, <selenium.webdriver.remote.webelement.WebElement (session=\"381bb151ea1f651a6fe53e5efe2d90d3\", element=\"f.5B575C276EFF65DD68F01005FD595D87.d.7DB82592FD93FAF5F08921E50A7DD8C7.e.79\")>, <selenium.webdriver.remote.webelement.WebElement (session=\"381bb151ea1f651a6fe53e5efe2d90d3\", element=\"f.5B575C276EFF65DD68F01005FD595D87.d.7DB82592FD93FAF5F08921E50A7DD8C7.e.81\")>, <selenium.webdriver.remote.webelement.WebElement (session=\"381bb151ea1f651a6fe53e5efe2d90d3\", element=\"f.5B575C276EFF65DD68F01005FD595D87.d.7DB82592FD93FAF5F08921E50A7DD8C7.e.83\")>, <selenium.webdriver.remote.webelement.WebElement (session=\"381bb151ea1f651a6fe53e5efe2d90d3\", element=\"f.5B575C276EFF65DD68F01005FD595D87.d.7DB82592FD93FAF5F08921E50A7DD8C7.e.85\")>, <selenium.webdriver.remote.webelement.WebElement (session=\"381bb151ea1f651a6fe53e5efe2d90d3\", element=\"f.5B575C276EFF65DD68F01005FD595D87.d.7DB82592FD93FAF5F08921E50A7DD8C7.e.87\")>, <selenium.webdriver.remote.webelement.WebElement (session=\"381bb151ea1f651a6fe53e5efe2d90d3\", element=\"f.5B575C276EFF65DD68F01005FD595D87.d.7DB82592FD93FAF5F08921E50A7DD8C7.e.89\")>, <selenium.webdriver.remote.webelement.WebElement (session=\"381bb151ea1f651a6fe53e5efe2d90d3\", element=\"f.5B575C276EFF65DD68F01005FD595D87.d.7DB82592FD93FAF5F08921E50A7DD8C7.e.37\")>, <selenium.webdriver.remote.webelement.WebElement (session=\"381bb151ea1f651a6fe53e5efe2d90d3\", element=\"f.5B575C276EFF65DD68F01005FD595D87.d.7DB82592FD93FAF5F08921E50A7DD8C7.e.92\")>, <selenium.webdriver.remote.webelement.WebElement (session=\"381bb151ea1f651a6fe53e5efe2d90d3\", element=\"f.5B575C276EFF65DD68F01005FD595D87.d.7DB82592FD93FAF5F08921E50A7DD8C7.e.94\")>, <selenium.webdriver.remote.webelement.WebElement (session=\"381bb151ea1f651a6fe53e5efe2d90d3\", element=\"f.5B575C276EFF65DD68F01005FD595D87.d.7DB82592FD93FAF5F08921E50A7DD8C7.e.96\")>, <selenium.webdriver.remote.webelement.WebElement (session=\"381bb151ea1f651a6fe53e5efe2d90d3\", element=\"f.5B575C276EFF65DD68F01005FD595D87.d.7DB82592FD93FAF5F08921E50A7DD8C7.e.98\")>, <selenium.webdriver.remote.webelement.WebElement (session=\"381bb151ea1f651a6fe53e5efe2d90d3\", element=\"f.5B575C276EFF65DD68F01005FD595D87.d.7DB82592FD93FAF5F08921E50A7DD8C7.e.100\")>, <selenium.webdriver.remote.webelement.WebElement (session=\"381bb151ea1f651a6fe53e5efe2d90d3\", element=\"f.5B575C276EFF65DD68F01005FD595D87.d.7DB82592FD93FAF5F08921E50A7DD8C7.e.102\")>, <selenium.webdriver.remote.webelement.WebElement (session=\"381bb151ea1f651a6fe53e5efe2d90d3\", element=\"f.5B575C276EFF65DD68F01005FD595D87.d.7DB82592FD93FAF5F08921E50A7DD8C7.e.104\")>, <selenium.webdriver.remote.webelement.WebElement (session=\"381bb151ea1f651a6fe53e5efe2d90d3\", element=\"f.5B575C276EFF65DD68F01005FD595D87.d.7DB82592FD93FAF5F08921E50A7DD8C7.e.106\")>, <selenium.webdriver.remote.webelement.WebElement (session=\"381bb151ea1f651a6fe53e5efe2d90d3\", element=\"f.5B575C276EFF65DD68F01005FD595D87.d.7DB82592FD93FAF5F08921E50A7DD8C7.e.108\")>, <selenium.webdriver.remote.webelement.WebElement (session=\"381bb151ea1f651a6fe53e5efe2d90d3\", element=\"f.5B575C276EFF65DD68F01005FD595D87.d.7DB82592FD93FAF5F08921E50A7DD8C7.e.110\")>, <selenium.webdriver.remote.webelement.WebElement (session=\"381bb151ea1f651a6fe53e5efe2d90d3\", element=\"f.5B575C276EFF65DD68F01005FD595D87.d.7DB82592FD93FAF5F08921E50A7DD8C7.e.112\")>, <selenium.webdriver.remote.webelement.WebElement (session=\"381bb151ea1f651a6fe53e5efe2d90d3\", element=\"f.5B575C276EFF65DD68F01005FD595D87.d.7DB82592FD93FAF5F08921E50A7DD8C7.e.114\")>, <selenium.webdriver.remote.webelement.WebElement (session=\"381bb151ea1f651a6fe53e5efe2d90d3\", element=\"f.5B575C276EFF65DD68F01005FD595D87.d.7DB82592FD93FAF5F08921E50A7DD8C7.e.116\")>, <selenium.webdriver.remote.webelement.WebElement (session=\"381bb151ea1f651a6fe53e5efe2d90d3\", element=\"f.5B575C276EFF65DD68F01005FD595D87.d.7DB82592FD93FAF5F08921E50A7DD8C7.e.118\")>, <selenium.webdriver.remote.webelement.WebElement (session=\"381bb151ea1f651a6fe53e5efe2d90d3\", element=\"f.5B575C276EFF65DD68F01005FD595D87.d.7DB82592FD93FAF5F08921E50A7DD8C7.e.120\")>, <selenium.webdriver.remote.webelement.WebElement (session=\"381bb151ea1f651a6fe53e5efe2d90d3\", element=\"f.5B575C276EFF65DD68F01005FD595D87.d.7DB82592FD93FAF5F08921E50A7DD8C7.e.122\")>, <selenium.webdriver.remote.webelement.WebElement (session=\"381bb151ea1f651a6fe53e5efe2d90d3\", element=\"f.5B575C276EFF65DD68F01005FD595D87.d.7DB82592FD93FAF5F08921E50A7DD8C7.e.124\")>, <selenium.webdriver.remote.webelement.WebElement (session=\"381bb151ea1f651a6fe53e5efe2d90d3\", element=\"f.5B575C276EFF65DD68F01005FD595D87.d.7DB82592FD93FAF5F08921E50A7DD8C7.e.126\")>, <selenium.webdriver.remote.webelement.WebElement (session=\"381bb151ea1f651a6fe53e5efe2d90d3\", element=\"f.5B575C276EFF65DD68F01005FD595D87.d.7DB82592FD93FAF5F08921E50A7DD8C7.e.128\")>, <selenium.webdriver.remote.webelement.WebElement (session=\"381bb151ea1f651a6fe53e5efe2d90d3\", element=\"f.5B575C276EFF65DD68F01005FD595D87.d.7DB82592FD93FAF5F08921E50A7DD8C7.e.130\")>, <selenium.webdriver.remote.webelement.WebElement (session=\"381bb151ea1f651a6fe53e5efe2d90d3\", element=\"f.5B575C276EFF65DD68F01005FD595D87.d.7DB82592FD93FAF5F08921E50A7DD8C7.e.132\")>, <selenium.webdriver.remote.webelement.WebElement (session=\"381bb151ea1f651a6fe53e5efe2d90d3\", element=\"f.5B575C276EFF65DD68F01005FD595D87.d.7DB82592FD93FAF5F08921E50A7DD8C7.e.134\")>, <selenium.webdriver.remote.webelement.WebElement (session=\"381bb151ea1f651a6fe53e5efe2d90d3\", element=\"f.5B575C276EFF65DD68F01005FD595D87.d.7DB82592FD93FAF5F08921E50A7DD8C7.e.136\")>, <selenium.webdriver.remote.webelement.WebElement (session=\"381bb151ea1f651a6fe53e5efe2d90d3\", element=\"f.5B575C276EFF65DD68F01005FD595D87.d.7DB82592FD93FAF5F08921E50A7DD8C7.e.138\")>, <selenium.webdriver.remote.webelement.WebElement (session=\"381bb151ea1f651a6fe53e5efe2d90d3\", element=\"f.5B575C276EFF65DD68F01005FD595D87.d.7DB82592FD93FAF5F08921E50A7DD8C7.e.140\")>, <selenium.webdriver.remote.webelement.WebElement (session=\"381bb151ea1f651a6fe53e5efe2d90d3\", element=\"f.5B575C276EFF65DD68F01005FD595D87.d.7DB82592FD93FAF5F08921E50A7DD8C7.e.142\")>, <selenium.webdriver.remote.webelement.WebElement (session=\"381bb151ea1f651a6fe53e5efe2d90d3\", element=\"f.5B575C276EFF65DD68F01005FD595D87.d.7DB82592FD93FAF5F08921E50A7DD8C7.e.144\")>, <selenium.webdriver.remote.webelement.WebElement (session=\"381bb151ea1f651a6fe53e5efe2d90d3\", element=\"f.5B575C276EFF65DD68F01005FD595D87.d.7DB82592FD93FAF5F08921E50A7DD8C7.e.146\")>, <selenium.webdriver.remote.webelement.WebElement (session=\"381bb151ea1f651a6fe53e5efe2d90d3\", element=\"f.5B575C276EFF65DD68F01005FD595D87.d.7DB82592FD93FAF5F08921E50A7DD8C7.e.148\")>, <selenium.webdriver.remote.webelement.WebElement (session=\"381bb151ea1f651a6fe53e5efe2d90d3\", element=\"f.5B575C276EFF65DD68F01005FD595D87.d.7DB82592FD93FAF5F08921E50A7DD8C7.e.150\")>, <selenium.webdriver.remote.webelement.WebElement (session=\"381bb151ea1f651a6fe53e5efe2d90d3\", element=\"f.5B575C276EFF65DD68F01005FD595D87.d.7DB82592FD93FAF5F08921E50A7DD8C7.e.152\")>, <selenium.webdriver.remote.webelement.WebElement (session=\"381bb151ea1f651a6fe53e5efe2d90d3\", element=\"f.5B575C276EFF65DD68F01005FD595D87.d.7DB82592FD93FAF5F08921E50A7DD8C7.e.154\")>, <selenium.webdriver.remote.webelement.WebElement (session=\"381bb151ea1f651a6fe53e5efe2d90d3\", element=\"f.5B575C276EFF65DD68F01005FD595D87.d.7DB82592FD93FAF5F08921E50A7DD8C7.e.156\")>, <selenium.webdriver.remote.webelement.WebElement (session=\"381bb151ea1f651a6fe53e5efe2d90d3\", element=\"f.5B575C276EFF65DD68F01005FD595D87.d.7DB82592FD93FAF5F08921E50A7DD8C7.e.158\")>, <selenium.webdriver.remote.webelement.WebElement (session=\"381bb151ea1f651a6fe53e5efe2d90d3\", element=\"f.5B575C276EFF65DD68F01005FD595D87.d.7DB82592FD93FAF5F08921E50A7DD8C7.e.160\")>, <selenium.webdriver.remote.webelement.WebElement (session=\"381bb151ea1f651a6fe53e5efe2d90d3\", element=\"f.5B575C276EFF65DD68F01005FD595D87.d.7DB82592FD93FAF5F08921E50A7DD8C7.e.162\")>, <selenium.webdriver.remote.webelement.WebElement (session=\"381bb151ea1f651a6fe53e5efe2d90d3\", element=\"f.5B575C276EFF65DD68F01005FD595D87.d.7DB82592FD93FAF5F08921E50A7DD8C7.e.164\")>, <selenium.webdriver.remote.webelement.WebElement (session=\"381bb151ea1f651a6fe53e5efe2d90d3\", element=\"f.5B575C276EFF65DD68F01005FD595D87.d.7DB82592FD93FAF5F08921E50A7DD8C7.e.166\")>, <selenium.webdriver.remote.webelement.WebElement (session=\"381bb151ea1f651a6fe53e5efe2d90d3\", element=\"f.5B575C276EFF65DD68F01005FD595D87.d.7DB82592FD93FAF5F08921E50A7DD8C7.e.168\")>, <selenium.webdriver.remote.webelement.WebElement (session=\"381bb151ea1f651a6fe53e5efe2d90d3\", element=\"f.5B575C276EFF65DD68F01005FD595D87.d.7DB82592FD93FAF5F08921E50A7DD8C7.e.170\")>, <selenium.webdriver.remote.webelement.WebElement (session=\"381bb151ea1f651a6fe53e5efe2d90d3\", element=\"f.5B575C276EFF65DD68F01005FD595D87.d.7DB82592FD93FAF5F08921E50A7DD8C7.e.172\")>, <selenium.webdriver.remote.webelement.WebElement (session=\"381bb151ea1f651a6fe53e5efe2d90d3\", element=\"f.5B575C276EFF65DD68F01005FD595D87.d.7DB82592FD93FAF5F08921E50A7DD8C7.e.174\")>, <selenium.webdriver.remote.webelement.WebElement (session=\"381bb151ea1f651a6fe53e5efe2d90d3\", element=\"f.5B575C276EFF65DD68F01005FD595D87.d.7DB82592FD93FAF5F08921E50A7DD8C7.e.176\")>, <selenium.webdriver.remote.webelement.WebElement (session=\"381bb151ea1f651a6fe53e5efe2d90d3\", element=\"f.5B575C276EFF65DD68F01005FD595D87.d.7DB82592FD93FAF5F08921E50A7DD8C7.e.178\")>, <selenium.webdriver.remote.webelement.WebElement (session=\"381bb151ea1f651a6fe53e5efe2d90d3\", element=\"f.5B575C276EFF65DD68F01005FD595D87.d.7DB82592FD93FAF5F08921E50A7DD8C7.e.180\")>, <selenium.webdriver.remote.webelement.WebElement (session=\"381bb151ea1f651a6fe53e5efe2d90d3\", element=\"f.5B575C276EFF65DD68F01005FD595D87.d.7DB82592FD93FAF5F08921E50A7DD8C7.e.182\")>, <selenium.webdriver.remote.webelement.WebElement (session=\"381bb151ea1f651a6fe53e5efe2d90d3\", element=\"f.5B575C276EFF65DD68F01005FD595D87.d.7DB82592FD93FAF5F08921E50A7DD8C7.e.184\")>, <selenium.webdriver.remote.webelement.WebElement (session=\"381bb151ea1f651a6fe53e5efe2d90d3\", element=\"f.5B575C276EFF65DD68F01005FD595D87.d.7DB82592FD93FAF5F08921E50A7DD8C7.e.186\")>, <selenium.webdriver.remote.webelement.WebElement (session=\"381bb151ea1f651a6fe53e5efe2d90d3\", element=\"f.5B575C276EFF65DD68F01005FD595D87.d.7DB82592FD93FAF5F08921E50A7DD8C7.e.188\")>, <selenium.webdriver.remote.webelement.WebElement (session=\"381bb151ea1f651a6fe53e5efe2d90d3\", element=\"f.5B575C276EFF65DD68F01005FD595D87.d.7DB82592FD93FAF5F08921E50A7DD8C7.e.190\")>, <selenium.webdriver.remote.webelement.WebElement (session=\"381bb151ea1f651a6fe53e5efe2d90d3\", element=\"f.5B575C276EFF65DD68F01005FD595D87.d.7DB82592FD93FAF5F08921E50A7DD8C7.e.192\")>, <selenium.webdriver.remote.webelement.WebElement (session=\"381bb151ea1f651a6fe53e5efe2d90d3\", element=\"f.5B575C276EFF65DD68F01005FD595D87.d.7DB82592FD93FAF5F08921E50A7DD8C7.e.194\")>, <selenium.webdriver.remote.webelement.WebElement (session=\"381bb151ea1f651a6fe53e5efe2d90d3\", element=\"f.5B575C276EFF65DD68F01005FD595D87.d.7DB82592FD93FAF5F08921E50A7DD8C7.e.196\")>, <selenium.webdriver.remote.webelement.WebElement (session=\"381bb151ea1f651a6fe53e5efe2d90d3\", element=\"f.5B575C276EFF65DD68F01005FD595D87.d.7DB82592FD93FAF5F08921E50A7DD8C7.e.198\")>, <selenium.webdriver.remote.webelement.WebElement (session=\"381bb151ea1f651a6fe53e5efe2d90d3\", element=\"f.5B575C276EFF65DD68F01005FD595D87.d.7DB82592FD93FAF5F08921E50A7DD8C7.e.200\")>, <selenium.webdriver.remote.webelement.WebElement (session=\"381bb151ea1f651a6fe53e5efe2d90d3\", element=\"f.5B575C276EFF65DD68F01005FD595D87.d.7DB82592FD93FAF5F08921E50A7DD8C7.e.202\")>, <selenium.webdriver.remote.webelement.WebElement (session=\"381bb151ea1f651a6fe53e5efe2d90d3\", element=\"f.5B575C276EFF65DD68F01005FD595D87.d.7DB82592FD93FAF5F08921E50A7DD8C7.e.204\")>] search results. Extracting links from0:[<selenium.webdriver.remote.webelement.WebElement (session=\"381bb151ea1f651a6fe53e5efe2d90d3\", element=\"f.5B575C276EFF65DD68F01005FD595D87.d.7DB82592FD93FAF5F08921E50A7DD8C7.e.10\")>, <selenium.webdriver.remote.webelement.WebElement (session=\"381bb151ea1f651a6fe53e5efe2d90d3\", element=\"f.5B575C276EFF65DD68F01005FD595D87.d.7DB82592FD93FAF5F08921E50A7DD8C7.e.12\")>, <selenium.webdriver.remote.webelement.WebElement (session=\"381bb151ea1f651a6fe53e5efe2d90d3\", element=\"f.5B575C276EFF65DD68F01005FD595D87.d.7DB82592FD93FAF5F08921E50A7DD8C7.e.14\")>, <selenium.webdriver.remote.webelement.WebElement (session=\"381bb151ea1f651a6fe53e5efe2d90d3\", element=\"f.5B575C276EFF65DD68F01005FD595D87.d.7DB82592FD93FAF5F08921E50A7DD8C7.e.16\")>, <selenium.webdriver.remote.webelement.WebElement (session=\"381bb151ea1f651a6fe53e5efe2d90d3\", element=\"f.5B575C276EFF65DD68F01005FD595D87.d.7DB82592FD93FAF5F08921E50A7DD8C7.e.18\")>, <selenium.webdriver.remote.webelement.WebElement (session=\"381bb151ea1f651a6fe53e5efe2d90d3\", element=\"f.5B575C276EFF65DD68F01005FD595D87.d.7DB82592FD93FAF5F08921E50A7DD8C7.e.20\")>, <selenium.webdriver.remote.webelement.WebElement (session=\"381bb151ea1f651a6fe53e5efe2d90d3\", element=\"f.5B575C276EFF65DD68F01005FD595D87.d.7DB82592FD93FAF5F08921E50A7DD8C7.e.22\")>, <selenium.webdriver.remote.webelement.WebElement (session=\"381bb151ea1f651a6fe53e5efe2d90d3\", element=\"f.5B575C276EFF65DD68F01005FD595D87.d.7DB82592FD93FAF5F08921E50A7DD8C7.e.24\")>, <selenium.webdriver.remote.webelement.WebElement (session=\"381bb151ea1f651a6fe53e5efe2d90d3\", element=\"f.5B575C276EFF65DD68F01005FD595D87.d.7DB82592FD93FAF5F08921E50A7DD8C7.e.26\")>, <selenium.webdriver.remote.webelement.WebElement (session=\"381bb151ea1f651a6fe53e5efe2d90d3\", element=\"f.5B575C276EFF65DD68F01005FD595D87.d.7DB82592FD93FAF5F08921E50A7DD8C7.e.27\")>, <selenium.webdriver.remote.webelement.WebElement (session=\"381bb151ea1f651a6fe53e5efe2d90d3\", element=\"f.5B575C276EFF65DD68F01005FD595D87.d.7DB82592FD93FAF5F08921E50A7DD8C7.e.28\")>, <selenium.webdriver.remote.webelement.WebElement (session=\"381bb151ea1f651a6fe53e5efe2d90d3\", element=\"f.5B575C276EFF65DD68F01005FD595D87.d.7DB82592FD93FAF5F08921E50A7DD8C7.e.38\")>, <selenium.webdriver.remote.webelement.WebElement (session=\"381bb151ea1f651a6fe53e5efe2d90d3\", element=\"f.5B575C276EFF65DD68F01005FD595D87.d.7DB82592FD93FAF5F08921E50A7DD8C7.e.39\")>, <selenium.webdriver.remote.webelement.WebElement (session=\"381bb151ea1f651a6fe53e5efe2d90d3\", element=\"f.5B575C276EFF65DD68F01005FD595D87.d.7DB82592FD93FAF5F08921E50A7DD8C7.e.40\")>, <selenium.webdriver.remote.webelement.WebElement (session=\"381bb151ea1f651a6fe53e5efe2d90d3\", element=\"f.5B575C276EFF65DD68F01005FD595D87.d.7DB82592FD93FAF5F08921E50A7DD8C7.e.41\")>, <selenium.webdriver.remote.webelement.WebElement (session=\"381bb151ea1f651a6fe53e5efe2d90d3\", element=\"f.5B575C276EFF65DD68F01005FD595D87.d.7DB82592FD93FAF5F08921E50A7DD8C7.e.42\")>, <selenium.webdriver.remote.webelement.WebElement (session=\"381bb151ea1f651a6fe53e5efe2d90d3\", element=\"f.5B575C276EFF65DD68F01005FD595D87.d.7DB82592FD93FAF5F08921E50A7DD8C7.e.43\")>, <selenium.webdriver.remote.webelement.WebElement (session=\"381bb151ea1f651a6fe53e5efe2d90d3\", element=\"f.5B575C276EFF65DD68F01005FD595D87.d.7DB82592FD93FAF5F08921E50A7DD8C7.e.44\")>, <selenium.webdriver.remote.webelement.WebElement (session=\"381bb151ea1f651a6fe53e5efe2d90d3\", element=\"f.5B575C276EFF65DD68F01005FD595D87.d.7DB82592FD93FAF5F08921E50A7DD8C7.e.45\")>, <selenium.webdriver.remote.webelement.WebElement (session=\"381bb151ea1f651a6fe53e5efe2d90d3\", element=\"f.5B575C276EFF65DD68F01005FD595D87.d.7DB82592FD93FAF5F08921E50A7DD8C7.e.46\")>, <selenium.webdriver.remote.webelement.WebElement (session=\"381bb151ea1f651a6fe53e5efe2d90d3\", element=\"f.5B575C276EFF65DD68F01005FD595D87.d.7DB82592FD93FAF5F08921E50A7DD8C7.e.47\")>, <selenium.webdriver.remote.webelement.WebElement (session=\"381bb151ea1f651a6fe53e5efe2d90d3\", element=\"f.5B575C276EFF65DD68F01005FD595D87.d.7DB82592FD93FAF5F08921E50A7DD8C7.e.49\")>, <selenium.webdriver.remote.webelement.WebElement (session=\"381bb151ea1f651a6fe53e5efe2d90d3\", element=\"f.5B575C276EFF65DD68F01005FD595D87.d.7DB82592FD93FAF5F08921E50A7DD8C7.e.51\")>, <selenium.webdriver.remote.webelement.WebElement (session=\"381bb151ea1f651a6fe53e5efe2d90d3\", element=\"f.5B575C276EFF65DD68F01005FD595D87.d.7DB82592FD93FAF5F08921E50A7DD8C7.e.53\")>, <selenium.webdriver.remote.webelement.WebElement (session=\"381bb151ea1f651a6fe53e5efe2d90d3\", element=\"f.5B575C276EFF65DD68F01005FD595D87.d.7DB82592FD93FAF5F08921E50A7DD8C7.e.55\")>, <selenium.webdriver.remote.webelement.WebElement (session=\"381bb151ea1f651a6fe53e5efe2d90d3\", element=\"f.5B575C276EFF65DD68F01005FD595D87.d.7DB82592FD93FAF5F08921E50A7DD8C7.e.57\")>, <selenium.webdriver.remote.webelement.WebElement (session=\"381bb151ea1f651a6fe53e5efe2d90d3\", element=\"f.5B575C276EFF65DD68F01005FD595D87.d.7DB82592FD93FAF5F08921E50A7DD8C7.e.59\")>, <selenium.webdriver.remote.webelement.WebElement (session=\"381bb151ea1f651a6fe53e5efe2d90d3\", element=\"f.5B575C276EFF65DD68F01005FD595D87.d.7DB82592FD93FAF5F08921E50A7DD8C7.e.61\")>, <selenium.webdriver.remote.webelement.WebElement (session=\"381bb151ea1f651a6fe53e5efe2d90d3\", element=\"f.5B575C276EFF65DD68F01005FD595D87.d.7DB82592FD93FAF5F08921E50A7DD8C7.e.63\")>, <selenium.webdriver.remote.webelement.WebElement (session=\"381bb151ea1f651a6fe53e5efe2d90d3\", element=\"f.5B575C276EFF65DD68F01005FD595D87.d.7DB82592FD93FAF5F08921E50A7DD8C7.e.65\")>, <selenium.webdriver.remote.webelement.WebElement (session=\"381bb151ea1f651a6fe53e5efe2d90d3\", element=\"f.5B575C276EFF65DD68F01005FD595D87.d.7DB82592FD93FAF5F08921E50A7DD8C7.e.67\")>, <selenium.webdriver.remote.webelement.WebElement (session=\"381bb151ea1f651a6fe53e5efe2d90d3\", element=\"f.5B575C276EFF65DD68F01005FD595D87.d.7DB82592FD93FAF5F08921E50A7DD8C7.e.69\")>, <selenium.webdriver.remote.webelement.WebElement (session=\"381bb151ea1f651a6fe53e5efe2d90d3\", element=\"f.5B575C276EFF65DD68F01005FD595D87.d.7DB82592FD93FAF5F08921E50A7DD8C7.e.71\")>, <selenium.webdriver.remote.webelement.WebElement (session=\"381bb151ea1f651a6fe53e5efe2d90d3\", element=\"f.5B575C276EFF65DD68F01005FD595D87.d.7DB82592FD93FAF5F08921E50A7DD8C7.e.73\")>, <selenium.webdriver.remote.webelement.WebElement (session=\"381bb151ea1f651a6fe53e5efe2d90d3\", element=\"f.5B575C276EFF65DD68F01005FD595D87.d.7DB82592FD93FAF5F08921E50A7DD8C7.e.75\")>, <selenium.webdriver.remote.webelement.WebElement (session=\"381bb151ea1f651a6fe53e5efe2d90d3\", element=\"f.5B575C276EFF65DD68F01005FD595D87.d.7DB82592FD93FAF5F08921E50A7DD8C7.e.77\")>, <selenium.webdriver.remote.webelement.WebElement (session=\"381bb151ea1f651a6fe53e5efe2d90d3\", element=\"f.5B575C276EFF65DD68F01005FD595D87.d.7DB82592FD93FAF5F08921E50A7DD8C7.e.79\")>, <selenium.webdriver.remote.webelement.WebElement (session=\"381bb151ea1f651a6fe53e5efe2d90d3\", element=\"f.5B575C276EFF65DD68F01005FD595D87.d.7DB82592FD93FAF5F08921E50A7DD8C7.e.81\")>, <selenium.webdriver.remote.webelement.WebElement (session=\"381bb151ea1f651a6fe53e5efe2d90d3\", element=\"f.5B575C276EFF65DD68F01005FD595D87.d.7DB82592FD93FAF5F08921E50A7DD8C7.e.83\")>, <selenium.webdriver.remote.webelement.WebElement (session=\"381bb151ea1f651a6fe53e5efe2d90d3\", element=\"f.5B575C276EFF65DD68F01005FD595D87.d.7DB82592FD93FAF5F08921E50A7DD8C7.e.85\")>, <selenium.webdriver.remote.webelement.WebElement (session=\"381bb151ea1f651a6fe53e5efe2d90d3\", element=\"f.5B575C276EFF65DD68F01005FD595D87.d.7DB82592FD93FAF5F08921E50A7DD8C7.e.87\")>, <selenium.webdriver.remote.webelement.WebElement (session=\"381bb151ea1f651a6fe53e5efe2d90d3\", element=\"f.5B575C276EFF65DD68F01005FD595D87.d.7DB82592FD93FAF5F08921E50A7DD8C7.e.89\")>, <selenium.webdriver.remote.webelement.WebElement (session=\"381bb151ea1f651a6fe53e5efe2d90d3\", element=\"f.5B575C276EFF65DD68F01005FD595D87.d.7DB82592FD93FAF5F08921E50A7DD8C7.e.37\")>, <selenium.webdriver.remote.webelement.WebElement (session=\"381bb151ea1f651a6fe53e5efe2d90d3\", element=\"f.5B575C276EFF65DD68F01005FD595D87.d.7DB82592FD93FAF5F08921E50A7DD8C7.e.92\")>, <selenium.webdriver.remote.webelement.WebElement (session=\"381bb151ea1f651a6fe53e5efe2d90d3\", element=\"f.5B575C276EFF65DD68F01005FD595D87.d.7DB82592FD93FAF5F08921E50A7DD8C7.e.94\")>, <selenium.webdriver.remote.webelement.WebElement (session=\"381bb151ea1f651a6fe53e5efe2d90d3\", element=\"f.5B575C276EFF65DD68F01005FD595D87.d.7DB82592FD93FAF5F08921E50A7DD8C7.e.96\")>, <selenium.webdriver.remote.webelement.WebElement (session=\"381bb151ea1f651a6fe53e5efe2d90d3\", element=\"f.5B575C276EFF65DD68F01005FD595D87.d.7DB82592FD93FAF5F08921E50A7DD8C7.e.98\")>, <selenium.webdriver.remote.webelement.WebElement (session=\"381bb151ea1f651a6fe53e5efe2d90d3\", element=\"f.5B575C276EFF65DD68F01005FD595D87.d.7DB82592FD93FAF5F08921E50A7DD8C7.e.100\")>, <selenium.webdriver.remote.webelement.WebElement (session=\"381bb151ea1f651a6fe53e5efe2d90d3\", element=\"f.5B575C276EFF65DD68F01005FD595D87.d.7DB82592FD93FAF5F08921E50A7DD8C7.e.102\")>, <selenium.webdriver.remote.webelement.WebElement (session=\"381bb151ea1f651a6fe53e5efe2d90d3\", element=\"f.5B575C276EFF65DD68F01005FD595D87.d.7DB82592FD93FAF5F08921E50A7DD8C7.e.104\")>, <selenium.webdriver.remote.webelement.WebElement (session=\"381bb151ea1f651a6fe53e5efe2d90d3\", element=\"f.5B575C276EFF65DD68F01005FD595D87.d.7DB82592FD93FAF5F08921E50A7DD8C7.e.106\")>, <selenium.webdriver.remote.webelement.WebElement (session=\"381bb151ea1f651a6fe53e5efe2d90d3\", element=\"f.5B575C276EFF65DD68F01005FD595D87.d.7DB82592FD93FAF5F08921E50A7DD8C7.e.108\")>, <selenium.webdriver.remote.webelement.WebElement (session=\"381bb151ea1f651a6fe53e5efe2d90d3\", element=\"f.5B575C276EFF65DD68F01005FD595D87.d.7DB82592FD93FAF5F08921E50A7DD8C7.e.110\")>, <selenium.webdriver.remote.webelement.WebElement (session=\"381bb151ea1f651a6fe53e5efe2d90d3\", element=\"f.5B575C276EFF65DD68F01005FD595D87.d.7DB82592FD93FAF5F08921E50A7DD8C7.e.112\")>, <selenium.webdriver.remote.webelement.WebElement (session=\"381bb151ea1f651a6fe53e5efe2d90d3\", element=\"f.5B575C276EFF65DD68F01005FD595D87.d.7DB82592FD93FAF5F08921E50A7DD8C7.e.114\")>, <selenium.webdriver.remote.webelement.WebElement (session=\"381bb151ea1f651a6fe53e5efe2d90d3\", element=\"f.5B575C276EFF65DD68F01005FD595D87.d.7DB82592FD93FAF5F08921E50A7DD8C7.e.116\")>, <selenium.webdriver.remote.webelement.WebElement (session=\"381bb151ea1f651a6fe53e5efe2d90d3\", element=\"f.5B575C276EFF65DD68F01005FD595D87.d.7DB82592FD93FAF5F08921E50A7DD8C7.e.118\")>, <selenium.webdriver.remote.webelement.WebElement (session=\"381bb151ea1f651a6fe53e5efe2d90d3\", element=\"f.5B575C276EFF65DD68F01005FD595D87.d.7DB82592FD93FAF5F08921E50A7DD8C7.e.120\")>, <selenium.webdriver.remote.webelement.WebElement (session=\"381bb151ea1f651a6fe53e5efe2d90d3\", element=\"f.5B575C276EFF65DD68F01005FD595D87.d.7DB82592FD93FAF5F08921E50A7DD8C7.e.122\")>, <selenium.webdriver.remote.webelement.WebElement (session=\"381bb151ea1f651a6fe53e5efe2d90d3\", element=\"f.5B575C276EFF65DD68F01005FD595D87.d.7DB82592FD93FAF5F08921E50A7DD8C7.e.124\")>, <selenium.webdriver.remote.webelement.WebElement (session=\"381bb151ea1f651a6fe53e5efe2d90d3\", element=\"f.5B575C276EFF65DD68F01005FD595D87.d.7DB82592FD93FAF5F08921E50A7DD8C7.e.126\")>, <selenium.webdriver.remote.webelement.WebElement (session=\"381bb151ea1f651a6fe53e5efe2d90d3\", element=\"f.5B575C276EFF65DD68F01005FD595D87.d.7DB82592FD93FAF5F08921E50A7DD8C7.e.128\")>, <selenium.webdriver.remote.webelement.WebElement (session=\"381bb151ea1f651a6fe53e5efe2d90d3\", element=\"f.5B575C276EFF65DD68F01005FD595D87.d.7DB82592FD93FAF5F08921E50A7DD8C7.e.130\")>, <selenium.webdriver.remote.webelement.WebElement (session=\"381bb151ea1f651a6fe53e5efe2d90d3\", element=\"f.5B575C276EFF65DD68F01005FD595D87.d.7DB82592FD93FAF5F08921E50A7DD8C7.e.132\")>, <selenium.webdriver.remote.webelement.WebElement (session=\"381bb151ea1f651a6fe53e5efe2d90d3\", element=\"f.5B575C276EFF65DD68F01005FD595D87.d.7DB82592FD93FAF5F08921E50A7DD8C7.e.134\")>, <selenium.webdriver.remote.webelement.WebElement (session=\"381bb151ea1f651a6fe53e5efe2d90d3\", element=\"f.5B575C276EFF65DD68F01005FD595D87.d.7DB82592FD93FAF5F08921E50A7DD8C7.e.136\")>, <selenium.webdriver.remote.webelement.WebElement (session=\"381bb151ea1f651a6fe53e5efe2d90d3\", element=\"f.5B575C276EFF65DD68F01005FD595D87.d.7DB82592FD93FAF5F08921E50A7DD8C7.e.138\")>, <selenium.webdriver.remote.webelement.WebElement (session=\"381bb151ea1f651a6fe53e5efe2d90d3\", element=\"f.5B575C276EFF65DD68F01005FD595D87.d.7DB82592FD93FAF5F08921E50A7DD8C7.e.140\")>, <selenium.webdriver.remote.webelement.WebElement (session=\"381bb151ea1f651a6fe53e5efe2d90d3\", element=\"f.5B575C276EFF65DD68F01005FD595D87.d.7DB82592FD93FAF5F08921E50A7DD8C7.e.142\")>, <selenium.webdriver.remote.webelement.WebElement (session=\"381bb151ea1f651a6fe53e5efe2d90d3\", element=\"f.5B575C276EFF65DD68F01005FD595D87.d.7DB82592FD93FAF5F08921E50A7DD8C7.e.144\")>, <selenium.webdriver.remote.webelement.WebElement (session=\"381bb151ea1f651a6fe53e5efe2d90d3\", element=\"f.5B575C276EFF65DD68F01005FD595D87.d.7DB82592FD93FAF5F08921E50A7DD8C7.e.146\")>, <selenium.webdriver.remote.webelement.WebElement (session=\"381bb151ea1f651a6fe53e5efe2d90d3\", element=\"f.5B575C276EFF65DD68F01005FD595D87.d.7DB82592FD93FAF5F08921E50A7DD8C7.e.148\")>, <selenium.webdriver.remote.webelement.WebElement (session=\"381bb151ea1f651a6fe53e5efe2d90d3\", element=\"f.5B575C276EFF65DD68F01005FD595D87.d.7DB82592FD93FAF5F08921E50A7DD8C7.e.150\")>, <selenium.webdriver.remote.webelement.WebElement (session=\"381bb151ea1f651a6fe53e5efe2d90d3\", element=\"f.5B575C276EFF65DD68F01005FD595D87.d.7DB82592FD93FAF5F08921E50A7DD8C7.e.152\")>, <selenium.webdriver.remote.webelement.WebElement (session=\"381bb151ea1f651a6fe53e5efe2d90d3\", element=\"f.5B575C276EFF65DD68F01005FD595D87.d.7DB82592FD93FAF5F08921E50A7DD8C7.e.154\")>, <selenium.webdriver.remote.webelement.WebElement (session=\"381bb151ea1f651a6fe53e5efe2d90d3\", element=\"f.5B575C276EFF65DD68F01005FD595D87.d.7DB82592FD93FAF5F08921E50A7DD8C7.e.156\")>, <selenium.webdriver.remote.webelement.WebElement (session=\"381bb151ea1f651a6fe53e5efe2d90d3\", element=\"f.5B575C276EFF65DD68F01005FD595D87.d.7DB82592FD93FAF5F08921E50A7DD8C7.e.158\")>, <selenium.webdriver.remote.webelement.WebElement (session=\"381bb151ea1f651a6fe53e5efe2d90d3\", element=\"f.5B575C276EFF65DD68F01005FD595D87.d.7DB82592FD93FAF5F08921E50A7DD8C7.e.160\")>, <selenium.webdriver.remote.webelement.WebElement (session=\"381bb151ea1f651a6fe53e5efe2d90d3\", element=\"f.5B575C276EFF65DD68F01005FD595D87.d.7DB82592FD93FAF5F08921E50A7DD8C7.e.162\")>, <selenium.webdriver.remote.webelement.WebElement (session=\"381bb151ea1f651a6fe53e5efe2d90d3\", element=\"f.5B575C276EFF65DD68F01005FD595D87.d.7DB82592FD93FAF5F08921E50A7DD8C7.e.164\")>, <selenium.webdriver.remote.webelement.WebElement (session=\"381bb151ea1f651a6fe53e5efe2d90d3\", element=\"f.5B575C276EFF65DD68F01005FD595D87.d.7DB82592FD93FAF5F08921E50A7DD8C7.e.166\")>, <selenium.webdriver.remote.webelement.WebElement (session=\"381bb151ea1f651a6fe53e5efe2d90d3\", element=\"f.5B575C276EFF65DD68F01005FD595D87.d.7DB82592FD93FAF5F08921E50A7DD8C7.e.168\")>, <selenium.webdriver.remote.webelement.WebElement (session=\"381bb151ea1f651a6fe53e5efe2d90d3\", element=\"f.5B575C276EFF65DD68F01005FD595D87.d.7DB82592FD93FAF5F08921E50A7DD8C7.e.170\")>, <selenium.webdriver.remote.webelement.WebElement (session=\"381bb151ea1f651a6fe53e5efe2d90d3\", element=\"f.5B575C276EFF65DD68F01005FD595D87.d.7DB82592FD93FAF5F08921E50A7DD8C7.e.172\")>, <selenium.webdriver.remote.webelement.WebElement (session=\"381bb151ea1f651a6fe53e5efe2d90d3\", element=\"f.5B575C276EFF65DD68F01005FD595D87.d.7DB82592FD93FAF5F08921E50A7DD8C7.e.174\")>, <selenium.webdriver.remote.webelement.WebElement (session=\"381bb151ea1f651a6fe53e5efe2d90d3\", element=\"f.5B575C276EFF65DD68F01005FD595D87.d.7DB82592FD93FAF5F08921E50A7DD8C7.e.176\")>, <selenium.webdriver.remote.webelement.WebElement (session=\"381bb151ea1f651a6fe53e5efe2d90d3\", element=\"f.5B575C276EFF65DD68F01005FD595D87.d.7DB82592FD93FAF5F08921E50A7DD8C7.e.178\")>, <selenium.webdriver.remote.webelement.WebElement (session=\"381bb151ea1f651a6fe53e5efe2d90d3\", element=\"f.5B575C276EFF65DD68F01005FD595D87.d.7DB82592FD93FAF5F08921E50A7DD8C7.e.180\")>, <selenium.webdriver.remote.webelement.WebElement (session=\"381bb151ea1f651a6fe53e5efe2d90d3\", element=\"f.5B575C276EFF65DD68F01005FD595D87.d.7DB82592FD93FAF5F08921E50A7DD8C7.e.182\")>, <selenium.webdriver.remote.webelement.WebElement (session=\"381bb151ea1f651a6fe53e5efe2d90d3\", element=\"f.5B575C276EFF65DD68F01005FD595D87.d.7DB82592FD93FAF5F08921E50A7DD8C7.e.184\")>, <selenium.webdriver.remote.webelement.WebElement (session=\"381bb151ea1f651a6fe53e5efe2d90d3\", element=\"f.5B575C276EFF65DD68F01005FD595D87.d.7DB82592FD93FAF5F08921E50A7DD8C7.e.186\")>, <selenium.webdriver.remote.webelement.WebElement (session=\"381bb151ea1f651a6fe53e5efe2d90d3\", element=\"f.5B575C276EFF65DD68F01005FD595D87.d.7DB82592FD93FAF5F08921E50A7DD8C7.e.188\")>, <selenium.webdriver.remote.webelement.WebElement (session=\"381bb151ea1f651a6fe53e5efe2d90d3\", element=\"f.5B575C276EFF65DD68F01005FD595D87.d.7DB82592FD93FAF5F08921E50A7DD8C7.e.190\")>, <selenium.webdriver.remote.webelement.WebElement (session=\"381bb151ea1f651a6fe53e5efe2d90d3\", element=\"f.5B575C276EFF65DD68F01005FD595D87.d.7DB82592FD93FAF5F08921E50A7DD8C7.e.192\")>, <selenium.webdriver.remote.webelement.WebElement (session=\"381bb151ea1f651a6fe53e5efe2d90d3\", element=\"f.5B575C276EFF65DD68F01005FD595D87.d.7DB82592FD93FAF5F08921E50A7DD8C7.e.194\")>, <selenium.webdriver.remote.webelement.WebElement (session=\"381bb151ea1f651a6fe53e5efe2d90d3\", element=\"f.5B575C276EFF65DD68F01005FD595D87.d.7DB82592FD93FAF5F08921E50A7DD8C7.e.196\")>, <selenium.webdriver.remote.webelement.WebElement (session=\"381bb151ea1f651a6fe53e5efe2d90d3\", element=\"f.5B575C276EFF65DD68F01005FD595D87.d.7DB82592FD93FAF5F08921E50A7DD8C7.e.198\")>, <selenium.webdriver.remote.webelement.WebElement (session=\"381bb151ea1f651a6fe53e5efe2d90d3\", element=\"f.5B575C276EFF65DD68F01005FD595D87.d.7DB82592FD93FAF5F08921E50A7DD8C7.e.200\")>, <selenium.webdriver.remote.webelement.WebElement (session=\"381bb151ea1f651a6fe53e5efe2d90d3\", element=\"f.5B575C276EFF65DD68F01005FD595D87.d.7DB82592FD93FAF5F08921E50A7DD8C7.e.202\")>, <selenium.webdriver.remote.webelement.WebElement (session=\"381bb151ea1f651a6fe53e5efe2d90d3\", element=\"f.5B575C276EFF65DD68F01005FD595D87.d.7DB82592FD93FAF5F08921E50A7DD8C7.e.204\")>]\n",
      "{'https://i.natgeofe.com/n/548467d8-c5f1-4551-9f58-6817a8d2c45e/NationalGeographic_2572187_square.jpg'}\n",
      "1\n",
      "{'https://cdn.britannica.com/70/234870-050-D4D024BB/Orange-colored-cat-yawns-displaying-teeth.jpg', 'https://i.natgeofe.com/n/548467d8-c5f1-4551-9f58-6817a8d2c45e/NationalGeographic_2572187_square.jpg'}\n",
      "2\n",
      "{'https://upload.wikimedia.org/wikipedia/commons/thumb/1/15/Cat_August_2010-4.jpg/1200px-Cat_August_2010-4.jpg', 'https://cdn.britannica.com/70/234870-050-D4D024BB/Orange-colored-cat-yawns-displaying-teeth.jpg', 'https://i.natgeofe.com/n/548467d8-c5f1-4551-9f58-6817a8d2c45e/NationalGeographic_2572187_square.jpg'}\n",
      "3\n",
      "{'https://upload.wikimedia.org/wikipedia/commons/thumb/1/15/Cat_August_2010-4.jpg/1200px-Cat_August_2010-4.jpg', 'https://cdn.britannica.com/70/234870-050-D4D024BB/Orange-colored-cat-yawns-displaying-teeth.jpg', 'https://cdn.britannica.com/34/235834-050-C5843610/two-different-breeds-of-cats-side-by-side-outdoors-in-the-garden.jpg', 'https://i.natgeofe.com/n/548467d8-c5f1-4551-9f58-6817a8d2c45e/NationalGeographic_2572187_square.jpg'}\n",
      "4\n",
      "{'https://upload.wikimedia.org/wikipedia/commons/thumb/1/15/Cat_August_2010-4.jpg/1200px-Cat_August_2010-4.jpg', 'https://cdn.britannica.com/34/235834-050-C5843610/two-different-breeds-of-cats-side-by-side-outdoors-in-the-garden.jpg', 'https://cdn.britannica.com/70/234870-050-D4D024BB/Orange-colored-cat-yawns-displaying-teeth.jpg', 'https://media.4-paws.org/5/b/4/b/5b4b5a91dd9443fa1785ee7fca66850e06dcc7f9/VIER%20PFOTEN_2019-12-13_209-2890x2000-1920x1329.jpg', 'https://i.natgeofe.com/n/548467d8-c5f1-4551-9f58-6817a8d2c45e/NationalGeographic_2572187_square.jpg'}\n",
      "5\n",
      "totalLinks {'https://upload.wikimedia.org/wikipedia/commons/thumb/1/15/Cat_August_2010-4.jpg/1200px-Cat_August_2010-4.jpg', 'https://cdn.britannica.com/34/235834-050-C5843610/two-different-breeds-of-cats-side-by-side-outdoors-in-the-garden.jpg', 'https://cdn.britannica.com/70/234870-050-D4D024BB/Orange-colored-cat-yawns-displaying-teeth.jpg', 'https://media.4-paws.org/5/b/4/b/5b4b5a91dd9443fa1785ee7fca66850e06dcc7f9/VIER%20PFOTEN_2019-12-13_209-2890x2000-1920x1329.jpg', 'https://i.natgeofe.com/n/548467d8-c5f1-4551-9f58-6817a8d2c45e/NationalGeographic_2572187_square.jpg'}\n",
      "SAVED - https://upload.wikimedia.org/wikipedia/commons/thumb/1/15/Cat_August_2010-4.jpg/1200px-Cat_August_2010-4.jpg - AT: cat\\                                                                                                                                                     0.jpg\n",
      "SAVED - https://cdn.britannica.com/34/235834-050-C5843610/two-different-breeds-of-cats-side-by-side-outdoors-in-the-garden.jpg - AT: cat\\                                                                                                                                                     1.jpg\n",
      "SAVED - https://cdn.britannica.com/70/234870-050-D4D024BB/Orange-colored-cat-yawns-displaying-teeth.jpg - AT: cat\\                                                                                                                                                     2.jpg\n",
      "SAVED - https://media.4-paws.org/5/b/4/b/5b4b5a91dd9443fa1785ee7fca66850e06dcc7f9/VIER%20PFOTEN_2019-12-13_209-2890x2000-1920x1329.jpg - AT: cat\\                                                                                                                                                     3.jpg\n",
      "SAVED - https://i.natgeofe.com/n/548467d8-c5f1-4551-9f58-6817a8d2c45e/NationalGeographic_2572187_square.jpg - AT: cat\\                                                                                                                                                     4.jpg\n"
     ]
    }
   ],
   "source": [
    "!pip install selenium\n",
    "import sys\n",
    "sys.path.insert(0,'/usr/lib/chromium-browser/chromedriver')\n",
    "\n",
    "\n",
    "from selenium import webdriver\n",
    "from selenium.webdriver.common.by import By\n",
    "import time\n",
    "import requests\n",
    "import shutil\n",
    "import os\n",
    "import getpass\n",
    "import urllib.request\n",
    "import io\n",
    "import time\n",
    "from PIL import Image\n",
    "user = getpass.getuser()\n",
    "chrome_options = webdriver.ChromeOptions()\n",
    "chrome_options.add_argument('--headless')\n",
    "chrome_options.add_argument('--no-sandbox')\n",
    "chrome_options.add_argument('--disable-dev-shm-usage')\n",
    "driver = webdriver.Chrome()\n",
    "def scroll_to_end(driver):\n",
    "    driver.execute_script(\"window.scrollTo(0, document.body.scrollHeight);\")\n",
    "    time.sleep(5)#sleep_between_interactions\n",
    "\n",
    "    \n",
    "def getImageUrls(name,totalImgs,driver):\n",
    "    search_url = \"https://www.google.com/search?q=cat&tbm=isch&ved=2ahUKEwjNn_Gn7YyFAxU3yDgGHQYQCesQ2-cCegQIABAA&oq=cat&gs_lp=EgNpbWciA2NhdDINEAAYgAQYigUYQxixAzIIEAAYgAQYsQMyDhAAGIAEGIoFGLEDGIMBMggQABiABBixAzILEAAYgAQYsQMYgwEyCBAAGIAEGLEDMggQABiABBixAzIFEAAYgAQyCBAAGIAEGLEDMggQABiABBixA0iqGVCADlilF3AAeACQAQCYAVegAc0CqgEBNLgBA8gBAPgBAYoCC2d3cy13aXotaW1nwgIKEAAYgAQYigUYQ4gGAQ&sclient=img&ei=WBYAZs2TMLeQ4-EPhqCk2A4&bih=568&biw=1251&hl=en\"\n",
    "    driver.get(search_url)\n",
    "    img_urls = set()\n",
    "    img_count = 0\n",
    "    results_start = 0\n",
    "    \n",
    "    while(img_count+results_start<totalImgs): #Extract actual images now\n",
    "        scroll_to_end(driver)\n",
    "        totalResults = driver.find_elements(By.CLASS_NAME,\"Q4LuWd\")       \n",
    "        print('total results:', len(totalResults))\n",
    "        print(f\"Found: {totalResults} search results. Extracting links from{results_start}:{totalResults}\")\n",
    "        for img in totalResults[results_start:totalImgs]:\n",
    "            img.click()\n",
    "            time.sleep(5)\n",
    "            image = driver.find_element(By.CLASS_NAME,'iPVvYb')\n",
    "            img_urls.add(image.get_attribute('src'))\n",
    "            print(img_urls)\n",
    "            img_count=len(img_urls)\n",
    "            print(img_count)\n",
    "                    \n",
    "    return img_urls\n",
    "\n",
    "def downloadImages(folder_path,file_name,url):\n",
    "    try:\n",
    "        image_content = requests.get(url).content\n",
    "    except Exception as e:\n",
    "        print(f\"ERROR - COULD NOT DOWNLOAD {url} - {e}\")\n",
    "    try:\n",
    "        image_file = io.BytesIO(image_content)\n",
    "        image = Image.open(image_file).convert('RGB')\n",
    "        file_path = os.path.join(folder_path, file_name)\n",
    "        with open(file_path, 'wb') as f:\n",
    "            image.save(f, \"JPEG\", quality=85)\n",
    "        print(f\"SAVED - {url} - AT: {file_path}\")\n",
    "    except Exception as e:\n",
    "        print(f\"ERROR - COULD NOT SAVE {url} - {e}\")\n",
    "        \n",
    "def saveInDestFolder(searchNames,destDir,totalImgs,driver):\n",
    "    for name in list(searchNames):\n",
    "        path=os.path.join(destDir,name)\n",
    "        if not os.path.isdir(path):\n",
    "            os.mkdir(path)\n",
    "        print('Current Path',path)\n",
    "        totalLinks=getImageUrls(name,totalImgs,driver)\n",
    "        print('totalLinks',totalLinks)\n",
    "        \n",
    "    if totalLinks is None:\n",
    "        print('images not found for :',name)\n",
    "        \n",
    "    else:\n",
    "        for i, link in enumerate(totalLinks):\n",
    "            file_name = f\"{i:150}.jpg\"\n",
    "            downloadImages(path,file_name,link)\n",
    "            \n",
    "searchNames=['cat']\n",
    "destDir=f''\n",
    "totalImgs=5\n",
    "\n",
    "saveInDestFolder(searchNames,destDir,totalImgs,driver)"
   ]
  },
  {
   "cell_type": "code",
   "execution_count": 93,
   "id": "ff05c028-ae9c-4af4-b95b-fca3fd7fbfd3",
   "metadata": {},
   "outputs": [
    {
     "name": "stdout",
     "output_type": "stream",
     "text": [
      "<!DOCTYPE html><html lang=\"en-US\" xmlns:og=\"http://opengraphprotocol.org/schema/\" xmlns:fb=\"http://www.facebook.com/2008/fbml\"><head><meta charSet=\"utf-8\"/><meta name=\"viewport\" content=\"width=device-width\"/><script>if(typeof uet === 'function'){ uet('bb', 'LoadTitle', {wb: 1}); }</script><script>window.addEventListener('load', (event) => {\n",
      "        if (typeof window.csa !== 'undefined' && typeof window.csa === 'function') {\n",
      "            var csaLatencyPlugin = window.csa('Content', {\n",
      "             \n"
     ]
    }
   ],
   "source": [
    "from requests import get\n",
    "url = 'https://www.imdb.com/search/title/?release_date=2017-01-01,2017-12-31&sort=num_votes,desc&page=1'\n",
    "agent = {\"User-Agent\": \"Mozilla/5.0 (Windows NT 10.0; Win64; x64) AppleWebKit/537.36 (KHTML, like Gecko) Chrome/122.0.0.0 Safari/537.36 Edg/122.0.0.0\"}\n",
    "response = get(url,headers=agent)\n",
    "print(response.text[:500])"
   ]
  },
  {
   "cell_type": "code",
   "execution_count": 33,
   "id": "e2288d3c-f07b-42bf-be3b-e19f48e3fba7",
   "metadata": {},
   "outputs": [
    {
     "data": {
      "text/plain": [
       "bs4.BeautifulSoup"
      ]
     },
     "execution_count": 33,
     "metadata": {},
     "output_type": "execute_result"
    }
   ],
   "source": [
    "from bs4 import BeautifulSoup\n",
    "html_soup = BeautifulSoup(response.text, 'html.parser')\n",
    "headers = {'Accept-Language': 'en-US,en;q=0.8'}\n",
    "type(html_soup)"
   ]
  },
  {
   "cell_type": "code",
   "execution_count": 52,
   "id": "64552e44-fa64-4c9f-b7b9-4d91ffca8c88",
   "metadata": {},
   "outputs": [
    {
     "name": "stdout",
     "output_type": "stream",
     "text": [
      "<class 'bs4.element.ResultSet'>\n",
      "50\n"
     ]
    }
   ],
   "source": [
    "movie_containers = html_soup.find_all('div', class_ = 'ipc-metadata-list-summary-item__c')\n",
    "print(type(movie_containers))\n",
    "print(len(movie_containers))"
   ]
  },
  {
   "cell_type": "code",
   "execution_count": 46,
   "id": "b787132f-f7ce-4b11-a90c-c1b7b0d3700a",
   "metadata": {},
   "outputs": [
    {
     "data": {
      "text/plain": [
       "<div class=\"ipc-metadata-list-summary-item__c\"><div class=\"ipc-metadata-list-summary-item__tc\"><span aria-disabled=\"false\" class=\"ipc-metadata-list-summary-item__t\"></span><div class=\"sc-ab6fa25a-3 bVYfLY dli-parent\"><div class=\"sc-ab6fa25a-2 gOsifL\"><div class=\"sc-e5a25b0f-0 jQjDIb dli-poster-container\"><div class=\"ipc-poster ipc-poster--base ipc-poster--dynamic-width ipc-sub-grid-item ipc-sub-grid-item--span-2\" role=\"group\"><div aria-label=\"add to watchlist\" class=\"ipc-watchlist-ribbon ipc-focusable ipc-watchlist-ribbon--s ipc-watchlist-ribbon--base ipc-watchlist-ribbon--loading ipc-watchlist-ribbon--onImage ipc-poster__watchlist-ribbon\" role=\"button\" tabindex=\"0\"><svg class=\"ipc-watchlist-ribbon__bg\" height=\"34px\" role=\"presentation\" viewbox=\"0 0 24 34\" width=\"24px\" xmlns=\"http://www.w3.org/2000/svg\"><polygon class=\"ipc-watchlist-ribbon__bg-ribbon\" fill=\"#000000\" points=\"24 0 0 0 0 32 12.2436611 26.2926049 24 31.7728343\"></polygon><polygon class=\"ipc-watchlist-ribbon__bg-hover\" points=\"24 0 0 0 0 32 12.2436611 26.2926049 24 31.7728343\"></polygon><polygon class=\"ipc-watchlist-ribbon__bg-shadow\" points=\"24 31.7728343 24 33.7728343 12.2436611 28.2926049 0 34 0 32 12.2436611 26.2926049\"></polygon></svg><div class=\"ipc-watchlist-ribbon__icon\" role=\"presentation\"><svg class=\"ipc-loader ipc-loader--circle ipc-watchlist-ribbon__loader\" data-testid=\"watchlist-ribbon-loader\" height=\"48px\" role=\"presentation\" version=\"1.1\" viewbox=\"0 0 48 48\" width=\"48px\" xmlns=\"http://www.w3.org/2000/svg\"><g class=\"ipc-loader__container\" fill=\"currentColor\"><circle class=\"ipc-loader__circle ipc-loader__circle--one\" cx=\"24\" cy=\"9\" r=\"4\"></circle><circle class=\"ipc-loader__circle ipc-loader__circle--two\" cx=\"35\" cy=\"14\" r=\"4\"></circle><circle class=\"ipc-loader__circle ipc-loader__circle--three\" cx=\"39\" cy=\"24\" r=\"4\"></circle><circle class=\"ipc-loader__circle ipc-loader__circle--four\" cx=\"35\" cy=\"34\" r=\"4\"></circle><circle class=\"ipc-loader__circle ipc-loader__circle--five\" cx=\"24\" cy=\"39\" r=\"4\"></circle><circle class=\"ipc-loader__circle ipc-loader__circle--six\" cx=\"13\" cy=\"34\" r=\"4\"></circle><circle class=\"ipc-loader__circle ipc-loader__circle--seven\" cx=\"9\" cy=\"24\" r=\"4\"></circle><circle class=\"ipc-loader__circle ipc-loader__circle--eight\" cx=\"13\" cy=\"14\" r=\"4\"></circle></g></svg></div></div><div class=\"ipc-media ipc-media--poster-27x40 ipc-image-media-ratio--poster-27x40 ipc-media--base ipc-media--poster-m ipc-poster__poster-image ipc-media__img\" style=\"width:100%\"><img alt=\"Hugh Jackman in Logan (2017)\" class=\"ipc-image\" loading=\"lazy\" sizes=\"50vw, (min-width: 480px) 34vw, (min-width: 600px) 26vw, (min-width: 1024px) 16vw, (min-width: 1280px) 16vw\" src=\"https://m.media-amazon.com/images/M/MV5BYzc5MTU4N2EtYTkyMi00NjdhLTg3NWEtMTY4OTEyMzJhZTAzXkEyXkFqcGdeQXVyNjc1NTYyMjg@._V1_QL75_UX140_CR0,1,140,207_.jpg\" srcset=\"https://m.media-amazon.com/images/M/MV5BYzc5MTU4N2EtYTkyMi00NjdhLTg3NWEtMTY4OTEyMzJhZTAzXkEyXkFqcGdeQXVyNjc1NTYyMjg@._V1_QL75_UX140_CR0,1,140,207_.jpg 140w, https://m.media-amazon.com/images/M/MV5BYzc5MTU4N2EtYTkyMi00NjdhLTg3NWEtMTY4OTEyMzJhZTAzXkEyXkFqcGdeQXVyNjc1NTYyMjg@._V1_QL75_UX210_CR0,2,210,311_.jpg 210w, https://m.media-amazon.com/images/M/MV5BYzc5MTU4N2EtYTkyMi00NjdhLTg3NWEtMTY4OTEyMzJhZTAzXkEyXkFqcGdeQXVyNjc1NTYyMjg@._V1_QL75_UX280_CR0,3,280,414_.jpg 280w\" width=\"140\"/></div><a aria-label=\"View title page for Logan\" class=\"ipc-lockup-overlay ipc-focusable\" href=\"/title/tt3315342/?ref_=sr_i_1\"><div class=\"ipc-lockup-overlay__screen\"></div></a></div></div><div class=\"sc-b0691f29-0 jbYPfh\"><div class=\"ipc-title ipc-title--base ipc-title--title ipc-title-link-no-icon ipc-title--on-textPrimary sc-b0691f29-9 klOwFB dli-title\"><a class=\"ipc-title-link-wrapper\" href=\"/title/tt3315342/?ref_=sr_t_1\" tabindex=\"0\"><h3 class=\"ipc-title__text\">1. Logan</h3></a></div><div class=\"sc-b0691f29-7 hrgukm dli-title-metadata\"><span class=\"sc-b0691f29-8 ilsLEX dli-title-metadata-item\">2017</span><span class=\"sc-b0691f29-8 ilsLEX dli-title-metadata-item\">2h 17m</span><span class=\"sc-b0691f29-8 ilsLEX dli-title-metadata-item\">R-16</span></div><span class=\"sc-b0691f29-1 grHDBY\"><div class=\"sc-e2dbc1a3-0 ajrIH sc-b0691f29-2 bhhtyj dli-ratings-container\" data-testid=\"ratingGroup--container\"><span aria-label=\"IMDb rating: 8.1\" class=\"ipc-rating-star ipc-rating-star--base ipc-rating-star--imdb ratingGroup--imdb-rating\" data-testid=\"ratingGroup--imdb-rating\"><svg class=\"ipc-icon ipc-icon--star-inline\" fill=\"currentColor\" height=\"24\" role=\"presentation\" viewbox=\"0 0 24 24\" width=\"24\" xmlns=\"http://www.w3.org/2000/svg\"><path d=\"M12 20.1l5.82 3.682c1.066.675 2.37-.322 2.09-1.584l-1.543-6.926 5.146-4.667c.94-.85.435-2.465-.799-2.567l-6.773-.602L13.29.89a1.38 1.38 0 0 0-2.581 0l-2.65 6.53-6.774.602C.052 8.126-.453 9.74.486 10.59l5.147 4.666-1.542 6.926c-.28 1.262 1.023 2.26 2.09 1.585L12 20.099z\"></path></svg>8.1<span class=\"ipc-rating-star--voteCount\"> (<!-- -->827K<!-- -->)</span></span><button aria-label=\"Rate Logan\" class=\"ipc-rate-button sc-e2dbc1a3-1 jboOQc ratingGroup--user-rating ipc-rate-button--unrated ipc-rate-button--base\" data-testid=\"rate-button\"><span class=\"ipc-rating-star ipc-rating-star--base ipc-rating-star--rate\"><svg class=\"ipc-icon ipc-icon--star-border-inline\" fill=\"currentColor\" height=\"24\" role=\"presentation\" viewbox=\"0 0 24 24\" width=\"24\" xmlns=\"http://www.w3.org/2000/svg\"><path d=\"M22.724 8.217l-6.786-.587-2.65-6.22c-.477-1.133-2.103-1.133-2.58 0l-2.65 6.234-6.772.573c-1.234.098-1.739 1.636-.8 2.446l5.146 4.446-1.542 6.598c-.28 1.202 1.023 2.153 2.09 1.51l5.818-3.495 5.819 3.509c1.065.643 2.37-.308 2.089-1.51l-1.542-6.612 5.145-4.446c.94-.81.45-2.348-.785-2.446zm-10.726 8.89l-5.272 3.174 1.402-5.983-4.655-4.026 6.141-.531 2.384-5.634 2.398 5.648 6.14.531-4.654 4.026 1.402 5.983-5.286-3.187z\"></path></svg><span class=\"ipc-rating-star--rate\">Rate</span></span></button></div><span class=\"sc-b0691f29-11 TmkKM\"><span class=\"sc-b0901df4-0 bcQdDJ metacritic-score-box\" style=\"background-color:#54A72A\">77</span><span class=\"metacritic-score-label\">Metascore</span></span></span></div><div class=\"sc-ab6fa25a-4 ggHbBR dli-post-element\"><button aria-disabled=\"false\" aria-label=\"See more information about Logan\" class=\"ipc-icon-button dli-info-icon ipc-icon-button--base ipc-icon-button--onAccent2\" role=\"button\" tabindex=\"0\" title=\"See more information about Logan\"><svg class=\"ipc-icon ipc-icon--info\" fill=\"currentColor\" height=\"24\" role=\"presentation\" viewbox=\"0 0 24 24\" width=\"24\" xmlns=\"http://www.w3.org/2000/svg\"><path d=\"M0 0h24v24H0V0z\" fill=\"none\"></path><path d=\"M11 7h2v2h-2zm0 4h2v6h-2zm1-9C6.48 2 2 6.48 2 12s4.48 10 10 10 10-4.48 10-10S17.52 2 12 2zm0 18c-4.41 0-8-3.59-8-8s3.59-8 8-8 8 3.59 8 8-3.59 8-8 8z\"></path></svg></button></div></div><div class=\"sc-ab6fa25a-1 bBwFsP\"><div class=\"ipc-html-content ipc-html-content--base sc-ab6fa25a-0 bhexuD dli-plot-container\" role=\"presentation\"><div class=\"ipc-html-content-inner-div\">In a future where mutants are nearly extinct, an elderly and weary Logan leads a quiet life. But when Laura, a mutant child pursued by scientists, comes to him for help, he must get her to safety.</div></div></div></div></div></div>"
      ]
     },
     "execution_count": 46,
     "metadata": {},
     "output_type": "execute_result"
    }
   ],
   "source": [
    "first_movie = movie_containers[0]\n",
    "first_movie"
   ]
  },
  {
   "cell_type": "code",
   "execution_count": 128,
   "id": "9f85e593-3992-4a18-90fe-1d1580061df1",
   "metadata": {},
   "outputs": [
    {
     "data": {
      "text/plain": [
       "<div class=\"ipc-metadata-list-summary-item__tc\"><span aria-disabled=\"false\" class=\"ipc-metadata-list-summary-item__t\"></span><div class=\"sc-ab6fa25a-3 bVYfLY dli-parent\"><div class=\"sc-ab6fa25a-2 gOsifL\"><div class=\"sc-e5a25b0f-0 jQjDIb dli-poster-container\"><div class=\"ipc-poster ipc-poster--base ipc-poster--dynamic-width ipc-sub-grid-item ipc-sub-grid-item--span-2\" role=\"group\"><div aria-label=\"add to watchlist\" class=\"ipc-watchlist-ribbon ipc-focusable ipc-watchlist-ribbon--s ipc-watchlist-ribbon--base ipc-watchlist-ribbon--loading ipc-watchlist-ribbon--onImage ipc-poster__watchlist-ribbon\" role=\"button\" tabindex=\"0\"><svg class=\"ipc-watchlist-ribbon__bg\" height=\"34px\" role=\"presentation\" viewbox=\"0 0 24 34\" width=\"24px\" xmlns=\"http://www.w3.org/2000/svg\"><polygon class=\"ipc-watchlist-ribbon__bg-ribbon\" fill=\"#000000\" points=\"24 0 0 0 0 32 12.2436611 26.2926049 24 31.7728343\"></polygon><polygon class=\"ipc-watchlist-ribbon__bg-hover\" points=\"24 0 0 0 0 32 12.2436611 26.2926049 24 31.7728343\"></polygon><polygon class=\"ipc-watchlist-ribbon__bg-shadow\" points=\"24 31.7728343 24 33.7728343 12.2436611 28.2926049 0 34 0 32 12.2436611 26.2926049\"></polygon></svg><div class=\"ipc-watchlist-ribbon__icon\" role=\"presentation\"><svg class=\"ipc-loader ipc-loader--circle ipc-watchlist-ribbon__loader\" data-testid=\"watchlist-ribbon-loader\" height=\"48px\" role=\"presentation\" version=\"1.1\" viewbox=\"0 0 48 48\" width=\"48px\" xmlns=\"http://www.w3.org/2000/svg\"><g class=\"ipc-loader__container\" fill=\"currentColor\"><circle class=\"ipc-loader__circle ipc-loader__circle--one\" cx=\"24\" cy=\"9\" r=\"4\"></circle><circle class=\"ipc-loader__circle ipc-loader__circle--two\" cx=\"35\" cy=\"14\" r=\"4\"></circle><circle class=\"ipc-loader__circle ipc-loader__circle--three\" cx=\"39\" cy=\"24\" r=\"4\"></circle><circle class=\"ipc-loader__circle ipc-loader__circle--four\" cx=\"35\" cy=\"34\" r=\"4\"></circle><circle class=\"ipc-loader__circle ipc-loader__circle--five\" cx=\"24\" cy=\"39\" r=\"4\"></circle><circle class=\"ipc-loader__circle ipc-loader__circle--six\" cx=\"13\" cy=\"34\" r=\"4\"></circle><circle class=\"ipc-loader__circle ipc-loader__circle--seven\" cx=\"9\" cy=\"24\" r=\"4\"></circle><circle class=\"ipc-loader__circle ipc-loader__circle--eight\" cx=\"13\" cy=\"14\" r=\"4\"></circle></g></svg></div></div><div class=\"ipc-media ipc-media--poster-27x40 ipc-image-media-ratio--poster-27x40 ipc-media--base ipc-media--poster-m ipc-poster__poster-image ipc-media__img\" style=\"width:100%\"><img alt=\"Hugh Jackman in Logan (2017)\" class=\"ipc-image\" loading=\"lazy\" sizes=\"50vw, (min-width: 480px) 34vw, (min-width: 600px) 26vw, (min-width: 1024px) 16vw, (min-width: 1280px) 16vw\" src=\"https://m.media-amazon.com/images/M/MV5BYzc5MTU4N2EtYTkyMi00NjdhLTg3NWEtMTY4OTEyMzJhZTAzXkEyXkFqcGdeQXVyNjc1NTYyMjg@._V1_QL75_UX140_CR0,1,140,207_.jpg\" srcset=\"https://m.media-amazon.com/images/M/MV5BYzc5MTU4N2EtYTkyMi00NjdhLTg3NWEtMTY4OTEyMzJhZTAzXkEyXkFqcGdeQXVyNjc1NTYyMjg@._V1_QL75_UX140_CR0,1,140,207_.jpg 140w, https://m.media-amazon.com/images/M/MV5BYzc5MTU4N2EtYTkyMi00NjdhLTg3NWEtMTY4OTEyMzJhZTAzXkEyXkFqcGdeQXVyNjc1NTYyMjg@._V1_QL75_UX210_CR0,2,210,311_.jpg 210w, https://m.media-amazon.com/images/M/MV5BYzc5MTU4N2EtYTkyMi00NjdhLTg3NWEtMTY4OTEyMzJhZTAzXkEyXkFqcGdeQXVyNjc1NTYyMjg@._V1_QL75_UX280_CR0,3,280,414_.jpg 280w\" width=\"140\"/></div><a aria-label=\"View title page for Logan\" class=\"ipc-lockup-overlay ipc-focusable\" href=\"/title/tt3315342/?ref_=sr_i_1\"><div class=\"ipc-lockup-overlay__screen\"></div></a></div></div><div class=\"sc-b0691f29-0 jbYPfh\"><div class=\"ipc-title ipc-title--base ipc-title--title ipc-title-link-no-icon ipc-title--on-textPrimary sc-b0691f29-9 klOwFB dli-title\"><a class=\"ipc-title-link-wrapper\" href=\"/title/tt3315342/?ref_=sr_t_1\" tabindex=\"0\"><h3 class=\"ipc-title__text\">1. Logan</h3></a></div><div class=\"sc-b0691f29-7 hrgukm dli-title-metadata\"><span class=\"sc-b0691f29-8 ilsLEX dli-title-metadata-item\">2017</span><span class=\"sc-b0691f29-8 ilsLEX dli-title-metadata-item\">2h 17m</span><span class=\"sc-b0691f29-8 ilsLEX dli-title-metadata-item\">R-16</span></div><span class=\"sc-b0691f29-1 grHDBY\"><div class=\"sc-e2dbc1a3-0 ajrIH sc-b0691f29-2 bhhtyj dli-ratings-container\" data-testid=\"ratingGroup--container\"><span aria-label=\"IMDb rating: 8.1\" class=\"ipc-rating-star ipc-rating-star--base ipc-rating-star--imdb ratingGroup--imdb-rating\" data-testid=\"ratingGroup--imdb-rating\"><svg class=\"ipc-icon ipc-icon--star-inline\" fill=\"currentColor\" height=\"24\" role=\"presentation\" viewbox=\"0 0 24 24\" width=\"24\" xmlns=\"http://www.w3.org/2000/svg\"><path d=\"M12 20.1l5.82 3.682c1.066.675 2.37-.322 2.09-1.584l-1.543-6.926 5.146-4.667c.94-.85.435-2.465-.799-2.567l-6.773-.602L13.29.89a1.38 1.38 0 0 0-2.581 0l-2.65 6.53-6.774.602C.052 8.126-.453 9.74.486 10.59l5.147 4.666-1.542 6.926c-.28 1.262 1.023 2.26 2.09 1.585L12 20.099z\"></path></svg>8.1<span class=\"ipc-rating-star--voteCount\"> (<!-- -->827K<!-- -->)</span></span><button aria-label=\"Rate Logan\" class=\"ipc-rate-button sc-e2dbc1a3-1 jboOQc ratingGroup--user-rating ipc-rate-button--unrated ipc-rate-button--base\" data-testid=\"rate-button\"><span class=\"ipc-rating-star ipc-rating-star--base ipc-rating-star--rate\"><svg class=\"ipc-icon ipc-icon--star-border-inline\" fill=\"currentColor\" height=\"24\" role=\"presentation\" viewbox=\"0 0 24 24\" width=\"24\" xmlns=\"http://www.w3.org/2000/svg\"><path d=\"M22.724 8.217l-6.786-.587-2.65-6.22c-.477-1.133-2.103-1.133-2.58 0l-2.65 6.234-6.772.573c-1.234.098-1.739 1.636-.8 2.446l5.146 4.446-1.542 6.598c-.28 1.202 1.023 2.153 2.09 1.51l5.818-3.495 5.819 3.509c1.065.643 2.37-.308 2.089-1.51l-1.542-6.612 5.145-4.446c.94-.81.45-2.348-.785-2.446zm-10.726 8.89l-5.272 3.174 1.402-5.983-4.655-4.026 6.141-.531 2.384-5.634 2.398 5.648 6.14.531-4.654 4.026 1.402 5.983-5.286-3.187z\"></path></svg><span class=\"ipc-rating-star--rate\">Rate</span></span></button></div><span class=\"sc-b0691f29-11 TmkKM\"><span class=\"sc-b0901df4-0 bcQdDJ metacritic-score-box\" style=\"background-color:#54A72A\">77</span><span class=\"metacritic-score-label\">Metascore</span></span></span></div><div class=\"sc-ab6fa25a-4 ggHbBR dli-post-element\"><button aria-disabled=\"false\" aria-label=\"See more information about Logan\" class=\"ipc-icon-button dli-info-icon ipc-icon-button--base ipc-icon-button--onAccent2\" role=\"button\" tabindex=\"0\" title=\"See more information about Logan\"><svg class=\"ipc-icon ipc-icon--info\" fill=\"currentColor\" height=\"24\" role=\"presentation\" viewbox=\"0 0 24 24\" width=\"24\" xmlns=\"http://www.w3.org/2000/svg\"><path d=\"M0 0h24v24H0V0z\" fill=\"none\"></path><path d=\"M11 7h2v2h-2zm0 4h2v6h-2zm1-9C6.48 2 2 6.48 2 12s4.48 10 10 10 10-4.48 10-10S17.52 2 12 2zm0 18c-4.41 0-8-3.59-8-8s3.59-8 8-8 8 3.59 8 8-3.59 8-8 8z\"></path></svg></button></div></div><div class=\"sc-ab6fa25a-1 bBwFsP\"><div class=\"ipc-html-content ipc-html-content--base sc-ab6fa25a-0 bhexuD dli-plot-container\" role=\"presentation\"><div class=\"ipc-html-content-inner-div\">In a future where mutants are nearly extinct, an elderly and weary Logan leads a quiet life. But when Laura, a mutant child pursued by scientists, comes to him for help, he must get her to safety.</div></div></div></div></div>"
      ]
     },
     "execution_count": 128,
     "metadata": {},
     "output_type": "execute_result"
    }
   ],
   "source": [
    "first_movie.div"
   ]
  },
  {
   "cell_type": "code",
   "execution_count": 48,
   "id": "0ad9ab41-b48c-4861-a6b2-42702d258a48",
   "metadata": {},
   "outputs": [
    {
     "data": {
      "text/plain": [
       "<a aria-label=\"View title page for Logan\" class=\"ipc-lockup-overlay ipc-focusable\" href=\"/title/tt3315342/?ref_=sr_i_1\"><div class=\"ipc-lockup-overlay__screen\"></div></a>"
      ]
     },
     "execution_count": 48,
     "metadata": {},
     "output_type": "execute_result"
    }
   ],
   "source": [
    "first_movie.a"
   ]
  },
  {
   "cell_type": "code",
   "execution_count": 55,
   "id": "26c234b9-8fc0-4d2e-8e95-0b479a2cd657",
   "metadata": {},
   "outputs": [
    {
     "data": {
      "text/plain": [
       "<h3 class=\"ipc-title__text\">1. Logan</h3>"
      ]
     },
     "execution_count": 55,
     "metadata": {},
     "output_type": "execute_result"
    }
   ],
   "source": [
    "first_movie.h3"
   ]
  },
  {
   "cell_type": "code",
   "execution_count": 57,
   "id": "b7a26957-7ec3-40ad-b36d-c124c3dbfbee",
   "metadata": {},
   "outputs": [
    {
     "data": {
      "text/plain": [
       "'1. Logan'"
      ]
     },
     "execution_count": 57,
     "metadata": {},
     "output_type": "execute_result"
    }
   ],
   "source": [
    "first_name = first_movie.h3.text\n",
    "first_name"
   ]
  },
  {
   "cell_type": "code",
   "execution_count": 152,
   "id": "1092e76d-8627-4e25-9748-0c84954126ca",
   "metadata": {},
   "outputs": [
    {
     "data": {
      "text/plain": [
       "<span class=\"sc-b0691f29-8 ilsLEX dli-title-metadata-item\">2017</span>"
      ]
     },
     "execution_count": 152,
     "metadata": {},
     "output_type": "execute_result"
    }
   ],
   "source": [
    "first_year = first_movie.div.find('span', class_ = 'sc-b0691f29-8 ilsLEX dli-title-metadata-item')\n",
    "first_year"
   ]
  },
  {
   "cell_type": "code",
   "execution_count": 153,
   "id": "6f21dd8a-ab70-402b-bc47-375e63277e84",
   "metadata": {},
   "outputs": [
    {
     "data": {
      "text/plain": [
       "'2017'"
      ]
     },
     "execution_count": 153,
     "metadata": {},
     "output_type": "execute_result"
    }
   ],
   "source": [
    "first_year=first_year.text\n",
    "first_year"
   ]
  },
  {
   "cell_type": "code",
   "execution_count": 155,
   "id": "dcfa64d1-bfa8-4191-aa92-a83e1d522236",
   "metadata": {},
   "outputs": [
    {
     "data": {
      "text/plain": [
       "77"
      ]
     },
     "execution_count": 155,
     "metadata": {},
     "output_type": "execute_result"
    }
   ],
   "source": []
  },
  {
   "cell_type": "code",
   "execution_count": 122,
   "id": "88f8a12f-29bd-402f-bc94-6bb993112832",
   "metadata": {},
   "outputs": [
    {
     "name": "stdout",
     "output_type": "stream",
     "text": [
      "(827K)\n"
     ]
    }
   ],
   "source": [
    "first_votes = first_movie.find('span', class_ = 'ipc-rating-star--voteCount')\n",
    "votes_text = first_votes.text.strip() if first_votes else None\n",
    "\n",
    "print(votes_text)"
   ]
  },
  {
   "cell_type": "code",
   "execution_count": 148,
   "id": "09bf8fa5-1fb3-4aec-909f-f647e5ccea4c",
   "metadata": {},
   "outputs": [
    {
     "data": {
      "text/plain": [
       "''"
      ]
     },
     "execution_count": 148,
     "metadata": {},
     "output_type": "execute_result"
    }
   ],
   "source": [
    "first_movie.div.span.text"
   ]
  },
  {
   "cell_type": "code",
   "execution_count": null,
   "id": "4858b139-fc70-4717-9a5e-d44f62b15349",
   "metadata": {},
   "outputs": [],
   "source": [
    "# Lists to store the scraped data in\n",
    "names = []\n",
    "years = []\n",
    "metascores = []\n",
    "votes = []\n",
    "# Extract data from individual movie container\n",
    "\n",
    "# The name\n",
    "         name = movie_containers.h3.text\n",
    "         names.append(name)\n",
    "# The year\n",
    "         year1 = movie_containers.div.find('span', class_ = 'sc-b0691f29-8 ilsLEX dli-title-metadata-item')\n",
    "         year2 = year1.text\n",
    "         years.append(year2)\n",
    "# The Metascore\n",
    "         m_score = movie_containers.find('span', class_ = 'metascore').text\n",
    "         metascores.append(int(m_score))\n",
    "# The number of votes\n",
    "         vote = container.find('span', attrs = {'name':'nv'})['data-value']\n",
    "         votes.append(int(vote))\n",
    "import pandas as pd\n",
    "test_df = pd.DataFrame({'movie': names,\n",
    "'year': years,\n",
    "'metascore': metascores,\n",
    "'votes': votes\n",
    "})\n",
    "print(test_df.info())\n",
    "test_df"
   ]
  }
 ],
 "metadata": {
  "kernelspec": {
   "display_name": "Python 3 (ipykernel)",
   "language": "python",
   "name": "python3"
  },
  "language_info": {
   "codemirror_mode": {
    "name": "ipython",
    "version": 3
   },
   "file_extension": ".py",
   "mimetype": "text/x-python",
   "name": "python",
   "nbconvert_exporter": "python",
   "pygments_lexer": "ipython3",
   "version": "3.11.7"
  }
 },
 "nbformat": 4,
 "nbformat_minor": 5
}
